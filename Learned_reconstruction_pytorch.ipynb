{
  "cells": [
    {
      "cell_type": "markdown",
      "metadata": {
        "id": "lKIporRm0lZG"
      },
      "source": [
        "# Learned Reconstruction\n",
        "\n",
        "In inverse problems, we want to recover some signal $x$ from noisy measurements $y$ where we know the forward model $\\mathcal{T} : \\mathcal{X} \\to \\mathcal{Y}$\n",
        "$$\n",
        "    y = \\mathcal{T}(x) + e\n",
        "$$\n",
        "In machine learning for inverse problems we aim to find some operator $\\mathcal{T}_\\theta^\\dagger : \\mathcal{Y} \\to \\mathcal{X}$ that inverts this process\n",
        "$$\n",
        "    \\mathcal{T}_\\theta^\\dagger(y) \\approx x\n",
        "$$\n",
        "\n",
        "This notebook demonstrates how to use ODL to perform learned reconstruction of the famous MNIST dataset. We demonstrate three ways of doing this\n",
        "\n",
        "* Fully learned reconstruction\n",
        "* Learned post-processing\n",
        "* Learned iterative reconstruction\n",
        "\n",
        "and we also compare to FBP-based reconstruction.\n",
        "\n",
        "The results should be approximately\n",
        "\n",
        "| Method                 |  Mean Error  |\n",
        "|------------------------|----------|\n",
        "| FBP                    | 0.01694  |\n",
        "| Fully learned          | 0.00226  |\n",
        "| FBP + learned denoiser | 0.00260  |\n",
        "| Learned Iterative      | 0.005150 |\n",
        "\n",
        "Note that the examples in this notebook may take some time to run, approximately 10-15 minutes each can be expected on a reasonable laptop.\n",
        "\n",
        "**Note:** This is a pytorch port of [the notebook using tensorflow](part3_learned_reconstruction.ipynb) with reduced text, see the other notebook for more details."
      ]
    },
    {
      "cell_type": "code",
      "execution_count": 2,
      "metadata": {
        "colab": {
          "base_uri": "https://localhost:8080/"
        },
        "id": "zKcYb7jZebUk",
        "outputId": "edb88535-3a25-48fe-da2f-14f060e8d5ef"
      },
      "outputs": [
        {
          "output_type": "stream",
          "name": "stdout",
          "text": [
            "Collecting odl==1.0.0.dev0\n",
            "  Downloading https://www.uni-muenster.de/AMM/num/assets/odl-1.0.0.dev0-py2.py3-none-any.whl (764 kB)\n",
            "\u001b[2K     \u001b[90m━━━━━━━━━━━━━━━━━━━━━━━━━━━━━━━━━━━━━━━━\u001b[0m \u001b[32m764.7/764.7 kB\u001b[0m \u001b[31m877.2 kB/s\u001b[0m eta \u001b[36m0:00:00\u001b[0m\n",
            "\u001b[?25hRequirement already satisfied: setuptools>=65.6 in /usr/local/lib/python3.11/dist-packages (from odl==1.0.0.dev0) (75.1.0)\n",
            "Requirement already satisfied: future>=0.16 in /usr/local/lib/python3.11/dist-packages (from odl==1.0.0.dev0) (1.0.0)\n",
            "Requirement already satisfied: packaging>=17.0 in /usr/local/lib/python3.11/dist-packages (from odl==1.0.0.dev0) (24.2)\n",
            "Requirement already satisfied: numpy<1.27,>=1.19 in /usr/local/lib/python3.11/dist-packages (from odl==1.0.0.dev0) (1.26.4)\n",
            "Requirement already satisfied: scipy>=1.1 in /usr/local/lib/python3.11/dist-packages (from odl==1.0.0.dev0) (1.13.1)\n",
            "Requirement already satisfied: matplotlib>=3.4 in /usr/local/lib/python3.11/dist-packages (from odl==1.0.0.dev0) (3.10.0)\n",
            "Requirement already satisfied: contourpy>=1.0.1 in /usr/local/lib/python3.11/dist-packages (from matplotlib>=3.4->odl==1.0.0.dev0) (1.3.1)\n",
            "Requirement already satisfied: cycler>=0.10 in /usr/local/lib/python3.11/dist-packages (from matplotlib>=3.4->odl==1.0.0.dev0) (0.12.1)\n",
            "Requirement already satisfied: fonttools>=4.22.0 in /usr/local/lib/python3.11/dist-packages (from matplotlib>=3.4->odl==1.0.0.dev0) (4.56.0)\n",
            "Requirement already satisfied: kiwisolver>=1.3.1 in /usr/local/lib/python3.11/dist-packages (from matplotlib>=3.4->odl==1.0.0.dev0) (1.4.8)\n",
            "Requirement already satisfied: pillow>=8 in /usr/local/lib/python3.11/dist-packages (from matplotlib>=3.4->odl==1.0.0.dev0) (11.1.0)\n",
            "Requirement already satisfied: pyparsing>=2.3.1 in /usr/local/lib/python3.11/dist-packages (from matplotlib>=3.4->odl==1.0.0.dev0) (3.2.1)\n",
            "Requirement already satisfied: python-dateutil>=2.7 in /usr/local/lib/python3.11/dist-packages (from matplotlib>=3.4->odl==1.0.0.dev0) (2.8.2)\n",
            "Requirement already satisfied: six>=1.5 in /usr/local/lib/python3.11/dist-packages (from python-dateutil>=2.7->matplotlib>=3.4->odl==1.0.0.dev0) (1.17.0)\n",
            "Installing collected packages: odl\n",
            "Successfully installed odl-1.0.0.dev0\n",
            "Collecting torchmetrics\n",
            "  Downloading torchmetrics-1.6.1-py3-none-any.whl.metadata (21 kB)\n",
            "Requirement already satisfied: numpy>1.20.0 in /usr/local/lib/python3.11/dist-packages (from torchmetrics) (1.26.4)\n",
            "Requirement already satisfied: packaging>17.1 in /usr/local/lib/python3.11/dist-packages (from torchmetrics) (24.2)\n",
            "Requirement already satisfied: torch>=2.0.0 in /usr/local/lib/python3.11/dist-packages (from torchmetrics) (2.5.1+cu124)\n",
            "Collecting lightning-utilities>=0.8.0 (from torchmetrics)\n",
            "  Downloading lightning_utilities-0.12.0-py3-none-any.whl.metadata (5.6 kB)\n",
            "Requirement already satisfied: setuptools in /usr/local/lib/python3.11/dist-packages (from lightning-utilities>=0.8.0->torchmetrics) (75.1.0)\n",
            "Requirement already satisfied: typing_extensions in /usr/local/lib/python3.11/dist-packages (from lightning-utilities>=0.8.0->torchmetrics) (4.12.2)\n",
            "Requirement already satisfied: filelock in /usr/local/lib/python3.11/dist-packages (from torch>=2.0.0->torchmetrics) (3.17.0)\n",
            "Requirement already satisfied: networkx in /usr/local/lib/python3.11/dist-packages (from torch>=2.0.0->torchmetrics) (3.4.2)\n",
            "Requirement already satisfied: jinja2 in /usr/local/lib/python3.11/dist-packages (from torch>=2.0.0->torchmetrics) (3.1.5)\n",
            "Requirement already satisfied: fsspec in /usr/local/lib/python3.11/dist-packages (from torch>=2.0.0->torchmetrics) (2024.10.0)\n",
            "Collecting nvidia-cuda-nvrtc-cu12==12.4.127 (from torch>=2.0.0->torchmetrics)\n",
            "  Downloading nvidia_cuda_nvrtc_cu12-12.4.127-py3-none-manylinux2014_x86_64.whl.metadata (1.5 kB)\n",
            "Collecting nvidia-cuda-runtime-cu12==12.4.127 (from torch>=2.0.0->torchmetrics)\n",
            "  Downloading nvidia_cuda_runtime_cu12-12.4.127-py3-none-manylinux2014_x86_64.whl.metadata (1.5 kB)\n",
            "Collecting nvidia-cuda-cupti-cu12==12.4.127 (from torch>=2.0.0->torchmetrics)\n",
            "  Downloading nvidia_cuda_cupti_cu12-12.4.127-py3-none-manylinux2014_x86_64.whl.metadata (1.6 kB)\n",
            "Collecting nvidia-cudnn-cu12==9.1.0.70 (from torch>=2.0.0->torchmetrics)\n",
            "  Downloading nvidia_cudnn_cu12-9.1.0.70-py3-none-manylinux2014_x86_64.whl.metadata (1.6 kB)\n",
            "Collecting nvidia-cublas-cu12==12.4.5.8 (from torch>=2.0.0->torchmetrics)\n",
            "  Downloading nvidia_cublas_cu12-12.4.5.8-py3-none-manylinux2014_x86_64.whl.metadata (1.5 kB)\n",
            "Collecting nvidia-cufft-cu12==11.2.1.3 (from torch>=2.0.0->torchmetrics)\n",
            "  Downloading nvidia_cufft_cu12-11.2.1.3-py3-none-manylinux2014_x86_64.whl.metadata (1.5 kB)\n",
            "Collecting nvidia-curand-cu12==10.3.5.147 (from torch>=2.0.0->torchmetrics)\n",
            "  Downloading nvidia_curand_cu12-10.3.5.147-py3-none-manylinux2014_x86_64.whl.metadata (1.5 kB)\n",
            "Collecting nvidia-cusolver-cu12==11.6.1.9 (from torch>=2.0.0->torchmetrics)\n",
            "  Downloading nvidia_cusolver_cu12-11.6.1.9-py3-none-manylinux2014_x86_64.whl.metadata (1.6 kB)\n",
            "Collecting nvidia-cusparse-cu12==12.3.1.170 (from torch>=2.0.0->torchmetrics)\n",
            "  Downloading nvidia_cusparse_cu12-12.3.1.170-py3-none-manylinux2014_x86_64.whl.metadata (1.6 kB)\n",
            "Requirement already satisfied: nvidia-nccl-cu12==2.21.5 in /usr/local/lib/python3.11/dist-packages (from torch>=2.0.0->torchmetrics) (2.21.5)\n",
            "Requirement already satisfied: nvidia-nvtx-cu12==12.4.127 in /usr/local/lib/python3.11/dist-packages (from torch>=2.0.0->torchmetrics) (12.4.127)\n",
            "Collecting nvidia-nvjitlink-cu12==12.4.127 (from torch>=2.0.0->torchmetrics)\n",
            "  Downloading nvidia_nvjitlink_cu12-12.4.127-py3-none-manylinux2014_x86_64.whl.metadata (1.5 kB)\n",
            "Requirement already satisfied: triton==3.1.0 in /usr/local/lib/python3.11/dist-packages (from torch>=2.0.0->torchmetrics) (3.1.0)\n",
            "Requirement already satisfied: sympy==1.13.1 in /usr/local/lib/python3.11/dist-packages (from torch>=2.0.0->torchmetrics) (1.13.1)\n",
            "Requirement already satisfied: mpmath<1.4,>=1.1.0 in /usr/local/lib/python3.11/dist-packages (from sympy==1.13.1->torch>=2.0.0->torchmetrics) (1.3.0)\n",
            "Requirement already satisfied: MarkupSafe>=2.0 in /usr/local/lib/python3.11/dist-packages (from jinja2->torch>=2.0.0->torchmetrics) (3.0.2)\n",
            "Downloading torchmetrics-1.6.1-py3-none-any.whl (927 kB)\n",
            "\u001b[2K   \u001b[90m━━━━━━━━━━━━━━━━━━━━━━━━━━━━━━━━━━━━━━━━\u001b[0m \u001b[32m927.3/927.3 kB\u001b[0m \u001b[31m52.4 MB/s\u001b[0m eta \u001b[36m0:00:00\u001b[0m\n",
            "\u001b[?25hDownloading lightning_utilities-0.12.0-py3-none-any.whl (28 kB)\n",
            "Downloading nvidia_cublas_cu12-12.4.5.8-py3-none-manylinux2014_x86_64.whl (363.4 MB)\n",
            "\u001b[2K   \u001b[90m━━━━━━━━━━━━━━━━━━━━━━━━━━━━━━━━━━━━━━━━\u001b[0m \u001b[32m363.4/363.4 MB\u001b[0m \u001b[31m2.5 MB/s\u001b[0m eta \u001b[36m0:00:00\u001b[0m\n",
            "\u001b[?25hDownloading nvidia_cuda_cupti_cu12-12.4.127-py3-none-manylinux2014_x86_64.whl (13.8 MB)\n",
            "\u001b[2K   \u001b[90m━━━━━━━━━━━━━━━━━━━━━━━━━━━━━━━━━━━━━━━━\u001b[0m \u001b[32m13.8/13.8 MB\u001b[0m \u001b[31m96.0 MB/s\u001b[0m eta \u001b[36m0:00:00\u001b[0m\n",
            "\u001b[?25hDownloading nvidia_cuda_nvrtc_cu12-12.4.127-py3-none-manylinux2014_x86_64.whl (24.6 MB)\n",
            "\u001b[2K   \u001b[90m━━━━━━━━━━━━━━━━━━━━━━━━━━━━━━━━━━━━━━━━\u001b[0m \u001b[32m24.6/24.6 MB\u001b[0m \u001b[31m80.0 MB/s\u001b[0m eta \u001b[36m0:00:00\u001b[0m\n",
            "\u001b[?25hDownloading nvidia_cuda_runtime_cu12-12.4.127-py3-none-manylinux2014_x86_64.whl (883 kB)\n",
            "\u001b[2K   \u001b[90m━━━━━━━━━━━━━━━━━━━━━━━━━━━━━━━━━━━━━━━━\u001b[0m \u001b[32m883.7/883.7 kB\u001b[0m \u001b[31m54.3 MB/s\u001b[0m eta \u001b[36m0:00:00\u001b[0m\n",
            "\u001b[?25hDownloading nvidia_cudnn_cu12-9.1.0.70-py3-none-manylinux2014_x86_64.whl (664.8 MB)\n",
            "\u001b[2K   \u001b[90m━━━━━━━━━━━━━━━━━━━━━━━━━━━━━━━━━━━━━━━━\u001b[0m \u001b[32m664.8/664.8 MB\u001b[0m \u001b[31m1.6 MB/s\u001b[0m eta \u001b[36m0:00:00\u001b[0m\n",
            "\u001b[?25hDownloading nvidia_cufft_cu12-11.2.1.3-py3-none-manylinux2014_x86_64.whl (211.5 MB)\n",
            "\u001b[2K   \u001b[90m━━━━━━━━━━━━━━━━━━━━━━━━━━━━━━━━━━━━━━━━\u001b[0m \u001b[32m211.5/211.5 MB\u001b[0m \u001b[31m3.8 MB/s\u001b[0m eta \u001b[36m0:00:00\u001b[0m\n",
            "\u001b[?25hDownloading nvidia_curand_cu12-10.3.5.147-py3-none-manylinux2014_x86_64.whl (56.3 MB)\n",
            "\u001b[2K   \u001b[90m━━━━━━━━━━━━━━━━━━━━━━━━━━━━━━━━━━━━━━━━\u001b[0m \u001b[32m56.3/56.3 MB\u001b[0m \u001b[31m35.5 MB/s\u001b[0m eta \u001b[36m0:00:00\u001b[0m\n",
            "\u001b[?25hDownloading nvidia_cusolver_cu12-11.6.1.9-py3-none-manylinux2014_x86_64.whl (127.9 MB)\n",
            "\u001b[2K   \u001b[90m━━━━━━━━━━━━━━━━━━━━━━━━━━━━━━━━━━━━━━━━\u001b[0m \u001b[32m127.9/127.9 MB\u001b[0m \u001b[31m15.8 MB/s\u001b[0m eta \u001b[36m0:00:00\u001b[0m\n",
            "\u001b[?25hDownloading nvidia_cusparse_cu12-12.3.1.170-py3-none-manylinux2014_x86_64.whl (207.5 MB)\n",
            "\u001b[2K   \u001b[90m━━━━━━━━━━━━━━━━━━━━━━━━━━━━━━━━━━━━━━━━\u001b[0m \u001b[32m207.5/207.5 MB\u001b[0m \u001b[31m4.0 MB/s\u001b[0m eta \u001b[36m0:00:00\u001b[0m\n",
            "\u001b[?25hDownloading nvidia_nvjitlink_cu12-12.4.127-py3-none-manylinux2014_x86_64.whl (21.1 MB)\n",
            "\u001b[2K   \u001b[90m━━━━━━━━━━━━━━━━━━━━━━━━━━━━━━━━━━━━━━━━\u001b[0m \u001b[32m21.1/21.1 MB\u001b[0m \u001b[31m81.9 MB/s\u001b[0m eta \u001b[36m0:00:00\u001b[0m\n",
            "\u001b[?25hInstalling collected packages: nvidia-nvjitlink-cu12, nvidia-curand-cu12, nvidia-cufft-cu12, nvidia-cuda-runtime-cu12, nvidia-cuda-nvrtc-cu12, nvidia-cuda-cupti-cu12, nvidia-cublas-cu12, lightning-utilities, nvidia-cusparse-cu12, nvidia-cudnn-cu12, nvidia-cusolver-cu12, torchmetrics\n",
            "  Attempting uninstall: nvidia-nvjitlink-cu12\n",
            "    Found existing installation: nvidia-nvjitlink-cu12 12.5.82\n",
            "    Uninstalling nvidia-nvjitlink-cu12-12.5.82:\n",
            "      Successfully uninstalled nvidia-nvjitlink-cu12-12.5.82\n",
            "  Attempting uninstall: nvidia-curand-cu12\n",
            "    Found existing installation: nvidia-curand-cu12 10.3.6.82\n",
            "    Uninstalling nvidia-curand-cu12-10.3.6.82:\n",
            "      Successfully uninstalled nvidia-curand-cu12-10.3.6.82\n",
            "  Attempting uninstall: nvidia-cufft-cu12\n",
            "    Found existing installation: nvidia-cufft-cu12 11.2.3.61\n",
            "    Uninstalling nvidia-cufft-cu12-11.2.3.61:\n",
            "      Successfully uninstalled nvidia-cufft-cu12-11.2.3.61\n",
            "  Attempting uninstall: nvidia-cuda-runtime-cu12\n",
            "    Found existing installation: nvidia-cuda-runtime-cu12 12.5.82\n",
            "    Uninstalling nvidia-cuda-runtime-cu12-12.5.82:\n",
            "      Successfully uninstalled nvidia-cuda-runtime-cu12-12.5.82\n",
            "  Attempting uninstall: nvidia-cuda-nvrtc-cu12\n",
            "    Found existing installation: nvidia-cuda-nvrtc-cu12 12.5.82\n",
            "    Uninstalling nvidia-cuda-nvrtc-cu12-12.5.82:\n",
            "      Successfully uninstalled nvidia-cuda-nvrtc-cu12-12.5.82\n",
            "  Attempting uninstall: nvidia-cuda-cupti-cu12\n",
            "    Found existing installation: nvidia-cuda-cupti-cu12 12.5.82\n",
            "    Uninstalling nvidia-cuda-cupti-cu12-12.5.82:\n",
            "      Successfully uninstalled nvidia-cuda-cupti-cu12-12.5.82\n",
            "  Attempting uninstall: nvidia-cublas-cu12\n",
            "    Found existing installation: nvidia-cublas-cu12 12.5.3.2\n",
            "    Uninstalling nvidia-cublas-cu12-12.5.3.2:\n",
            "      Successfully uninstalled nvidia-cublas-cu12-12.5.3.2\n",
            "  Attempting uninstall: nvidia-cusparse-cu12\n",
            "    Found existing installation: nvidia-cusparse-cu12 12.5.1.3\n",
            "    Uninstalling nvidia-cusparse-cu12-12.5.1.3:\n",
            "      Successfully uninstalled nvidia-cusparse-cu12-12.5.1.3\n",
            "  Attempting uninstall: nvidia-cudnn-cu12\n",
            "    Found existing installation: nvidia-cudnn-cu12 9.3.0.75\n",
            "    Uninstalling nvidia-cudnn-cu12-9.3.0.75:\n",
            "      Successfully uninstalled nvidia-cudnn-cu12-9.3.0.75\n",
            "  Attempting uninstall: nvidia-cusolver-cu12\n",
            "    Found existing installation: nvidia-cusolver-cu12 11.6.3.83\n",
            "    Uninstalling nvidia-cusolver-cu12-11.6.3.83:\n",
            "      Successfully uninstalled nvidia-cusolver-cu12-11.6.3.83\n",
            "Successfully installed lightning-utilities-0.12.0 nvidia-cublas-cu12-12.4.5.8 nvidia-cuda-cupti-cu12-12.4.127 nvidia-cuda-nvrtc-cu12-12.4.127 nvidia-cuda-runtime-cu12-12.4.127 nvidia-cudnn-cu12-9.1.0.70 nvidia-cufft-cu12-11.2.1.3 nvidia-curand-cu12-10.3.5.147 nvidia-cusolver-cu12-11.6.1.9 nvidia-cusparse-cu12-12.3.1.170 nvidia-nvjitlink-cu12-12.4.127 torchmetrics-1.6.1\n"
          ]
        }
      ],
      "source": [
        "!pip install https://www.uni-muenster.de/AMM/num/assets/odl-1.0.0.dev0-py2.py3-none-any.whl\n",
        "!pip install torchmetrics"
      ]
    },
    {
      "cell_type": "code",
      "execution_count": 3,
      "metadata": {
        "colab": {
          "base_uri": "https://localhost:8080/"
        },
        "id": "b7XevCsA0lZK",
        "outputId": "a088f163-6ca2-4951-9c3f-2dd8f43fd8a4",
        "tags": []
      },
      "outputs": [
        {
          "output_type": "execute_result",
          "data": {
            "text/plain": [
              "<torch._C.Generator at 0x7a16c2cc7810>"
            ]
          },
          "metadata": {},
          "execution_count": 3
        }
      ],
      "source": [
        "%matplotlib inline\n",
        "from IPython.display import display, clear_output\n",
        "import matplotlib.pyplot as plt\n",
        "import odl\n",
        "from odl.contrib.torch import OperatorModule\n",
        "import torch\n",
        "from torch import nn, optim\n",
        "from torch.autograd import Variable\n",
        "import torch.nn.functional as F\n",
        "import torchvision\n",
        "from torchvision import datasets, transforms\n",
        "import pandas as pd  # For reading and writing CSV files\n",
        "from PIL import Image\n",
        "import numpy as np\n",
        "import os\n",
        "import csv\n",
        "import time\n",
        "# Custom module imports\n",
        "import models.aux_funs as maf\n",
        "import optimizers as op\n",
        "import regularizers as reg\n",
        "import utils.configuration as cf\n",
        "import train\n",
        "from models.ANN import FullRecoNet\n",
        "from models.AutoMap import AutoMap\n",
        "from models.iRadonMap import iRadonMap\n",
        "# Set random seed for reproducibility\n",
        "torch.manual_seed(123)\n"
      ]
    },
    {
      "cell_type": "code",
      "execution_count": 4,
      "metadata": {
        "colab": {
          "base_uri": "https://localhost:8080/"
        },
        "id": "Du26hDqte6NL",
        "outputId": "1ef243f1-90eb-4584-fee6-0de80d34bfdb"
      },
      "outputs": [
        {
          "output_type": "stream",
          "name": "stdout",
          "text": [
            "Mounted at /content/drive\n"
          ]
        }
      ],
      "source": [
        "from google.colab import drive\n",
        "drive.mount('/content/drive')"
      ]
    },
    {
      "cell_type": "code",
      "execution_count": 5,
      "metadata": {
        "id": "BcLL_pzQeUH3"
      },
      "outputs": [],
      "source": [
        "import shutil\n",
        "shutil.rmtree('./data/MNIST', ignore_errors=True)\n"
      ]
    },
    {
      "cell_type": "markdown",
      "metadata": {
        "id": "3tx9nNYc0lZN"
      },
      "source": [
        "## Get training and test data\n",
        "\n",
        "We create loaders for the MNIST data:"
      ]
    },
    {
      "cell_type": "code",
      "execution_count": 6,
      "metadata": {
        "colab": {
          "base_uri": "https://localhost:8080/"
        },
        "id": "LRviWYrw0lZO",
        "outputId": "9bdd434b-9b25-4f28-e057-32527a21a338",
        "tags": []
      },
      "outputs": [
        {
          "output_type": "stream",
          "name": "stdout",
          "text": [
            "Downloading http://yann.lecun.com/exdb/mnist/train-images-idx3-ubyte.gz\n",
            "Failed to download (trying next):\n",
            "HTTP Error 404: Not Found\n",
            "\n",
            "Downloading https://ossci-datasets.s3.amazonaws.com/mnist/train-images-idx3-ubyte.gz\n",
            "Downloading https://ossci-datasets.s3.amazonaws.com/mnist/train-images-idx3-ubyte.gz to ./data/MNIST/raw/train-images-idx3-ubyte.gz\n"
          ]
        },
        {
          "output_type": "stream",
          "name": "stderr",
          "text": [
            "100%|██████████| 9.91M/9.91M [00:01<00:00, 4.99MB/s]\n"
          ]
        },
        {
          "output_type": "stream",
          "name": "stdout",
          "text": [
            "Extracting ./data/MNIST/raw/train-images-idx3-ubyte.gz to ./data/MNIST/raw\n",
            "\n",
            "Downloading http://yann.lecun.com/exdb/mnist/train-labels-idx1-ubyte.gz\n",
            "Failed to download (trying next):\n",
            "HTTP Error 404: Not Found\n",
            "\n",
            "Downloading https://ossci-datasets.s3.amazonaws.com/mnist/train-labels-idx1-ubyte.gz\n",
            "Downloading https://ossci-datasets.s3.amazonaws.com/mnist/train-labels-idx1-ubyte.gz to ./data/MNIST/raw/train-labels-idx1-ubyte.gz\n"
          ]
        },
        {
          "output_type": "stream",
          "name": "stderr",
          "text": [
            "100%|██████████| 28.9k/28.9k [00:00<00:00, 65.5kB/s]\n"
          ]
        },
        {
          "output_type": "stream",
          "name": "stdout",
          "text": [
            "Extracting ./data/MNIST/raw/train-labels-idx1-ubyte.gz to ./data/MNIST/raw\n",
            "\n",
            "Downloading http://yann.lecun.com/exdb/mnist/t10k-images-idx3-ubyte.gz\n",
            "Failed to download (trying next):\n",
            "HTTP Error 404: Not Found\n",
            "\n",
            "Downloading https://ossci-datasets.s3.amazonaws.com/mnist/t10k-images-idx3-ubyte.gz\n",
            "Downloading https://ossci-datasets.s3.amazonaws.com/mnist/t10k-images-idx3-ubyte.gz to ./data/MNIST/raw/t10k-images-idx3-ubyte.gz\n"
          ]
        },
        {
          "output_type": "stream",
          "name": "stderr",
          "text": [
            "100%|██████████| 1.65M/1.65M [00:06<00:00, 242kB/s]\n"
          ]
        },
        {
          "output_type": "stream",
          "name": "stdout",
          "text": [
            "Extracting ./data/MNIST/raw/t10k-images-idx3-ubyte.gz to ./data/MNIST/raw\n",
            "\n",
            "Downloading http://yann.lecun.com/exdb/mnist/t10k-labels-idx1-ubyte.gz\n",
            "Failed to download (trying next):\n",
            "HTTP Error 404: Not Found\n",
            "\n",
            "Downloading https://ossci-datasets.s3.amazonaws.com/mnist/t10k-labels-idx1-ubyte.gz\n",
            "Downloading https://ossci-datasets.s3.amazonaws.com/mnist/t10k-labels-idx1-ubyte.gz to ./data/MNIST/raw/t10k-labels-idx1-ubyte.gz\n"
          ]
        },
        {
          "output_type": "stream",
          "name": "stderr",
          "text": [
            "100%|██████████| 4.54k/4.54k [00:00<00:00, 9.25MB/s]"
          ]
        },
        {
          "output_type": "stream",
          "name": "stdout",
          "text": [
            "Extracting ./data/MNIST/raw/t10k-labels-idx1-ubyte.gz to ./data/MNIST/raw\n",
            "\n",
            "Train dataset size: 8000\n",
            "Validation dataset size: 2000\n",
            "Test dataset size: 2000\n"
          ]
        },
        {
          "output_type": "stream",
          "name": "stderr",
          "text": [
            "\n"
          ]
        }
      ],
      "source": [
        "from torch.utils.data import random_split\n",
        "from torchvision import datasets, transforms\n",
        "import torch\n",
        "\n",
        "# Define the desired total subset size (e.g., 600 samples)\n",
        "total_subset_size = 10000  # Total samples for the subset (train + validation)\n",
        "train_val_split = [8000, 2000]  # Split subset into 500 for training, 100 for validation\n",
        "test_subset_size = 2000  # Define a similar subset size for the test set\n",
        "\n",
        "# Define transformations: convert to Tensor and normalize\n",
        "trafo = transforms.Compose([\n",
        "    transforms.ToTensor(),\n",
        "    transforms.Normalize((0.1307,), (0.3081,)),  # Normalization based on MNIST mean and std dev\n",
        "])\n",
        "\n",
        "# Load the MNIST dataset for training and validation\n",
        "dset_train_val = datasets.MNIST('./data', train=True, download=True, transform=trafo)\n",
        "\n",
        "# Step 1: Subset the original dataset to a smaller size (600 samples in total)\n",
        "subset_train_val, _ = random_split(dset_train_val, [total_subset_size, len(dset_train_val) - total_subset_size])\n",
        "\n",
        "# Step 2: Further split the smaller subset into training and validation sets\n",
        "train_dataset, val_dataset = random_split(subset_train_val, train_val_split)\n",
        "\n",
        "# Data loaders for training and validation using the smaller dataset\n",
        "train_loader = torch.utils.data.DataLoader(train_dataset, batch_size=50, shuffle=True)\n",
        "val_loader = torch.utils.data.DataLoader(val_dataset, batch_size=50, shuffle=True)\n",
        "\n",
        "# Load the MNIST dataset for testing\n",
        "dset_test = datasets.MNIST('./data', train=False, transform=trafo)\n",
        "\n",
        "# Step 3: Subset the test set\n",
        "test_subset, _ = random_split(dset_test, [test_subset_size, len(dset_test) - test_subset_size])\n",
        "test_loader = torch.utils.data.DataLoader(test_subset, batch_size=50, shuffle=True)\n",
        "\n",
        "print(f'Train dataset size: {len(train_dataset)}')\n",
        "print(f'Validation dataset size: {len(val_dataset)}')\n",
        "print(f'Test dataset size: {len(test_subset)}')\n"
      ]
    },
    {
      "cell_type": "markdown",
      "metadata": {
        "id": "Mq1zmsDX0lZP"
      },
      "source": [
        "## Create ODL objects\n",
        "\n",
        "We initialize the ray transform on a space suitable for the MNIST images. We also create a filtered backprojection (FBP) operator for comparison, and for the FBP denoising net later on:"
      ]
    },
    {
      "cell_type": "code",
      "execution_count": 35,
      "metadata": {
        "id": "vmgoj1wR0lZQ",
        "tags": []
      },
      "outputs": [],
      "source": [
        "space = odl.uniform_discr([-14, -14], [14, 14], [28, 28], dtype='float32')\n",
        "geometry = odl.tomo.parallel_beam_geometry(space, num_angles=360)\n",
        "fwd_op = odl.tomo.RayTransform(space, geometry)\n",
        "fbp_op = odl.tomo.fbp_op(fwd_op)"
      ]
    },
    {
      "cell_type": "markdown",
      "metadata": {
        "id": "xkyufCVl0lZR"
      },
      "source": [
        "## Make pytorch `Module`s from ODL operators\n",
        "\n",
        "For use in our neural networks, we create pytorch modules from the above operators. For this we use the `OperatorAsModule` class from `odl.contrib.torch`. It implements automatic differentiation as required for backpropagation in pytorch, and it supports extra batch and channel axes."
      ]
    },
    {
      "cell_type": "code",
      "execution_count": 36,
      "metadata": {
        "id": "zARjRjv_0lZS",
        "tags": []
      },
      "outputs": [],
      "source": [
        "fwd_op_mod = OperatorModule(fwd_op)\n",
        "fwd_op_adj_mod = OperatorModule(fwd_op.adjoint)\n",
        "fbp_op_mod = OperatorModule(fbp_op)"
      ]
    },
    {
      "cell_type": "markdown",
      "metadata": {
        "id": "7vBoX-nF0lZT"
      },
      "source": [
        "## Some helper functions\n",
        "\n",
        "For the generation of noisy projection data and for visualization of the results we use the following helpers:"
      ]
    },
    {
      "cell_type": "code",
      "execution_count": 37,
      "metadata": {
        "id": "Sf-K92Sn0lZU",
        "tags": []
      },
      "outputs": [],
      "source": [
        "def generate_data(images):\n",
        "    \"\"\"Create noisy projection data from images.\n",
        "\n",
        "    The data is generated according to ::\n",
        "\n",
        "        data = fwd_op(images) + noise\n",
        "\n",
        "    where ``noise`` is standard white noise.\n",
        "\n",
        "    Parameters\n",
        "    ----------\n",
        "    images : `Variable`, shape ``(B, C, 28, 28)``\n",
        "        Input images for the data generation.\n",
        "\n",
        "    Returns\n",
        "    -------\n",
        "    data : `Variable`, shape ``(B, C, 5, 41)``\n",
        "        Projection data stack.\n",
        "    \"\"\"\n",
        "    torch.manual_seed(123)\n",
        "    data = fwd_op_mod(images)\n",
        "    data += Variable(torch.randn(data.shape)).type_as(data)\n",
        "    return data\n",
        "\n",
        "\n",
        "def show_image_matrix(image_batches, titles=None, indices=None, **kwargs):\n",
        "    \"\"\"Visualize a 2D set of images arranged in a grid.\n",
        "\n",
        "    This function shows a 2D grid of images, where the i-th column\n",
        "    shows images from the i-th batch. The typical use case is to compare\n",
        "    results of different approaches with the same data, or to compare\n",
        "    against a ground truth.\n",
        "\n",
        "    Parameters\n",
        "    ----------\n",
        "    image_batches : sequence of `Tensor` or `Variable`\n",
        "        List containing batches of images that should be displayed.\n",
        "        Each tensor should have the same shape after squeezing, except\n",
        "        for the batch axis.\n",
        "    titles : sequence of str, optional\n",
        "        Titles for the colums in the plot. By default, titles are empty.\n",
        "    indices : sequence of int, optional\n",
        "        Object to select the subset of the images that should be shown.\n",
        "        The subsets are determined by slicing along the batch axis, i.e.,\n",
        "        as ``displayed = image_batch[indices]``. The default is to show\n",
        "        everything.\n",
        "    kwargs :\n",
        "        Further keyword arguments that are passed on to the Matplotlib\n",
        "        ``imshow`` function.\n",
        "    \"\"\"\n",
        "    import matplotlib.pyplot as plt\n",
        "\n",
        "    if indices is None:\n",
        "        displayed_batches = image_batches\n",
        "    else:\n",
        "        displayed_batches = [batch[indices] for batch in image_batches]\n",
        "\n",
        "    displayed_batches = [batch.data if isinstance(batch, Variable) else batch\n",
        "                         for batch in displayed_batches]\n",
        "\n",
        "    nrows = len(displayed_batches[0])\n",
        "    ncols = len(displayed_batches)\n",
        "\n",
        "    if titles is None:\n",
        "        titles = [''] * ncols\n",
        "\n",
        "    figsize = 2\n",
        "    fig, rows = plt.subplots(\n",
        "        nrows, ncols, sharex=True, sharey=True,\n",
        "        figsize=(ncols * figsize, figsize * nrows))\n",
        "\n",
        "    if nrows == 1:\n",
        "        rows = [rows]\n",
        "\n",
        "    for i, row in enumerate(rows):\n",
        "        if ncols == 1:\n",
        "            row = [row]\n",
        "        for name, batch, ax in zip(titles, displayed_batches, row):\n",
        "            if i == 0:\n",
        "                ax.set_title(name)\n",
        "            ax.imshow(batch[i].squeeze(), **kwargs)\n",
        "            ax.set_axis_off()\n",
        "    plt.show()"
      ]
    },
    {
      "cell_type": "markdown",
      "metadata": {
        "id": "KYjONp2_0lZV"
      },
      "source": [
        "## Generate test data\n",
        "\n",
        "We take one batch from the test dataset and generate the corresponding test projection data for validation:"
      ]
    },
    {
      "cell_type": "code",
      "execution_count": 38,
      "metadata": {
        "id": "-87Ja9BE0lZX",
        "tags": []
      },
      "outputs": [],
      "source": [
        "# Get a batch of test images and generate test projection data\n",
        "for i, (images, _) in enumerate(test_loader):\n",
        "    if i == 1:\n",
        "        break\n",
        "\n",
        "test_images = Variable(images)\n",
        "test_data = generate_data(test_images)"
      ]
    },
    {
      "cell_type": "markdown",
      "metadata": {
        "id": "U0w98PpQ0lZY"
      },
      "source": [
        "## FBP reconstruction\n",
        "\n",
        "First we make a simple FBP reconstruction and compare it to the ground truth."
      ]
    },
    {
      "cell_type": "code",
      "execution_count": 39,
      "metadata": {
        "colab": {
          "base_uri": "https://localhost:8080/",
          "height": 1000
        },
        "id": "DFqetiHk0lZZ",
        "outputId": "c52670f8-5326-4734-ee99-6e114ce2397a",
        "tags": []
      },
      "outputs": [
        {
          "output_type": "stream",
          "name": "stdout",
          "text": [
            "Average error: tensor(0.0021)\n"
          ]
        },
        {
          "output_type": "display_data",
          "data": {
            "text/plain": [
              "<Figure size 400x2000 with 20 Axes>"
            ],
            "image/png": "[encoded data removed]"
          },
          "metadata": {}
        }
      ],
      "source": [
        "fbp_recos = fbp_op_mod(test_data)\n",
        "print('Average error:', F.mse_loss(fbp_recos, test_images).data / len(test_images))\n",
        "\n",
        "# Display examples\n",
        "results = [test_images, fbp_recos]\n",
        "titles = ['Truth', 'FBP']\n",
        "show_image_matrix(results, titles, indices=slice(10, 20), clim=[0, 1], cmap='bone')"
      ]
    },
    {
      "cell_type": "markdown",
      "metadata": {
        "id": "9t9Eq7D50lZa"
      },
      "source": [
        "##Learned reconstruction"
      ]
    },
    {
      "cell_type": "code",
      "execution_count": 40,
      "metadata": {
        "id": "LUvSJKqJeUH5"
      },
      "outputs": [],
      "source": [
        "conf_args = {\n",
        "    # optimizer\n",
        "    'delta':1.0, 'lr':0.01, 'lamda_0':0.01, 'lamda_1':0.0, 'optim':\"L1SGD\", 'conv_group':True,\n",
        "    'beta':0.0,\n",
        "    # initialization\n",
        "    'sparse_init':0.4, 'r':[5.,5., 5.],\n",
        "    #training\n",
        "    'epochs': 30, 'loss_train': nn.MSELoss(), 'loss_test': nn.MSELoss(),\n",
        "}\n",
        "\n",
        "conf = cf.Conf(**conf_args)\n"
      ]
    },
    {
      "cell_type": "code",
      "source": [
        "model = FullRecoNet(input_size=360*41)\n"
      ],
      "metadata": {
        "id": "AYSWpHuXgEpZ"
      },
      "execution_count": 42,
      "outputs": []
    },
    {
      "cell_type": "code",
      "execution_count": 43,
      "metadata": {
        "colab": {
          "base_uri": "https://localhost:8080/"
        },
        "id": "-50K3AB6tB-i",
        "outputId": "c17f68f8-5099-4394-8f62-cf7c89cfdcac"
      },
      "outputs": [
        {
          "output_type": "stream",
          "name": "stdout",
          "text": [
            "net_sparse 0.4001540249208861\n"
          ]
        }
      ],
      "source": [
        "def init_weights(model):\n",
        "    # sparsify\n",
        "    maf.sparse_bias_uniform_(model, 0.1, 0.1, ltype=torch.nn.Linear)\n",
        "    maf.sparse_bias_uniform_(model, 0, 0.1, ltype=torch.nn.Conv2d)\n",
        "    maf.sparse_weight_normal_(model, 0.1, ltype=torch.nn.Linear)\n",
        "    maf.sparsify_(model, conf.sparse_init, ltype=nn.Linear, conv_group=False)\n",
        "    maf.sparse_weight_normal_(model, 0.1, ltype=torch.nn.Conv2d)\n",
        "    maf.sparsify_(model, 0.4, ltype=nn.Conv2d, conv_group=conf.conv_group)\n",
        "    return model\n",
        "\n",
        "# initialize the model\n",
        "model1=init_weights(model)\n",
        "\n",
        "print('net_sparse', maf.net_sparsity(model1))"
      ]
    },
    {
      "cell_type": "code",
      "execution_count": 44,
      "metadata": {
        "id": "bbpLyaqD0lZd",
        "tags": []
      },
      "outputs": [],
      "source": [
        "def init_opt(conf, model):\n",
        "    # -----------------------------------------------------------------------------------\n",
        "    # Get access to different model parameters\n",
        "    # -----------------------------------------------------------------------------------\n",
        "    weights_conv = maf.get_weights_conv(model)\n",
        "    weights_linear = maf.get_weights_linear(model)\n",
        "    biases = maf.get_bias(model)\n",
        "\n",
        "    # -----------------------------------------------------------------------------------\n",
        "    # Initialize optimizer\n",
        "    # -----------------------------------------------------------------------------------\n",
        "    if conf.conv_group:\n",
        "        reg2 = reg.reg_l1_l1_l2_conv(lamda0=conf.lamda_0, lamda1=conf.lamda_1)\n",
        "    else:\n",
        "        reg2 = reg.reg_l1(lamda=conf.lamda_0)\n",
        "\n",
        "    if conf.optim == \"SGD\":\n",
        "        opt = torch.optim.SGD(model.parameters(), lr=conf.lr, momentum=conf.beta, weight_decay=conf.lamda_1)\n",
        "    elif conf.optim == \"LinBreg\":\n",
        "        opt = op.LinBreg([{'params': weights_conv, 'lr' : conf.lr, 'reg' : reg2, 'momentum':conf.beta,'delta':conf.delta},\n",
        "                          {'params': weights_linear, 'lr' : conf.lr, 'reg' : reg.reg_l1(lamda=conf.lamda_1), 'momentum':conf.beta,'delta':conf.delta},\n",
        "                          {'params': biases, 'lr': conf.lr, 'momentum':conf.beta}])\n",
        "    elif conf.optim == \"L1SGD\":\n",
        "        def weight_reg(model):\n",
        "            reg1 =  reg.reg_l1(lamda=conf.lamda_1)\n",
        "\n",
        "            loss1 = reg1(model.layers2[0].weight) + reg1(model.layers2[2].weight)\n",
        "            loss2 = reg2(model.layers1[0].weight) + reg2(model.layers1[3].weight)\n",
        "            return loss1 + loss2\n",
        "\n",
        "        conf.weight_reg = weight_reg\n",
        "\n",
        "        opt = torch.optim.SGD(model.parameters(), lr=conf.lr, momentum=conf.beta)\n",
        "    else:\n",
        "        raise ValueError(\"Unknown Optimizer specified\")\n",
        "\n",
        "    # learning rate scheduler\n",
        "    scheduler = torch.optim.lr_scheduler.ReduceLROnPlateau(opt, factor=0.7, patience=10,threshold=0.0001)\n",
        "\n",
        "    return opt, scheduler\n"
      ]
    },
    {
      "cell_type": "code",
      "execution_count": 45,
      "metadata": {
        "id": "d6fDIzfZ38lj"
      },
      "outputs": [],
      "source": [
        "# Lists to store results for later saving\n",
        "epoch_list = []\n",
        "val_loss_list = []\n",
        "sparsity_list = []\n",
        "\n",
        "# Formatted directory structure\n",
        "save_path = os.path.join(\n",
        "    'ANN360PROJECTION',\n",
        "    f\"lr_{conf.lr}_l0_{conf.lamda_0}_l1_{conf.lamda_1}_{conf.optim}\"\n",
        ")\n",
        "os.makedirs(save_path, exist_ok=True)\n",
        "\n",
        "# File paths for storing results\n",
        "net_sparsity_path = os.path.join(save_path, \"net_sparsity.csv\")\n",
        "validation_loss_path = os.path.join(save_path, \"validation_loss.csv\")\n",
        "\n",
        "def save_epoch_results(epoch, val_data, train_time):\n",
        "    \"\"\"\n",
        "    Save validation results for each epoch to CSV files.\n",
        "    \"\"\"\n",
        "    def write_csv(file_path, headers, row):\n",
        "        file_exists = os.path.isfile(file_path)\n",
        "        with open(file_path, mode='a', newline='') as file:\n",
        "            writer = csv.writer(file)\n",
        "            if not file_exists:\n",
        "                writer.writerow(headers)\n",
        "            writer.writerow(row)\n",
        "\n",
        "    write_csv(net_sparsity_path, [\"Epoch\", \"Net Sparsity\"], [epoch, val_data['Net Sparsity']])\n",
        "    write_csv(validation_loss_path, [\"Epoch\", \"Validation Loss\"], [epoch, val_data['validation_loss']])"
      ]
    },
    {
      "cell_type": "code",
      "execution_count": 46,
      "metadata": {
        "colab": {
          "base_uri": "https://localhost:8080/",
          "height": 1000
        },
        "id": "4wjipZtIqJZu",
        "outputId": "efdd2518-2d7e-40fa-b9a6-380a771eb32e"
      },
      "outputs": [
        {
          "output_type": "stream",
          "name": "stdout",
          "text": [
            "Train Epoch: 1 | Average Loss: 0.812436 | Net Sparsity: 0.9994110957278481\n",
            "Validation Epoch: 1 | Learning Rate: 0.010000 | Average Loss: 0.673813\n",
            "Train Epoch: 2 | Average Loss: 0.669409 | Net Sparsity: 0.9994246934335443\n",
            "Validation Epoch: 2 | Learning Rate: 0.010000 | Average Loss: 0.648506\n",
            "Train Epoch: 3 | Average Loss: 0.624984 | Net Sparsity: 0.9995779766613924\n",
            "Validation Epoch: 3 | Learning Rate: 0.010000 | Average Loss: 0.601103\n",
            "Train Epoch: 4 | Average Loss: 0.579106 | Net Sparsity: 0.9996167919303798\n",
            "Validation Epoch: 4 | Learning Rate: 0.010000 | Average Loss: 0.543761\n",
            "Train Epoch: 5 | Average Loss: 0.515832 | Net Sparsity: 0.9997690862341773\n",
            "Validation Epoch: 5 | Learning Rate: 0.010000 | Average Loss: 0.489216\n",
            "Train Epoch: 6 | Average Loss: 0.476941 | Net Sparsity: 0.9997809533227848\n",
            "Validation Epoch: 6 | Learning Rate: 0.010000 | Average Loss: 0.463583\n",
            "Train Epoch: 7 | Average Loss: 0.452783 | Net Sparsity: 0.9997839200949367\n",
            "Validation Epoch: 7 | Learning Rate: 0.010000 | Average Loss: 0.438195\n",
            "Train Epoch: 8 | Average Loss: 0.427155 | Net Sparsity: 0.9997861451740506\n",
            "Validation Epoch: 8 | Learning Rate: 0.010000 | Average Loss: 0.414813\n",
            "Train Epoch: 9 | Average Loss: 0.406883 | Net Sparsity: 0.9997886174841772\n",
            "Validation Epoch: 9 | Learning Rate: 0.010000 | Average Loss: 0.396656\n",
            "Train Epoch: 10 | Average Loss: 0.390320 | Net Sparsity: 0.9997905953322784\n",
            "Validation Epoch: 10 | Learning Rate: 0.010000 | Average Loss: 0.381272\n",
            "Train Epoch: 11 | Average Loss: 0.376055 | Net Sparsity: 0.9997918314873417\n",
            "Validation Epoch: 11 | Learning Rate: 0.010000 | Average Loss: 0.368274\n",
            "Train Epoch: 12 | Average Loss: 0.364096 | Net Sparsity: 0.9997933148734177\n",
            "Validation Epoch: 12 | Learning Rate: 0.010000 | Average Loss: 0.357335\n",
            "Train Epoch: 13 | Average Loss: 0.353738 | Net Sparsity: 0.999794551028481\n",
            "Validation Epoch: 13 | Learning Rate: 0.010000 | Average Loss: 0.347486\n",
            "Train Epoch: 14 | Average Loss: 0.344405 | Net Sparsity: 0.9997950454905064\n",
            "Validation Epoch: 14 | Learning Rate: 0.010000 | Average Loss: 0.338518\n",
            "Train Epoch: 15 | Average Loss: 0.335716 | Net Sparsity: 0.9997957871835443\n",
            "Validation Epoch: 15 | Learning Rate: 0.010000 | Average Loss: 0.329997\n",
            "Train Epoch: 16 | Average Loss: 0.327353 | Net Sparsity: 0.9997965288765823\n",
            "Validation Epoch: 16 | Learning Rate: 0.010000 | Average Loss: 0.321821\n",
            "Train Epoch: 17 | Average Loss: 0.319412 | Net Sparsity: 0.999796776107595\n",
            "Validation Epoch: 17 | Learning Rate: 0.010000 | Average Loss: 0.314220\n",
            "Train Epoch: 18 | Average Loss: 0.312109 | Net Sparsity: 0.9997972705696202\n",
            "Validation Epoch: 18 | Learning Rate: 0.010000 | Average Loss: 0.307283\n",
            "Train Epoch: 19 | Average Loss: 0.305328 | Net Sparsity: 0.9998012262658228\n",
            "Validation Epoch: 19 | Learning Rate: 0.010000 | Average Loss: 0.300697\n",
            "Train Epoch: 20 | Average Loss: 0.298731 | Net Sparsity: 0.9998012262658228\n",
            "Validation Epoch: 20 | Learning Rate: 0.010000 | Average Loss: 0.294175\n",
            "Train Epoch: 21 | Average Loss: 0.292207 | Net Sparsity: 0.9998017207278481\n",
            "Validation Epoch: 21 | Learning Rate: 0.010000 | Average Loss: 0.287801\n"
          ]
        },
        {
          "output_type": "error",
          "ename": "KeyboardInterrupt",
          "evalue": "",
          "traceback": [
            "\u001b[0;31m---------------------------------------------------------------------------\u001b[0m",
            "\u001b[0;31mKeyboardInterrupt\u001b[0m                         Traceback (most recent call last)",
            "\u001b[0;32m<ipython-input-46-da8c8a68561a>\u001b[0m in \u001b[0;36m<cell line: 0>\u001b[0;34m()\u001b[0m\n\u001b[1;32m     38\u001b[0m \u001b[0;31m# Main training loop\u001b[0m\u001b[0;34m\u001b[0m\u001b[0;34m\u001b[0m\u001b[0m\n\u001b[1;32m     39\u001b[0m \u001b[0;32mfor\u001b[0m \u001b[0mepoch\u001b[0m \u001b[0;32min\u001b[0m \u001b[0mrange\u001b[0m\u001b[0;34m(\u001b[0m\u001b[0;36m1\u001b[0m\u001b[0;34m,\u001b[0m \u001b[0mepochs\u001b[0m \u001b[0;34m+\u001b[0m \u001b[0;36m1\u001b[0m\u001b[0;34m)\u001b[0m\u001b[0;34m:\u001b[0m\u001b[0;34m\u001b[0m\u001b[0;34m\u001b[0m\u001b[0m\n\u001b[0;32m---> 40\u001b[0;31m     \u001b[0mtrain_time\u001b[0m \u001b[0;34m=\u001b[0m \u001b[0mtrain\u001b[0m\u001b[0;34m(\u001b[0m\u001b[0mepoch\u001b[0m\u001b[0;34m)\u001b[0m\u001b[0;34m\u001b[0m\u001b[0;34m\u001b[0m\u001b[0m\n\u001b[0m\u001b[1;32m     41\u001b[0m     \u001b[0mavg_val_loss\u001b[0m \u001b[0;34m=\u001b[0m \u001b[0mvalidate\u001b[0m\u001b[0;34m(\u001b[0m\u001b[0mepoch\u001b[0m\u001b[0;34m)\u001b[0m\u001b[0;34m\u001b[0m\u001b[0;34m\u001b[0m\u001b[0m\n\u001b[1;32m     42\u001b[0m \u001b[0;34m\u001b[0m\u001b[0m\n",
            "\u001b[0;32m<ipython-input-46-da8c8a68561a>\u001b[0m in \u001b[0;36mtrain\u001b[0;34m(epoch)\u001b[0m\n\u001b[1;32m      8\u001b[0m     \u001b[0;32mfor\u001b[0m \u001b[0mbatch_idx\u001b[0m\u001b[0;34m,\u001b[0m \u001b[0;34m(\u001b[0m\u001b[0mimages\u001b[0m\u001b[0;34m,\u001b[0m \u001b[0m_\u001b[0m\u001b[0;34m)\u001b[0m \u001b[0;32min\u001b[0m \u001b[0menumerate\u001b[0m\u001b[0;34m(\u001b[0m\u001b[0mtrain_loader\u001b[0m\u001b[0;34m)\u001b[0m\u001b[0;34m:\u001b[0m\u001b[0;34m\u001b[0m\u001b[0;34m\u001b[0m\u001b[0m\n\u001b[1;32m      9\u001b[0m         \u001b[0mimages\u001b[0m \u001b[0;34m=\u001b[0m \u001b[0mVariable\u001b[0m\u001b[0;34m(\u001b[0m\u001b[0mimages\u001b[0m\u001b[0;34m)\u001b[0m\u001b[0;34m\u001b[0m\u001b[0;34m\u001b[0m\u001b[0m\n\u001b[0;32m---> 10\u001b[0;31m         \u001b[0mprojs\u001b[0m \u001b[0;34m=\u001b[0m \u001b[0mgenerate_data\u001b[0m\u001b[0;34m(\u001b[0m\u001b[0mimages\u001b[0m\u001b[0;34m)\u001b[0m\u001b[0;34m\u001b[0m\u001b[0;34m\u001b[0m\u001b[0m\n\u001b[0m\u001b[1;32m     11\u001b[0m         \u001b[0moptimizer\u001b[0m\u001b[0;34m.\u001b[0m\u001b[0mzero_grad\u001b[0m\u001b[0;34m(\u001b[0m\u001b[0;34m)\u001b[0m\u001b[0;34m\u001b[0m\u001b[0;34m\u001b[0m\u001b[0m\n\u001b[1;32m     12\u001b[0m         \u001b[0moutput\u001b[0m \u001b[0;34m=\u001b[0m \u001b[0mmodel1\u001b[0m\u001b[0;34m(\u001b[0m\u001b[0mprojs\u001b[0m\u001b[0;34m)\u001b[0m\u001b[0;34m\u001b[0m\u001b[0;34m\u001b[0m\u001b[0m\n",
            "\u001b[0;32m<ipython-input-37-942a02e9804f>\u001b[0m in \u001b[0;36mgenerate_data\u001b[0;34m(images)\u001b[0m\n\u001b[1;32m     19\u001b[0m     \"\"\"\n\u001b[1;32m     20\u001b[0m     \u001b[0mtorch\u001b[0m\u001b[0;34m.\u001b[0m\u001b[0mmanual_seed\u001b[0m\u001b[0;34m(\u001b[0m\u001b[0;36m123\u001b[0m\u001b[0;34m)\u001b[0m\u001b[0;34m\u001b[0m\u001b[0;34m\u001b[0m\u001b[0m\n\u001b[0;32m---> 21\u001b[0;31m     \u001b[0mdata\u001b[0m \u001b[0;34m=\u001b[0m \u001b[0mfwd_op_mod\u001b[0m\u001b[0;34m(\u001b[0m\u001b[0mimages\u001b[0m\u001b[0;34m)\u001b[0m\u001b[0;34m\u001b[0m\u001b[0;34m\u001b[0m\u001b[0m\n\u001b[0m\u001b[1;32m     22\u001b[0m     \u001b[0mdata\u001b[0m \u001b[0;34m+=\u001b[0m \u001b[0mVariable\u001b[0m\u001b[0;34m(\u001b[0m\u001b[0mtorch\u001b[0m\u001b[0;34m.\u001b[0m\u001b[0mrandn\u001b[0m\u001b[0;34m(\u001b[0m\u001b[0mdata\u001b[0m\u001b[0;34m.\u001b[0m\u001b[0mshape\u001b[0m\u001b[0;34m)\u001b[0m\u001b[0;34m)\u001b[0m\u001b[0;34m.\u001b[0m\u001b[0mtype_as\u001b[0m\u001b[0;34m(\u001b[0m\u001b[0mdata\u001b[0m\u001b[0;34m)\u001b[0m\u001b[0;34m\u001b[0m\u001b[0;34m\u001b[0m\u001b[0m\n\u001b[1;32m     23\u001b[0m     \u001b[0;32mreturn\u001b[0m \u001b[0mdata\u001b[0m\u001b[0;34m\u001b[0m\u001b[0;34m\u001b[0m\u001b[0m\n",
            "\u001b[0;32m/usr/local/lib/python3.11/dist-packages/torch/nn/modules/module.py\u001b[0m in \u001b[0;36m_wrapped_call_impl\u001b[0;34m(self, *args, **kwargs)\u001b[0m\n\u001b[1;32m   1734\u001b[0m             \u001b[0;32mreturn\u001b[0m \u001b[0mself\u001b[0m\u001b[0;34m.\u001b[0m\u001b[0m_compiled_call_impl\u001b[0m\u001b[0;34m(\u001b[0m\u001b[0;34m*\u001b[0m\u001b[0margs\u001b[0m\u001b[0;34m,\u001b[0m \u001b[0;34m**\u001b[0m\u001b[0mkwargs\u001b[0m\u001b[0;34m)\u001b[0m  \u001b[0;31m# type: ignore[misc]\u001b[0m\u001b[0;34m\u001b[0m\u001b[0;34m\u001b[0m\u001b[0m\n\u001b[1;32m   1735\u001b[0m         \u001b[0;32melse\u001b[0m\u001b[0;34m:\u001b[0m\u001b[0;34m\u001b[0m\u001b[0;34m\u001b[0m\u001b[0m\n\u001b[0;32m-> 1736\u001b[0;31m             \u001b[0;32mreturn\u001b[0m \u001b[0mself\u001b[0m\u001b[0;34m.\u001b[0m\u001b[0m_call_impl\u001b[0m\u001b[0;34m(\u001b[0m\u001b[0;34m*\u001b[0m\u001b[0margs\u001b[0m\u001b[0;34m,\u001b[0m \u001b[0;34m**\u001b[0m\u001b[0mkwargs\u001b[0m\u001b[0;34m)\u001b[0m\u001b[0;34m\u001b[0m\u001b[0;34m\u001b[0m\u001b[0m\n\u001b[0m\u001b[1;32m   1737\u001b[0m \u001b[0;34m\u001b[0m\u001b[0m\n\u001b[1;32m   1738\u001b[0m     \u001b[0;31m# torchrec tests the code consistency with the following code\u001b[0m\u001b[0;34m\u001b[0m\u001b[0;34m\u001b[0m\u001b[0m\n",
            "\u001b[0;32m/usr/local/lib/python3.11/dist-packages/torch/nn/modules/module.py\u001b[0m in \u001b[0;36m_call_impl\u001b[0;34m(self, *args, **kwargs)\u001b[0m\n\u001b[1;32m   1745\u001b[0m                 \u001b[0;32mor\u001b[0m \u001b[0m_global_backward_pre_hooks\u001b[0m \u001b[0;32mor\u001b[0m \u001b[0m_global_backward_hooks\u001b[0m\u001b[0;34m\u001b[0m\u001b[0;34m\u001b[0m\u001b[0m\n\u001b[1;32m   1746\u001b[0m                 or _global_forward_hooks or _global_forward_pre_hooks):\n\u001b[0;32m-> 1747\u001b[0;31m             \u001b[0;32mreturn\u001b[0m \u001b[0mforward_call\u001b[0m\u001b[0;34m(\u001b[0m\u001b[0;34m*\u001b[0m\u001b[0margs\u001b[0m\u001b[0;34m,\u001b[0m \u001b[0;34m**\u001b[0m\u001b[0mkwargs\u001b[0m\u001b[0;34m)\u001b[0m\u001b[0;34m\u001b[0m\u001b[0;34m\u001b[0m\u001b[0m\n\u001b[0m\u001b[1;32m   1748\u001b[0m \u001b[0;34m\u001b[0m\u001b[0m\n\u001b[1;32m   1749\u001b[0m         \u001b[0mresult\u001b[0m \u001b[0;34m=\u001b[0m \u001b[0;32mNone\u001b[0m\u001b[0;34m\u001b[0m\u001b[0;34m\u001b[0m\u001b[0m\n",
            "\u001b[0;32m/usr/local/lib/python3.11/dist-packages/odl/contrib/torch/operator.py\u001b[0m in \u001b[0;36mforward\u001b[0;34m(self, x)\u001b[0m\n\u001b[1;32m    494\u001b[0m                 \u001b[0;34m''\u001b[0m\u001b[0;34m.\u001b[0m\u001b[0mformat\u001b[0m\u001b[0;34m(\u001b[0m\u001b[0mshp_str\u001b[0m\u001b[0;34m,\u001b[0m \u001b[0min_shape\u001b[0m\u001b[0;34m)\u001b[0m\u001b[0;34m\u001b[0m\u001b[0;34m\u001b[0m\u001b[0m\n\u001b[1;32m    495\u001b[0m             )\n\u001b[0;32m--> 496\u001b[0;31m         \u001b[0;32mreturn\u001b[0m \u001b[0mOperatorFunction\u001b[0m\u001b[0;34m.\u001b[0m\u001b[0mapply\u001b[0m\u001b[0;34m(\u001b[0m\u001b[0mself\u001b[0m\u001b[0;34m.\u001b[0m\u001b[0moperator\u001b[0m\u001b[0;34m,\u001b[0m \u001b[0mx\u001b[0m\u001b[0;34m)\u001b[0m\u001b[0;34m\u001b[0m\u001b[0;34m\u001b[0m\u001b[0m\n\u001b[0m\u001b[1;32m    497\u001b[0m \u001b[0;34m\u001b[0m\u001b[0m\n\u001b[1;32m    498\u001b[0m     \u001b[0;32mdef\u001b[0m \u001b[0m__repr__\u001b[0m\u001b[0;34m(\u001b[0m\u001b[0mself\u001b[0m\u001b[0;34m)\u001b[0m\u001b[0;34m:\u001b[0m\u001b[0;34m\u001b[0m\u001b[0;34m\u001b[0m\u001b[0m\n",
            "\u001b[0;32m/usr/local/lib/python3.11/dist-packages/torch/autograd/function.py\u001b[0m in \u001b[0;36mapply\u001b[0;34m(cls, *args, **kwargs)\u001b[0m\n\u001b[1;32m    573\u001b[0m             \u001b[0;31m# See NOTE: [functorch vjp and autograd interaction]\u001b[0m\u001b[0;34m\u001b[0m\u001b[0;34m\u001b[0m\u001b[0m\n\u001b[1;32m    574\u001b[0m             \u001b[0margs\u001b[0m \u001b[0;34m=\u001b[0m \u001b[0m_functorch\u001b[0m\u001b[0;34m.\u001b[0m\u001b[0mutils\u001b[0m\u001b[0;34m.\u001b[0m\u001b[0munwrap_dead_wrappers\u001b[0m\u001b[0;34m(\u001b[0m\u001b[0margs\u001b[0m\u001b[0;34m)\u001b[0m\u001b[0;34m\u001b[0m\u001b[0;34m\u001b[0m\u001b[0m\n\u001b[0;32m--> 575\u001b[0;31m             \u001b[0;32mreturn\u001b[0m \u001b[0msuper\u001b[0m\u001b[0;34m(\u001b[0m\u001b[0;34m)\u001b[0m\u001b[0;34m.\u001b[0m\u001b[0mapply\u001b[0m\u001b[0;34m(\u001b[0m\u001b[0;34m*\u001b[0m\u001b[0margs\u001b[0m\u001b[0;34m,\u001b[0m \u001b[0;34m**\u001b[0m\u001b[0mkwargs\u001b[0m\u001b[0;34m)\u001b[0m  \u001b[0;31m# type: ignore[misc]\u001b[0m\u001b[0;34m\u001b[0m\u001b[0;34m\u001b[0m\u001b[0m\n\u001b[0m\u001b[1;32m    576\u001b[0m \u001b[0;34m\u001b[0m\u001b[0m\n\u001b[1;32m    577\u001b[0m         \u001b[0;32mif\u001b[0m \u001b[0;32mnot\u001b[0m \u001b[0mis_setup_ctx_defined\u001b[0m\u001b[0;34m:\u001b[0m\u001b[0;34m\u001b[0m\u001b[0;34m\u001b[0m\u001b[0m\n",
            "\u001b[0;32m/usr/local/lib/python3.11/dist-packages/odl/contrib/torch/operator.py\u001b[0m in \u001b[0;36mforward\u001b[0;34m(ctx, operator, input)\u001b[0m\n\u001b[1;32m    237\u001b[0m             \u001b[0mresults\u001b[0m \u001b[0;34m=\u001b[0m \u001b[0;34m[\u001b[0m\u001b[0;34m]\u001b[0m\u001b[0;34m\u001b[0m\u001b[0;34m\u001b[0m\u001b[0m\n\u001b[1;32m    238\u001b[0m             \u001b[0;32mfor\u001b[0m \u001b[0minp\u001b[0m \u001b[0;32min\u001b[0m \u001b[0minput_arr_flat_extra\u001b[0m\u001b[0;34m:\u001b[0m\u001b[0;34m\u001b[0m\u001b[0;34m\u001b[0m\u001b[0m\n\u001b[0;32m--> 239\u001b[0;31m                 \u001b[0mresults\u001b[0m\u001b[0;34m.\u001b[0m\u001b[0mappend\u001b[0m\u001b[0;34m(\u001b[0m\u001b[0moperator\u001b[0m\u001b[0;34m(\u001b[0m\u001b[0minp\u001b[0m\u001b[0;34m)\u001b[0m\u001b[0;34m)\u001b[0m\u001b[0;34m\u001b[0m\u001b[0;34m\u001b[0m\u001b[0m\n\u001b[0m\u001b[1;32m    240\u001b[0m \u001b[0;34m\u001b[0m\u001b[0m\n\u001b[1;32m    241\u001b[0m             \u001b[0;31m# Stack results, reshape to the expected output shape and enforce\u001b[0m\u001b[0;34m\u001b[0m\u001b[0;34m\u001b[0m\u001b[0m\n",
            "\u001b[0;32m/usr/local/lib/python3.11/dist-packages/odl/operator/operator.py\u001b[0m in \u001b[0;36m__call__\u001b[0;34m(self, x, out, **kwargs)\u001b[0m\n\u001b[1;32m    692\u001b[0m \u001b[0;34m\u001b[0m\u001b[0m\n\u001b[1;32m    693\u001b[0m         \u001b[0;32melse\u001b[0m\u001b[0;34m:\u001b[0m  \u001b[0;31m# Out-of-place evaluation\u001b[0m\u001b[0;34m\u001b[0m\u001b[0;34m\u001b[0m\u001b[0m\n\u001b[0;32m--> 694\u001b[0;31m             \u001b[0mout\u001b[0m \u001b[0;34m=\u001b[0m \u001b[0mself\u001b[0m\u001b[0;34m.\u001b[0m\u001b[0m_call_out_of_place\u001b[0m\u001b[0;34m(\u001b[0m\u001b[0mx\u001b[0m\u001b[0;34m,\u001b[0m \u001b[0;34m**\u001b[0m\u001b[0mkwargs\u001b[0m\u001b[0;34m)\u001b[0m\u001b[0;34m\u001b[0m\u001b[0;34m\u001b[0m\u001b[0m\n\u001b[0m\u001b[1;32m    695\u001b[0m \u001b[0;34m\u001b[0m\u001b[0m\n\u001b[1;32m    696\u001b[0m             \u001b[0;32mif\u001b[0m \u001b[0mout\u001b[0m \u001b[0;32mnot\u001b[0m \u001b[0;32min\u001b[0m \u001b[0mself\u001b[0m\u001b[0;34m.\u001b[0m\u001b[0mrange\u001b[0m\u001b[0;34m:\u001b[0m\u001b[0;34m\u001b[0m\u001b[0;34m\u001b[0m\u001b[0m\n",
            "\u001b[0;32m/usr/local/lib/python3.11/dist-packages/odl/tomo/operators/ray_trafo.py\u001b[0m in \u001b[0;36m_call\u001b[0;34m(self, x, out, **kwargs)\u001b[0m\n\u001b[1;32m    315\u001b[0m             \u001b[0mResult\u001b[0m \u001b[0mof\u001b[0m \u001b[0mthe\u001b[0m \u001b[0mtransform\u001b[0m\u001b[0;34m,\u001b[0m \u001b[0man\u001b[0m \u001b[0melement\u001b[0m \u001b[0mof\u001b[0m \u001b[0mthe\u001b[0m \u001b[0mrange\u001b[0m\u001b[0;34m.\u001b[0m\u001b[0;34m\u001b[0m\u001b[0;34m\u001b[0m\u001b[0m\n\u001b[1;32m    316\u001b[0m         \"\"\"\n\u001b[0;32m--> 317\u001b[0;31m         \u001b[0;32mreturn\u001b[0m \u001b[0mself\u001b[0m\u001b[0;34m.\u001b[0m\u001b[0mget_impl\u001b[0m\u001b[0;34m(\u001b[0m\u001b[0mself\u001b[0m\u001b[0;34m.\u001b[0m\u001b[0muse_cache\u001b[0m\u001b[0;34m)\u001b[0m\u001b[0;34m.\u001b[0m\u001b[0mcall_forward\u001b[0m\u001b[0;34m(\u001b[0m\u001b[0mx\u001b[0m\u001b[0;34m,\u001b[0m \u001b[0mout\u001b[0m\u001b[0;34m,\u001b[0m \u001b[0;34m**\u001b[0m\u001b[0mkwargs\u001b[0m\u001b[0;34m)\u001b[0m\u001b[0;34m\u001b[0m\u001b[0;34m\u001b[0m\u001b[0m\n\u001b[0m\u001b[1;32m    318\u001b[0m \u001b[0;34m\u001b[0m\u001b[0m\n\u001b[1;32m    319\u001b[0m     \u001b[0;34m@\u001b[0m\u001b[0mproperty\u001b[0m\u001b[0;34m\u001b[0m\u001b[0;34m\u001b[0m\u001b[0m\n",
            "\u001b[0;32m/usr/local/lib/python3.11/dist-packages/odl/tomo/backends/util.py\u001b[0m in \u001b[0;36mwrapper\u001b[0;34m(self, x, out, **kwargs)\u001b[0m\n\u001b[1;32m     45\u001b[0m     \u001b[0;32mdef\u001b[0m \u001b[0mwrapper\u001b[0m\u001b[0;34m(\u001b[0m\u001b[0mself\u001b[0m\u001b[0;34m,\u001b[0m \u001b[0mx\u001b[0m\u001b[0;34m,\u001b[0m \u001b[0mout\u001b[0m\u001b[0;34m=\u001b[0m\u001b[0;32mNone\u001b[0m\u001b[0;34m,\u001b[0m \u001b[0;34m**\u001b[0m\u001b[0mkwargs\u001b[0m\u001b[0;34m)\u001b[0m\u001b[0;34m:\u001b[0m\u001b[0;34m\u001b[0m\u001b[0;34m\u001b[0m\u001b[0m\n\u001b[1;32m     46\u001b[0m         \u001b[0;32mif\u001b[0m \u001b[0mself\u001b[0m\u001b[0;34m.\u001b[0m\u001b[0mvol_space\u001b[0m\u001b[0;34m.\u001b[0m\u001b[0mis_real\u001b[0m \u001b[0;32mand\u001b[0m \u001b[0mself\u001b[0m\u001b[0;34m.\u001b[0m\u001b[0mproj_space\u001b[0m\u001b[0;34m.\u001b[0m\u001b[0mis_real\u001b[0m\u001b[0;34m:\u001b[0m\u001b[0;34m\u001b[0m\u001b[0;34m\u001b[0m\u001b[0m\n\u001b[0;32m---> 47\u001b[0;31m             \u001b[0;32mreturn\u001b[0m \u001b[0mfn\u001b[0m\u001b[0;34m(\u001b[0m\u001b[0mself\u001b[0m\u001b[0;34m,\u001b[0m \u001b[0mx\u001b[0m\u001b[0;34m,\u001b[0m \u001b[0mout\u001b[0m\u001b[0;34m,\u001b[0m \u001b[0;34m**\u001b[0m\u001b[0mkwargs\u001b[0m\u001b[0;34m)\u001b[0m\u001b[0;34m\u001b[0m\u001b[0;34m\u001b[0m\u001b[0m\n\u001b[0m\u001b[1;32m     48\u001b[0m         \u001b[0;32melif\u001b[0m \u001b[0mself\u001b[0m\u001b[0;34m.\u001b[0m\u001b[0mvol_space\u001b[0m\u001b[0;34m.\u001b[0m\u001b[0mis_complex\u001b[0m \u001b[0;32mand\u001b[0m \u001b[0mself\u001b[0m\u001b[0;34m.\u001b[0m\u001b[0mproj_space\u001b[0m\u001b[0;34m.\u001b[0m\u001b[0mis_complex\u001b[0m\u001b[0;34m:\u001b[0m\u001b[0;34m\u001b[0m\u001b[0;34m\u001b[0m\u001b[0m\n\u001b[1;32m     49\u001b[0m             result_parts = [\n",
            "\u001b[0;32m/usr/local/lib/python3.11/dist-packages/odl/tomo/backends/skimage_radon.py\u001b[0m in \u001b[0;36mcall_forward\u001b[0;34m(self, x, out, **kwargs)\u001b[0m\n\u001b[1;32m    263\u001b[0m     \u001b[0;34m@\u001b[0m\u001b[0m_add_default_complex_impl\u001b[0m\u001b[0;34m\u001b[0m\u001b[0;34m\u001b[0m\u001b[0m\n\u001b[1;32m    264\u001b[0m     \u001b[0;32mdef\u001b[0m \u001b[0mcall_forward\u001b[0m\u001b[0;34m(\u001b[0m\u001b[0mself\u001b[0m\u001b[0;34m,\u001b[0m \u001b[0mx\u001b[0m\u001b[0;34m,\u001b[0m \u001b[0mout\u001b[0m\u001b[0;34m,\u001b[0m \u001b[0;34m**\u001b[0m\u001b[0mkwargs\u001b[0m\u001b[0;34m)\u001b[0m\u001b[0;34m:\u001b[0m\u001b[0;34m\u001b[0m\u001b[0;34m\u001b[0m\u001b[0m\n\u001b[0;32m--> 265\u001b[0;31m         return skimage_radon_forward_projector(\n\u001b[0m\u001b[1;32m    266\u001b[0m             \u001b[0mx\u001b[0m\u001b[0;34m,\u001b[0m \u001b[0mself\u001b[0m\u001b[0;34m.\u001b[0m\u001b[0mgeometry\u001b[0m\u001b[0;34m,\u001b[0m \u001b[0mself\u001b[0m\u001b[0;34m.\u001b[0m\u001b[0mproj_space\u001b[0m\u001b[0;34m.\u001b[0m\u001b[0mreal_space\u001b[0m\u001b[0;34m,\u001b[0m \u001b[0mout\u001b[0m\u001b[0;34m\u001b[0m\u001b[0;34m\u001b[0m\u001b[0m\n\u001b[1;32m    267\u001b[0m         )\n",
            "\u001b[0;32m/usr/local/lib/python3.11/dist-packages/odl/tomo/backends/skimage_radon.py\u001b[0m in \u001b[0;36mskimage_radon_forward_projector\u001b[0;34m(volume, geometry, proj_space, out)\u001b[0m\n\u001b[1;32m     92\u001b[0m \u001b[0;34m\u001b[0m\u001b[0m\n\u001b[1;32m     93\u001b[0m     \u001b[0;31m# Rotate volume from (x, y) to (rows, cols), then project\u001b[0m\u001b[0;34m\u001b[0m\u001b[0;34m\u001b[0m\u001b[0m\n\u001b[0;32m---> 94\u001b[0;31m     sino_arr = radon(\n\u001b[0m\u001b[1;32m     95\u001b[0m         \u001b[0mnp\u001b[0m\u001b[0;34m.\u001b[0m\u001b[0mrot90\u001b[0m\u001b[0;34m(\u001b[0m\u001b[0mvolume\u001b[0m\u001b[0;34m.\u001b[0m\u001b[0masarray\u001b[0m\u001b[0;34m(\u001b[0m\u001b[0;34m)\u001b[0m\u001b[0;34m,\u001b[0m \u001b[0;36m1\u001b[0m\u001b[0;34m)\u001b[0m\u001b[0;34m,\u001b[0m \u001b[0mtheta\u001b[0m\u001b[0;34m=\u001b[0m\u001b[0mtheta\u001b[0m\u001b[0;34m,\u001b[0m \u001b[0mcircle\u001b[0m\u001b[0;34m=\u001b[0m\u001b[0;32mFalse\u001b[0m\u001b[0;34m\u001b[0m\u001b[0;34m\u001b[0m\u001b[0m\n\u001b[1;32m     96\u001b[0m     )\n",
            "\u001b[0;32m/usr/local/lib/python3.11/dist-packages/skimage/transform/radon_transform.py\u001b[0m in \u001b[0;36mradon\u001b[0;34m(image, theta, circle, preserve_range)\u001b[0m\n\u001b[1;32m    111\u001b[0m         )\n\u001b[1;32m    112\u001b[0m         \u001b[0mrotated\u001b[0m \u001b[0;34m=\u001b[0m \u001b[0mwarp\u001b[0m\u001b[0;34m(\u001b[0m\u001b[0mpadded_image\u001b[0m\u001b[0;34m,\u001b[0m \u001b[0mR\u001b[0m\u001b[0;34m,\u001b[0m \u001b[0mclip\u001b[0m\u001b[0;34m=\u001b[0m\u001b[0;32mFalse\u001b[0m\u001b[0;34m)\u001b[0m\u001b[0;34m\u001b[0m\u001b[0;34m\u001b[0m\u001b[0m\n\u001b[0;32m--> 113\u001b[0;31m         \u001b[0mradon_image\u001b[0m\u001b[0;34m[\u001b[0m\u001b[0;34m:\u001b[0m\u001b[0;34m,\u001b[0m \u001b[0mi\u001b[0m\u001b[0;34m]\u001b[0m \u001b[0;34m=\u001b[0m \u001b[0mrotated\u001b[0m\u001b[0;34m.\u001b[0m\u001b[0msum\u001b[0m\u001b[0;34m(\u001b[0m\u001b[0;36m0\u001b[0m\u001b[0;34m)\u001b[0m\u001b[0;34m\u001b[0m\u001b[0;34m\u001b[0m\u001b[0m\n\u001b[0m\u001b[1;32m    114\u001b[0m     \u001b[0;32mreturn\u001b[0m \u001b[0mradon_image\u001b[0m\u001b[0;34m\u001b[0m\u001b[0;34m\u001b[0m\u001b[0m\n\u001b[1;32m    115\u001b[0m \u001b[0;34m\u001b[0m\u001b[0m\n",
            "\u001b[0;32m/usr/local/lib/python3.11/dist-packages/numpy/core/_methods.py\u001b[0m in \u001b[0;36m_sum\u001b[0;34m(a, axis, dtype, out, keepdims, initial, where)\u001b[0m\n\u001b[1;32m     47\u001b[0m def _sum(a, axis=None, dtype=None, out=None, keepdims=False,\n\u001b[1;32m     48\u001b[0m          initial=_NoValue, where=True):\n\u001b[0;32m---> 49\u001b[0;31m     \u001b[0;32mreturn\u001b[0m \u001b[0mumr_sum\u001b[0m\u001b[0;34m(\u001b[0m\u001b[0ma\u001b[0m\u001b[0;34m,\u001b[0m \u001b[0maxis\u001b[0m\u001b[0;34m,\u001b[0m \u001b[0mdtype\u001b[0m\u001b[0;34m,\u001b[0m \u001b[0mout\u001b[0m\u001b[0;34m,\u001b[0m \u001b[0mkeepdims\u001b[0m\u001b[0;34m,\u001b[0m \u001b[0minitial\u001b[0m\u001b[0;34m,\u001b[0m \u001b[0mwhere\u001b[0m\u001b[0;34m)\u001b[0m\u001b[0;34m\u001b[0m\u001b[0;34m\u001b[0m\u001b[0m\n\u001b[0m\u001b[1;32m     50\u001b[0m \u001b[0;34m\u001b[0m\u001b[0m\n\u001b[1;32m     51\u001b[0m def _prod(a, axis=None, dtype=None, out=None, keepdims=False,\n",
            "\u001b[0;31mKeyboardInterrupt\u001b[0m: "
          ]
        }
      ],
      "source": [
        "optimizer, scheduler = init_opt(conf, model1)\n",
        "loss_train= conf.loss_train\n",
        "loss_test= conf.loss_test\n",
        "epochs = conf.epochs\n",
        "def train(epoch):\n",
        "    model1.train()\n",
        "    train_loss = 0\n",
        "    for batch_idx, (images, _) in enumerate(train_loader):\n",
        "        images = Variable(images)\n",
        "        projs = generate_data(images)\n",
        "        optimizer.zero_grad()\n",
        "        output = model1(projs)\n",
        "        loss = loss_train(output, images)\n",
        "        loss.backward()\n",
        "        optimizer.step()\n",
        "        train_loss += loss.item()\n",
        "\n",
        "    end_time = time.time()\n",
        "    avg_train_loss = train_loss / len(train_loader)\n",
        "    print(f'Train Epoch: {epoch} | Average Loss: {avg_train_loss:.6f} | Net Sparsity: {maf.net_sparsity(model1)}')\n",
        "\n",
        "def validate(epoch):\n",
        "    model1.eval()\n",
        "    val_loss = 0\n",
        "    with torch.no_grad():\n",
        "        for val_images, _ in val_loader:\n",
        "            val_images = Variable(val_images)\n",
        "            val_projs = generate_data(val_images)\n",
        "            output = model1(val_projs)\n",
        "            loss = loss_train(output, val_images)\n",
        "            val_loss += loss.item()\n",
        "\n",
        "    avg_val_loss = val_loss / len(val_loader)\n",
        "    current_lr = optimizer.param_groups[0]['lr']\n",
        "    print(f'Validation Epoch: {epoch} | Learning Rate: {current_lr:.6f} | Average Loss: {avg_val_loss:.6f}')\n",
        "    return avg_val_loss\n",
        "\n",
        "# Main training loop\n",
        "for epoch in range(1, epochs + 1):\n",
        "    train_time = train(epoch)\n",
        "    avg_val_loss = validate(epoch)\n",
        "\n",
        "    val_data = {\n",
        "        'Net Sparsity': maf.net_sparsity(model1),\n",
        "        'validation_loss': avg_val_loss\n",
        "    }\n",
        "    save_epoch_results(epoch, val_data, train_time)\n",
        "\n",
        "    if scheduler is not None:\n",
        "        scheduler.step(avg_val_loss)\n"
      ]
    },
    {
      "cell_type": "code",
      "execution_count": null,
      "metadata": {
        "colab": {
          "base_uri": "https://localhost:8080/",
          "height": 881
        },
        "id": "ew87NHHT4Uj8",
        "outputId": "138dd5ad-9606-4bff-9b5d-94e6694c68a0"
      },
      "outputs": [
        {
          "output_type": "stream",
          "name": "stdout",
          "text": [
            "Plotting metrics for: LR=0.01, L0=0.01, L1=0.0, OPT=L1SGD\n",
            "Plotting metrics for: LR=0.01, L0=0.01, L1=0.0, OPT=L1SGD\n"
          ]
        },
        {
          "output_type": "display_data",
          "data": {
            "text/plain": [
              "<Figure size 1600x1200 with 2 Axes>"
            ],
            "image/png": "[encoded data removed]"
          },
          "metadata": {}
        }
      ],
      "source": [
        "# Function to read CSV file into a dictionary\n",
        "def read_csv_to_dict(file_path):\n",
        "    data = {}\n",
        "    with open(file_path, mode='r') as file:\n",
        "        reader = csv.reader(file)\n",
        "        headers = next(reader)\n",
        "        for row in reader:\n",
        "            epoch = int(row[0])\n",
        "            value = float(row[1])\n",
        "            data[epoch] = value\n",
        "    return data\n",
        "\n",
        "# Function to read node sparsity CSV file into a dictionary\n",
        "def read_node_sparsity_csv(file_path):\n",
        "    data = {}\n",
        "    with open(file_path, mode='r') as file:\n",
        "        reader = csv.reader(file)\n",
        "        headers = next(reader)\n",
        "        node_indices = [header.split('_')[-1] for header in headers[1:]]  # Extract node indices from headers\n",
        "        for row in reader:\n",
        "            epoch = int(row[0])\n",
        "            values = list(map(float, row[1:]))\n",
        "            for idx, node_index in enumerate(node_indices):\n",
        "                if node_index not in data:\n",
        "                    data[node_index] = []\n",
        "                data[node_index].append(values[idx])\n",
        "    return data\n",
        "\n",
        "# Function to plot training loss\n",
        "def plot_training_loss(ax, save_path, formatted_lr, formatted_lamda0, formatted_lamda1, formatted_opt):\n",
        "    loss_path = os.path.join(save_path, \"validation_loss.csv\")\n",
        "    loss_data = read_csv_to_dict(loss_path)\n",
        "\n",
        "    epochs = list(loss_data.keys())\n",
        "    loss_values = list(loss_data.values())\n",
        "\n",
        "    ax.plot(epochs, loss_values, marker='o', linestyle='-', label=f'Validation Loss: lr={formatted_lr}, $\\\\lambda_0$={formatted_lamda0}, $\\\\lambda_1$={formatted_lamda1}, Optimizer={formatted_opt}')\n",
        "    return epochs\n",
        "\n",
        "# Function to plot net sparsity\n",
        "def plot_net_sparsity(ax, save_path, formatted_lr, formatted_lamda0, formatted_lamda1, formatted_opt):\n",
        "    net_path = os.path.join(save_path, \"net_sparsity.csv\")\n",
        "    net_data = read_csv_to_dict(net_path)\n",
        "\n",
        "    epochs = list(net_data.keys())\n",
        "    net_values = list(net_data.values())\n",
        "\n",
        "    ax.plot(epochs, net_values, marker='o', linestyle='-', label=f'Net Sparsity: lr={formatted_lr}, $\\\\lambda_0$={formatted_lamda0}, $\\\\lambda_1$={formatted_lamda1}, Optimizer={formatted_opt}')\n",
        "    return epochs\n",
        "\n",
        "# Function to create and display plots in a 2x2 grid\n",
        "def create_and_display_plots_1x2(base_path):\n",
        "    fig, axs = plt.subplots(1, 2, figsize=(16, 12))\n",
        "    axs = axs.flatten()\n",
        "    plot_functions = [plot_training_loss, plot_net_sparsity]\n",
        "    titles = ['Validation Loss', 'Non-zero entries']\n",
        "    ylabels = ['Loss', 'Non-zero entries']\n",
        "\n",
        "    subdirectories = [name for name in os.listdir(base_path) if os.path.isdir(os.path.join(base_path, name))]\n",
        "\n",
        "    for ax, plot_function, title, ylabel in zip(axs, plot_functions, titles, ylabels):\n",
        "        all_epochs = []\n",
        "        for subdir in subdirectories:\n",
        "            subdir_path = os.path.join(base_path, subdir)\n",
        "\n",
        "            # Parse the directory name to extract parameters\n",
        "            params = subdir.split('_')\n",
        "            formatted_lr = params[1]\n",
        "            formatted_lamda0 = params[3]\n",
        "            formatted_lamda1 = params[5]\n",
        "            formatted_opt = params[6]\n",
        "\n",
        "            print(f\"Plotting metrics for: LR={formatted_lr}, L0={formatted_lamda0}, L1={formatted_lamda1}, OPT={formatted_opt}\")\n",
        "\n",
        "            epochs = plot_function(ax, subdir_path, formatted_lr, formatted_lamda0, formatted_lamda1, formatted_opt)\n",
        "            all_epochs.extend(epochs)\n",
        "\n",
        "        ax.set_title(title)\n",
        "        ax.set_ylabel(ylabel)\n",
        "        ax.set_xlabel('Epoch')\n",
        "        ax.legend()\n",
        "        ax.grid(True)\n",
        "\n",
        "        if all_epochs:\n",
        "            max_epoch = max(all_epochs)\n",
        "            ax.set_xticks(range(0, max_epoch + 1, 10))  # Set x-axis ticks for every 10 epochs\n",
        "            ax.set_xticklabels(range(0, max_epoch + 1, 10))  # Set x-axis tick labels for every 10 epochs\n",
        "\n",
        "    plt.tight_layout()\n",
        "    plt.savefig('/content/ANN5PROJECTION')\n",
        "    plt.show()\n",
        "\n",
        "# Example usage\n",
        "save_path = '/content/ANN5PROJECTION'\n",
        "create_and_display_plots_1x2(save_path)\n"
      ]
    },
    {
      "cell_type": "markdown",
      "metadata": {
        "id": "RFWLuBZJ0lZe"
      },
      "source": [
        "Visualizing a sample from the results in comparison to FBP:"
      ]
    },
    {
      "cell_type": "code",
      "execution_count": 49,
      "metadata": {
        "colab": {
          "base_uri": "https://localhost:8080/",
          "height": 539
        },
        "id": "GIQOarWM0lZf",
        "outputId": "195ed9ee-3956-4033-a3cc-d9528703ac55"
      },
      "outputs": [
        {
          "output_type": "display_data",
          "data": {
            "text/plain": [
              "<Figure size 600x600 with 9 Axes>"
            ],
            "image/png": "[encoded data removed]"
          },
          "metadata": {}
        },
        {
          "output_type": "stream",
          "name": "stdout",
          "text": [
            "net_sparse 0.9998029568829114\n"
          ]
        }
      ],
      "source": [
        "test_res_full = model1(test_data)\n",
        "results = [test_images.cpu(), fbp_recos.cpu(), test_res_full.cpu()]\n",
        "titles = ['Truth', 'FBP', 'Learned']\n",
        "show_image_matrix(results, titles, indices=slice(20, 23), clim=[0, 1], cmap='bone')\n",
        "print('net_sparse', maf.net_sparsity(model1))\n",
        "output_folder = '/content/ANN360PROJECTION'\n",
        "output_path = os.path.join(output_folder, 'image_matrix.png')\n",
        "plt.tight_layout()\n",
        "plt.savefig(output_path)\n",
        "plt.close()"
      ]
    },
    {
      "cell_type": "code",
      "execution_count": 50,
      "metadata": {
        "colab": {
          "base_uri": "https://localhost:8080/",
          "height": 196
        },
        "id": "eTSWamoeURi-",
        "outputId": "1dbb835b-2489-4acb-c59e-9fbabae8e452"
      },
      "outputs": [
        {
          "output_type": "display_data",
          "data": {
            "text/plain": [
              "<Figure size 600x200 with 3 Axes>"
            ],
            "image/png": "[encoded data removed]"
          },
          "metadata": {}
        }
      ],
      "source": [
        "# Step 1: Load and preprocess the image\n",
        "img_path = 'cameraman.jpg'\n",
        "img = Image.open(img_path).convert('L')  # Convert to grayscale\n",
        "\n",
        "# Resize to 28x28\n",
        "img = img.resize((28, 28))\n",
        "\n",
        "# Normalize and create a tensor\n",
        "img_tensor = torch.tensor(\n",
        "    np.array(img, dtype=np.float32)/255.0  # Normalize to [0, 1]\n",
        ").unsqueeze(0).unsqueeze(0)  # Add batch and channel dimensions (1, 1, 28, 28)\n",
        "\n",
        "img_variable = Variable(img_tensor)\n",
        "\n",
        "# Step 2: Generate projection data\n",
        "projection_data = generate_data(img_variable)  # Shape: (1, 1, 5, 41)\n",
        "\n",
        "# Step 3: Feed the projection data into the model\n",
        "fbp_reconstruction = fbp_op_mod(projection_data)  # FBP reconstruction\n",
        "model1_result = model1(projection_data)  # Model1 reconstruction\n",
        "# Step 4: Visualize the results\n",
        "results = [\n",
        "    img_tensor.squeeze(0).cpu(),  # Original image\n",
        "    fbp_reconstruction.squeeze(0).cpu(),  # FBP result\n",
        "    model1_result.squeeze(0).cpu()  # Model1 result\n",
        "]\n",
        "titles = ['Original Image', 'FBP', 'Learned']\n",
        "\n",
        "show_image_matrix(results, titles=titles, clim=[0, 1], cmap='bone')\n",
        "output_folder = '/content/ANN360PROJECTION'\n",
        "output_path = os.path.join(output_folder, 'cameraman.png')\n",
        "plt.tight_layout()\n",
        "plt.savefig(output_path)\n",
        "plt.close()\n"
      ]
    },
    {
      "cell_type": "markdown",
      "metadata": {
        "id": "cpvojKEl0lZg"
      },
      "source": [
        "These examples look much better than FBP (unsurprisingly), but there are still some issues with noise, deformations etc.\n",
        "\n",
        "To also make an assessment about the number of trainable parameters and thus the scalability of the approach (the more parameters, the harder to train), the total number of parameters in the model can be checked like this:"
      ]
    },
    {
      "cell_type": "code",
      "execution_count": null,
      "metadata": {
        "colab": {
          "base_uri": "https://localhost:8080/"
        },
        "id": "M42oJTpd0lZi",
        "outputId": "135c3485-996a-4c63-ac86-d1dcdb6f5552"
      },
      "outputs": [
        {
          "name": "stdout",
          "output_type": "stream",
          "text": [
            "Total number of parameters: 2064144\n",
            "Training data size: 470400\n"
          ]
        }
      ],
      "source": [
        "print('Total number of parameters:',\n",
        "      sum(param.numel() for param in model1.parameters()))\n",
        "print('Training data size:', 600 * 28 ** 2)"
      ]
    },
    {
      "cell_type": "markdown",
      "metadata": {
        "id": "wzDOe2cV0lZj"
      },
      "source": [
        "It turns out that for this tiny problem, the number of parameters is over 2 million. This is still a good deal away from the input data size (47 million), but overfitting is likely with this network. Therefore we explore sparser architectures."
      ]
    }
  ],
  "metadata": {
    "accelerator": "GPU",
    "colab": {
      "gpuType": "L4",
      "provenance": []
    },
    "kernelspec": {
      "display_name": "Python 3",
      "name": "python3"
    },
    "language_info": {
      "codemirror_mode": {
        "name": "ipython",
        "version": 3
      },
      "file_extension": ".py",
      "mimetype": "text/x-python",
      "name": "python",
      "nbconvert_exporter": "python",
      "pygments_lexer": "ipython3",
      "version": "3.11.9"
    }
  },
  "nbformat": 4,
  "nbformat_minor": 0
}