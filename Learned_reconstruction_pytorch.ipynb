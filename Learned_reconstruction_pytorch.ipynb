{
  "cells": [
    {
      "cell_type": "markdown",
      "metadata": {
        "id": "lKIporRm0lZG"
      },
      "source": [
        "# Learned Reconstruction\n",
        "\n",
        "In inverse problems, we want to recover some signal $x$ from noisy measurements $y$ where we know the forward model $\\mathcal{T} : \\mathcal{X} \\to \\mathcal{Y}$\n",
        "$$\n",
        "    y = \\mathcal{T}(x) + e\n",
        "$$\n",
        "In machine learning for inverse problems we aim to find some operator $\\mathcal{T}_\\theta^\\dagger : \\mathcal{Y} \\to \\mathcal{X}$ that inverts this process\n",
        "$$\n",
        "    \\mathcal{T}_\\theta^\\dagger(y) \\approx x\n",
        "$$\n",
        "\n",
        "This notebook demonstrates how to use ODL to perform learned reconstruction of the famous MNIST dataset. We demonstrate three ways of doing this\n",
        "\n",
        "* Fully learned reconstruction\n",
        "* Learned post-processing\n",
        "* Learned iterative reconstruction\n",
        "\n",
        "and we also compare to FBP-based reconstruction.\n",
        "\n",
        "The results should be approximately\n",
        "\n",
        "| Method                 |  Mean Error  |\n",
        "|------------------------|----------|\n",
        "| FBP                    | 0.01694  |\n",
        "| Fully learned          | 0.00226  |\n",
        "| FBP + learned denoiser | 0.00260  |\n",
        "| Learned Iterative      | 0.005150 |\n",
        "\n",
        "Note that the examples in this notebook may take some time to run, approximately 10-15 minutes each can be expected on a reasonable laptop.\n",
        "\n",
        "**Note:** This is a pytorch port of [the notebook using tensorflow](part3_learned_reconstruction.ipynb) with reduced text, see the other notebook for more details."
      ]
    },
    {
      "cell_type": "code",
      "execution_count": 199,
      "metadata": {
        "colab": {
          "base_uri": "https://localhost:8080/"
        },
        "id": "zKcYb7jZebUk",
        "outputId": "5d5184fc-503e-40df-9c96-85d8ada7e18e"
      },
      "outputs": [
        {
          "output_type": "stream",
          "name": "stdout",
          "text": [
            "Collecting odl==1.0.0.dev0\n",
            "  Downloading https://www.uni-muenster.de/AMM/num/assets/odl-1.0.0.dev0-py2.py3-none-any.whl (764 kB)\n",
            "\u001b[2K     \u001b[90m━━━━━━━━━━━━━━━━━━━━━━━━━━━━━━━━━━━━━━━━\u001b[0m \u001b[32m764.7/764.7 kB\u001b[0m \u001b[31m1.1 MB/s\u001b[0m eta \u001b[36m0:00:00\u001b[0m\n",
            "\u001b[?25hRequirement already satisfied: setuptools>=65.6 in /usr/local/lib/python3.11/dist-packages (from odl==1.0.0.dev0) (75.1.0)\n",
            "Requirement already satisfied: future>=0.16 in /usr/local/lib/python3.11/dist-packages (from odl==1.0.0.dev0) (1.0.0)\n",
            "Requirement already satisfied: packaging>=17.0 in /usr/local/lib/python3.11/dist-packages (from odl==1.0.0.dev0) (24.2)\n",
            "Requirement already satisfied: numpy<1.27,>=1.19 in /usr/local/lib/python3.11/dist-packages (from odl==1.0.0.dev0) (1.26.4)\n",
            "Requirement already satisfied: scipy>=1.1 in /usr/local/lib/python3.11/dist-packages (from odl==1.0.0.dev0) (1.13.1)\n",
            "Requirement already satisfied: matplotlib>=3.4 in /usr/local/lib/python3.11/dist-packages (from odl==1.0.0.dev0) (3.10.0)\n",
            "Requirement already satisfied: contourpy>=1.0.1 in /usr/local/lib/python3.11/dist-packages (from matplotlib>=3.4->odl==1.0.0.dev0) (1.3.1)\n",
            "Requirement already satisfied: cycler>=0.10 in /usr/local/lib/python3.11/dist-packages (from matplotlib>=3.4->odl==1.0.0.dev0) (0.12.1)\n",
            "Requirement already satisfied: fonttools>=4.22.0 in /usr/local/lib/python3.11/dist-packages (from matplotlib>=3.4->odl==1.0.0.dev0) (4.56.0)\n",
            "Requirement already satisfied: kiwisolver>=1.3.1 in /usr/local/lib/python3.11/dist-packages (from matplotlib>=3.4->odl==1.0.0.dev0) (1.4.8)\n",
            "Requirement already satisfied: pillow>=8 in /usr/local/lib/python3.11/dist-packages (from matplotlib>=3.4->odl==1.0.0.dev0) (11.1.0)\n",
            "Requirement already satisfied: pyparsing>=2.3.1 in /usr/local/lib/python3.11/dist-packages (from matplotlib>=3.4->odl==1.0.0.dev0) (3.2.1)\n",
            "Requirement already satisfied: python-dateutil>=2.7 in /usr/local/lib/python3.11/dist-packages (from matplotlib>=3.4->odl==1.0.0.dev0) (2.8.2)\n",
            "Requirement already satisfied: six>=1.5 in /usr/local/lib/python3.11/dist-packages (from python-dateutil>=2.7->matplotlib>=3.4->odl==1.0.0.dev0) (1.17.0)\n",
            "Requirement already satisfied: torchmetrics in /usr/local/lib/python3.11/dist-packages (1.6.1)\n",
            "Requirement already satisfied: numpy>1.20.0 in /usr/local/lib/python3.11/dist-packages (from torchmetrics) (1.26.4)\n",
            "Requirement already satisfied: packaging>17.1 in /usr/local/lib/python3.11/dist-packages (from torchmetrics) (24.2)\n",
            "Requirement already satisfied: torch>=2.0.0 in /usr/local/lib/python3.11/dist-packages (from torchmetrics) (2.5.1+cu124)\n",
            "Requirement already satisfied: lightning-utilities>=0.8.0 in /usr/local/lib/python3.11/dist-packages (from torchmetrics) (0.12.0)\n",
            "Requirement already satisfied: setuptools in /usr/local/lib/python3.11/dist-packages (from lightning-utilities>=0.8.0->torchmetrics) (75.1.0)\n",
            "Requirement already satisfied: typing_extensions in /usr/local/lib/python3.11/dist-packages (from lightning-utilities>=0.8.0->torchmetrics) (4.12.2)\n",
            "Requirement already satisfied: filelock in /usr/local/lib/python3.11/dist-packages (from torch>=2.0.0->torchmetrics) (3.17.0)\n",
            "Requirement already satisfied: networkx in /usr/local/lib/python3.11/dist-packages (from torch>=2.0.0->torchmetrics) (3.4.2)\n",
            "Requirement already satisfied: jinja2 in /usr/local/lib/python3.11/dist-packages (from torch>=2.0.0->torchmetrics) (3.1.5)\n",
            "Requirement already satisfied: fsspec in /usr/local/lib/python3.11/dist-packages (from torch>=2.0.0->torchmetrics) (2024.10.0)\n",
            "Requirement already satisfied: nvidia-cuda-nvrtc-cu12==12.4.127 in /usr/local/lib/python3.11/dist-packages (from torch>=2.0.0->torchmetrics) (12.4.127)\n",
            "Requirement already satisfied: nvidia-cuda-runtime-cu12==12.4.127 in /usr/local/lib/python3.11/dist-packages (from torch>=2.0.0->torchmetrics) (12.4.127)\n",
            "Requirement already satisfied: nvidia-cuda-cupti-cu12==12.4.127 in /usr/local/lib/python3.11/dist-packages (from torch>=2.0.0->torchmetrics) (12.4.127)\n",
            "Requirement already satisfied: nvidia-cudnn-cu12==9.1.0.70 in /usr/local/lib/python3.11/dist-packages (from torch>=2.0.0->torchmetrics) (9.1.0.70)\n",
            "Requirement already satisfied: nvidia-cublas-cu12==12.4.5.8 in /usr/local/lib/python3.11/dist-packages (from torch>=2.0.0->torchmetrics) (12.4.5.8)\n",
            "Requirement already satisfied: nvidia-cufft-cu12==11.2.1.3 in /usr/local/lib/python3.11/dist-packages (from torch>=2.0.0->torchmetrics) (11.2.1.3)\n",
            "Requirement already satisfied: nvidia-curand-cu12==10.3.5.147 in /usr/local/lib/python3.11/dist-packages (from torch>=2.0.0->torchmetrics) (10.3.5.147)\n",
            "Requirement already satisfied: nvidia-cusolver-cu12==11.6.1.9 in /usr/local/lib/python3.11/dist-packages (from torch>=2.0.0->torchmetrics) (11.6.1.9)\n",
            "Requirement already satisfied: nvidia-cusparse-cu12==12.3.1.170 in /usr/local/lib/python3.11/dist-packages (from torch>=2.0.0->torchmetrics) (12.3.1.170)\n",
            "Requirement already satisfied: nvidia-nccl-cu12==2.21.5 in /usr/local/lib/python3.11/dist-packages (from torch>=2.0.0->torchmetrics) (2.21.5)\n",
            "Requirement already satisfied: nvidia-nvtx-cu12==12.4.127 in /usr/local/lib/python3.11/dist-packages (from torch>=2.0.0->torchmetrics) (12.4.127)\n",
            "Requirement already satisfied: nvidia-nvjitlink-cu12==12.4.127 in /usr/local/lib/python3.11/dist-packages (from torch>=2.0.0->torchmetrics) (12.4.127)\n",
            "Requirement already satisfied: triton==3.1.0 in /usr/local/lib/python3.11/dist-packages (from torch>=2.0.0->torchmetrics) (3.1.0)\n",
            "Requirement already satisfied: sympy==1.13.1 in /usr/local/lib/python3.11/dist-packages (from torch>=2.0.0->torchmetrics) (1.13.1)\n",
            "Requirement already satisfied: mpmath<1.4,>=1.1.0 in /usr/local/lib/python3.11/dist-packages (from sympy==1.13.1->torch>=2.0.0->torchmetrics) (1.3.0)\n",
            "Requirement already satisfied: MarkupSafe>=2.0 in /usr/local/lib/python3.11/dist-packages (from jinja2->torch>=2.0.0->torchmetrics) (3.0.2)\n"
          ]
        }
      ],
      "source": [
        "!pip install https://www.uni-muenster.de/AMM/num/assets/odl-1.0.0.dev0-py2.py3-none-any.whl\n",
        "!pip install torchmetrics"
      ]
    },
    {
      "cell_type": "code",
      "execution_count": 160,
      "metadata": {
        "colab": {
          "base_uri": "https://localhost:8080/"
        },
        "id": "b7XevCsA0lZK",
        "outputId": "f28dbfe3-8c88-42bd-8af9-e861dc006c98",
        "tags": []
      },
      "outputs": [
        {
          "output_type": "execute_result",
          "data": {
            "text/plain": [
              "<torch._C.Generator at 0x7937b348f9d0>"
            ]
          },
          "metadata": {},
          "execution_count": 160
        }
      ],
      "source": [
        "%matplotlib inline\n",
        "from IPython.display import display, clear_output\n",
        "import matplotlib.pyplot as plt\n",
        "import odl\n",
        "from odl.contrib.torch import OperatorModule\n",
        "import torch\n",
        "from torch import nn, optim\n",
        "from torch.autograd import Variable\n",
        "import torch.nn.functional as F\n",
        "import torchvision\n",
        "from torchvision import datasets, transforms\n",
        "import pandas as pd  # For reading and writing CSV files\n",
        "from PIL import Image\n",
        "import numpy as np\n",
        "import os\n",
        "import csv\n",
        "import time\n",
        "# Custom module imports\n",
        "import models.aux_funs as maf\n",
        "import optimizers as op\n",
        "import regularizers as reg\n",
        "import utils.configuration as cf\n",
        "import train\n",
        "from models.ANN import FullRecoNet\n",
        "from models.AutoMap import AutoMap\n",
        "from models.iRadonMap import iRadonMap\n",
        "# Set random seed for reproducibility\n",
        "torch.manual_seed(123)\n"
      ]
    },
    {
      "cell_type": "code",
      "execution_count": 147,
      "metadata": {
        "colab": {
          "base_uri": "https://localhost:8080/"
        },
        "id": "Du26hDqte6NL",
        "outputId": "72a5c3c8-49cc-4d16-8e63-d0667272ce94"
      },
      "outputs": [
        {
          "output_type": "stream",
          "name": "stdout",
          "text": [
            "Drive already mounted at /content/drive; to attempt to forcibly remount, call drive.mount(\"/content/drive\", force_remount=True).\n"
          ]
        }
      ],
      "source": [
        "from google.colab import drive\n",
        "drive.mount('/content/drive')"
      ]
    },
    {
      "cell_type": "code",
      "execution_count": 161,
      "metadata": {
        "id": "BcLL_pzQeUH3"
      },
      "outputs": [],
      "source": [
        "import shutil\n",
        "shutil.rmtree('./data/MNIST', ignore_errors=True)\n"
      ]
    },
    {
      "cell_type": "markdown",
      "metadata": {
        "id": "3tx9nNYc0lZN"
      },
      "source": [
        "## Get training and test data\n",
        "\n",
        "We create loaders for the MNIST data:"
      ]
    },
    {
      "cell_type": "code",
      "execution_count": 162,
      "metadata": {
        "colab": {
          "base_uri": "https://localhost:8080/"
        },
        "id": "LRviWYrw0lZO",
        "outputId": "b9137ece-478b-4266-c1f6-2d833de13bdb",
        "tags": []
      },
      "outputs": [
        {
          "output_type": "stream",
          "name": "stdout",
          "text": [
            "Downloading http://yann.lecun.com/exdb/mnist/train-images-idx3-ubyte.gz\n",
            "Failed to download (trying next):\n",
            "HTTP Error 404: Not Found\n",
            "\n",
            "Downloading https://ossci-datasets.s3.amazonaws.com/mnist/train-images-idx3-ubyte.gz\n",
            "Downloading https://ossci-datasets.s3.amazonaws.com/mnist/train-images-idx3-ubyte.gz to ./data/MNIST/raw/train-images-idx3-ubyte.gz\n"
          ]
        },
        {
          "output_type": "stream",
          "name": "stderr",
          "text": [
            "100%|██████████| 9.91M/9.91M [00:00<00:00, 17.3MB/s]\n"
          ]
        },
        {
          "output_type": "stream",
          "name": "stdout",
          "text": [
            "Extracting ./data/MNIST/raw/train-images-idx3-ubyte.gz to ./data/MNIST/raw\n",
            "\n",
            "Downloading http://yann.lecun.com/exdb/mnist/train-labels-idx1-ubyte.gz\n",
            "Failed to download (trying next):\n",
            "HTTP Error 404: Not Found\n",
            "\n",
            "Downloading https://ossci-datasets.s3.amazonaws.com/mnist/train-labels-idx1-ubyte.gz\n",
            "Downloading https://ossci-datasets.s3.amazonaws.com/mnist/train-labels-idx1-ubyte.gz to ./data/MNIST/raw/train-labels-idx1-ubyte.gz\n"
          ]
        },
        {
          "output_type": "stream",
          "name": "stderr",
          "text": [
            "100%|██████████| 28.9k/28.9k [00:00<00:00, 469kB/s]\n"
          ]
        },
        {
          "output_type": "stream",
          "name": "stdout",
          "text": [
            "Extracting ./data/MNIST/raw/train-labels-idx1-ubyte.gz to ./data/MNIST/raw\n",
            "\n",
            "Downloading http://yann.lecun.com/exdb/mnist/t10k-images-idx3-ubyte.gz\n",
            "Failed to download (trying next):\n",
            "HTTP Error 404: Not Found\n",
            "\n",
            "Downloading https://ossci-datasets.s3.amazonaws.com/mnist/t10k-images-idx3-ubyte.gz\n",
            "Downloading https://ossci-datasets.s3.amazonaws.com/mnist/t10k-images-idx3-ubyte.gz to ./data/MNIST/raw/t10k-images-idx3-ubyte.gz\n"
          ]
        },
        {
          "output_type": "stream",
          "name": "stderr",
          "text": [
            "100%|██████████| 1.65M/1.65M [00:00<00:00, 4.37MB/s]\n"
          ]
        },
        {
          "output_type": "stream",
          "name": "stdout",
          "text": [
            "Extracting ./data/MNIST/raw/t10k-images-idx3-ubyte.gz to ./data/MNIST/raw\n",
            "\n",
            "Downloading http://yann.lecun.com/exdb/mnist/t10k-labels-idx1-ubyte.gz\n",
            "Failed to download (trying next):\n",
            "HTTP Error 404: Not Found\n",
            "\n",
            "Downloading https://ossci-datasets.s3.amazonaws.com/mnist/t10k-labels-idx1-ubyte.gz\n",
            "Downloading https://ossci-datasets.s3.amazonaws.com/mnist/t10k-labels-idx1-ubyte.gz to ./data/MNIST/raw/t10k-labels-idx1-ubyte.gz\n"
          ]
        },
        {
          "output_type": "stream",
          "name": "stderr",
          "text": [
            "100%|██████████| 4.54k/4.54k [00:00<00:00, 9.57MB/s]"
          ]
        },
        {
          "output_type": "stream",
          "name": "stdout",
          "text": [
            "Extracting ./data/MNIST/raw/t10k-labels-idx1-ubyte.gz to ./data/MNIST/raw\n",
            "\n",
            "Train dataset size: 8000\n",
            "Validation dataset size: 2000\n",
            "Test dataset size: 2000\n"
          ]
        },
        {
          "output_type": "stream",
          "name": "stderr",
          "text": [
            "\n"
          ]
        }
      ],
      "source": [
        "from torch.utils.data import random_split\n",
        "from torchvision import datasets, transforms\n",
        "import torch\n",
        "\n",
        "# Define the desired total subset size (e.g., 600 samples)\n",
        "total_subset_size = 10000  # Total samples for the subset (train + validation)\n",
        "train_val_split = [8000, 2000]  # Split subset into 500 for training, 100 for validation\n",
        "test_subset_size = 2000  # Define a similar subset size for the test set\n",
        "\n",
        "# Define transformations: convert to Tensor and normalize\n",
        "trafo = transforms.Compose([\n",
        "    transforms.ToTensor(),\n",
        "    transforms.Normalize((0.1307,), (0.3081,)),  # Normalization based on MNIST mean and std dev\n",
        "])\n",
        "\n",
        "# Load the MNIST dataset for training and validation\n",
        "dset_train_val = datasets.MNIST('./data', train=True, download=True, transform=trafo)\n",
        "\n",
        "# Step 1: Subset the original dataset to a smaller size (600 samples in total)\n",
        "subset_train_val, _ = random_split(dset_train_val, [total_subset_size, len(dset_train_val) - total_subset_size])\n",
        "\n",
        "# Step 2: Further split the smaller subset into training and validation sets\n",
        "train_dataset, val_dataset = random_split(subset_train_val, train_val_split)\n",
        "\n",
        "# Data loaders for training and validation using the smaller dataset\n",
        "train_loader = torch.utils.data.DataLoader(train_dataset, batch_size=50, shuffle=True)\n",
        "val_loader = torch.utils.data.DataLoader(val_dataset, batch_size=50, shuffle=True)\n",
        "\n",
        "# Load the MNIST dataset for testing\n",
        "dset_test = datasets.MNIST('./data', train=False, transform=trafo)\n",
        "\n",
        "# Step 3: Subset the test set\n",
        "test_subset, _ = random_split(dset_test, [test_subset_size, len(dset_test) - test_subset_size])\n",
        "test_loader = torch.utils.data.DataLoader(test_subset, batch_size=50, shuffle=True)\n",
        "\n",
        "print(f'Train dataset size: {len(train_dataset)}')\n",
        "print(f'Validation dataset size: {len(val_dataset)}')\n",
        "print(f'Test dataset size: {len(test_subset)}')\n"
      ]
    },
    {
      "cell_type": "markdown",
      "metadata": {
        "id": "Mq1zmsDX0lZP"
      },
      "source": [
        "## Create ODL objects\n",
        "\n",
        "We initialize the ray transform on a space suitable for the MNIST images. We also create a filtered backprojection (FBP) operator for comparison, and for the FBP denoising net later on:"
      ]
    },
    {
      "cell_type": "code",
      "execution_count": 166,
      "metadata": {
        "id": "vmgoj1wR0lZQ",
        "tags": []
      },
      "outputs": [],
      "source": [
        "space = odl.uniform_discr([-14, -14], [14, 14], [28, 28], dtype='float32')\n",
        "geometry = odl.tomo.parallel_beam_geometry(space, num_angles=72)\n",
        "fwd_op = odl.tomo.RayTransform(space, geometry)\n",
        "fbp_op = odl.tomo.fbp_op(fwd_op)"
      ]
    },
    {
      "cell_type": "markdown",
      "metadata": {
        "id": "xkyufCVl0lZR"
      },
      "source": [
        "## Make pytorch `Module`s from ODL operators\n",
        "\n",
        "For use in our neural networks, we create pytorch modules from the above operators. For this we use the `OperatorAsModule` class from `odl.contrib.torch`. It implements automatic differentiation as required for backpropagation in pytorch, and it supports extra batch and channel axes."
      ]
    },
    {
      "cell_type": "code",
      "execution_count": 167,
      "metadata": {
        "id": "zARjRjv_0lZS",
        "tags": []
      },
      "outputs": [],
      "source": [
        "fwd_op_mod = OperatorModule(fwd_op)\n",
        "fwd_op_adj_mod = OperatorModule(fwd_op.adjoint)\n",
        "fbp_op_mod = OperatorModule(fbp_op)"
      ]
    },
    {
      "cell_type": "markdown",
      "metadata": {
        "id": "7vBoX-nF0lZT"
      },
      "source": [
        "## Some helper functions\n",
        "\n",
        "For the generation of noisy projection data and for visualization of the results we use the following helpers:"
      ]
    },
    {
      "cell_type": "code",
      "execution_count": 168,
      "metadata": {
        "id": "Sf-K92Sn0lZU",
        "tags": []
      },
      "outputs": [],
      "source": [
        "def generate_data(images):\n",
        "    \"\"\"Create noisy projection data from images.\n",
        "\n",
        "    The data is generated according to ::\n",
        "\n",
        "        data = fwd_op(images) + noise\n",
        "\n",
        "    where ``noise`` is standard white noise.\n",
        "\n",
        "    Parameters\n",
        "    ----------\n",
        "    images : `Variable`, shape ``(B, C, 28, 28)``\n",
        "        Input images for the data generation.\n",
        "\n",
        "    Returns\n",
        "    -------\n",
        "    data : `Variable`, shape ``(B, C, 5, 41)``\n",
        "        Projection data stack.\n",
        "    \"\"\"\n",
        "    torch.manual_seed(123)\n",
        "    data = fwd_op_mod(images)\n",
        "    data += Variable(torch.randn(data.shape)).type_as(data)\n",
        "    return data\n",
        "\n",
        "\n",
        "def show_image_matrix(image_batches, titles=None, indices=None, **kwargs):\n",
        "    \"\"\"Visualize a 2D set of images arranged in a grid.\n",
        "\n",
        "    This function shows a 2D grid of images, where the i-th column\n",
        "    shows images from the i-th batch. The typical use case is to compare\n",
        "    results of different approaches with the same data, or to compare\n",
        "    against a ground truth.\n",
        "\n",
        "    Parameters\n",
        "    ----------\n",
        "    image_batches : sequence of `Tensor` or `Variable`\n",
        "        List containing batches of images that should be displayed.\n",
        "        Each tensor should have the same shape after squeezing, except\n",
        "        for the batch axis.\n",
        "    titles : sequence of str, optional\n",
        "        Titles for the colums in the plot. By default, titles are empty.\n",
        "    indices : sequence of int, optional\n",
        "        Object to select the subset of the images that should be shown.\n",
        "        The subsets are determined by slicing along the batch axis, i.e.,\n",
        "        as ``displayed = image_batch[indices]``. The default is to show\n",
        "        everything.\n",
        "    kwargs :\n",
        "        Further keyword arguments that are passed on to the Matplotlib\n",
        "        ``imshow`` function.\n",
        "    \"\"\"\n",
        "    import matplotlib.pyplot as plt\n",
        "\n",
        "    if indices is None:\n",
        "        displayed_batches = image_batches\n",
        "    else:\n",
        "        displayed_batches = [batch[indices] for batch in image_batches]\n",
        "\n",
        "    displayed_batches = [batch.data if isinstance(batch, Variable) else batch\n",
        "                         for batch in displayed_batches]\n",
        "\n",
        "    nrows = len(displayed_batches[0])\n",
        "    ncols = len(displayed_batches)\n",
        "\n",
        "    if titles is None:\n",
        "        titles = [''] * ncols\n",
        "\n",
        "    figsize = 2\n",
        "    fig, rows = plt.subplots(\n",
        "        nrows, ncols, sharex=True, sharey=True,\n",
        "        figsize=(ncols * figsize, figsize * nrows))\n",
        "\n",
        "    if nrows == 1:\n",
        "        rows = [rows]\n",
        "\n",
        "    for i, row in enumerate(rows):\n",
        "        if ncols == 1:\n",
        "            row = [row]\n",
        "        for name, batch, ax in zip(titles, displayed_batches, row):\n",
        "            if i == 0:\n",
        "                ax.set_title(name)\n",
        "            ax.imshow(batch[i].squeeze(), **kwargs)\n",
        "            ax.set_axis_off()\n",
        "    plt.show()"
      ]
    },
    {
      "cell_type": "markdown",
      "metadata": {
        "id": "KYjONp2_0lZV"
      },
      "source": [
        "## Generate test data\n",
        "\n",
        "We take one batch from the test dataset and generate the corresponding test projection data for validation:"
      ]
    },
    {
      "cell_type": "code",
      "execution_count": 169,
      "metadata": {
        "id": "-87Ja9BE0lZX",
        "tags": []
      },
      "outputs": [],
      "source": [
        "# Get a batch of test images and generate test projection data\n",
        "for i, (images, _) in enumerate(test_loader):\n",
        "    if i == 1:\n",
        "        break\n",
        "\n",
        "test_images = Variable(images)\n",
        "test_data = generate_data(test_images)"
      ]
    },
    {
      "cell_type": "markdown",
      "metadata": {
        "id": "U0w98PpQ0lZY"
      },
      "source": [
        "## FBP reconstruction\n",
        "\n",
        "First we make a simple FBP reconstruction and compare it to the ground truth."
      ]
    },
    {
      "cell_type": "code",
      "execution_count": 170,
      "metadata": {
        "colab": {
          "base_uri": "https://localhost:8080/",
          "height": 1000
        },
        "id": "DFqetiHk0lZZ",
        "outputId": "49569ac2-a621-4610-dd03-1cc64f2a42ec",
        "tags": []
      },
      "outputs": [
        {
          "output_type": "stream",
          "name": "stdout",
          "text": [
            "Average error: tensor(0.0023)\n"
          ]
        },
        {
          "output_type": "display_data",
          "data": {
            "text/plain": [
              "<Figure size 400x2000 with 20 Axes>"
            ],
            "image/png": "[encoded data removed]"
          },
          "metadata": {}
        }
      ],
      "source": [
        "fbp_recos = fbp_op_mod(test_data)\n",
        "print('Average error:', F.mse_loss(fbp_recos, test_images).data / len(test_images))\n",
        "\n",
        "# Display examples\n",
        "results = [test_images, fbp_recos]\n",
        "titles = ['Truth', 'FBP']\n",
        "show_image_matrix(results, titles, indices=slice(10, 20), clim=[0, 1], cmap='bone')"
      ]
    },
    {
      "cell_type": "markdown",
      "metadata": {
        "id": "9t9Eq7D50lZa"
      },
      "source": [
        "##Learned reconstruction"
      ]
    },
    {
      "cell_type": "code",
      "execution_count": 189,
      "metadata": {
        "id": "LUvSJKqJeUH5"
      },
      "outputs": [],
      "source": [
        "conf_args = {\n",
        "    # optimizer\n",
        "    'delta':1.0, 'lr':0.01, 'lamda_0':0.01, 'lamda_1':0.0, 'optim':\"L1SGD\", 'conv_group':True,\n",
        "    'beta':0.0,\n",
        "    # initialization\n",
        "    'sparse_init':0.4, 'r':[5.,5., 5.],\n",
        "    #training\n",
        "    'epochs': 30, 'loss_train': nn.MSELoss(), 'loss_test': nn.MSELoss(),\n",
        "}\n",
        "\n",
        "conf = cf.Conf(**conf_args)\n"
      ]
    },
    {
      "cell_type": "code",
      "source": [
        "import torch\n",
        "import torch.nn as nn\n",
        "import torch.nn.functional as F\n",
        "\n",
        "class ANN(nn.Module):\n",
        "    def __init__(self, input_size, hidden_dim=256, output_dim=28*28):\n",
        "        \"\"\"\n",
        "        Args:\n",
        "            input_size (int): Dimension of the flattened input (e.g. 5*41, 72*41, etc.).\n",
        "            hidden_dim (int): Dimension of the hidden layers.\n",
        "            output_dim (int): Dimension of the output (default is 28*28).\n",
        "        \"\"\"\n",
        "        super(ANN, self).__init__()   # Use ANN here, not FullRecoNet\n",
        "        self.input_size = input_size\n",
        "        self.hidden_dim = hidden_dim\n",
        "        self.output_dim = output_dim\n",
        "\n",
        "        self.lin1 = nn.Linear(input_size, hidden_dim)\n",
        "        self.lin2 = nn.Linear(hidden_dim, hidden_dim)\n",
        "        self.lin3 = nn.Linear(hidden_dim, output_dim)\n",
        "\n",
        "    def forward(self, x):\n",
        "        # Flatten the input to [batch_size, input_size]\n",
        "        x = x.view(-1, self.input_size)\n",
        "\n",
        "        x = F.relu(self.lin1(x))\n",
        "        x = F.relu(self.lin2(x))\n",
        "        x = self.lin3(x)\n",
        "\n",
        "        return x.view(-1, 1, 28, 28)\n",
        "\n",
        "# Instantiate with the desired input_size\n",
        "model = ANN(input_size=72*41)\n"
      ],
      "metadata": {
        "id": "AYSWpHuXgEpZ"
      },
      "execution_count": 193,
      "outputs": []
    },
    {
      "cell_type": "code",
      "execution_count": 194,
      "metadata": {
        "colab": {
          "base_uri": "https://localhost:8080/"
        },
        "id": "-50K3AB6tB-i",
        "outputId": "5d3cff25-602e-4e2f-d2d6-0f498dc33d25"
      },
      "outputs": [
        {
          "output_type": "stream",
          "name": "stdout",
          "text": [
            "net_sparse 0.40064308304108215\n"
          ]
        }
      ],
      "source": [
        "def init_weights(model):\n",
        "    # sparsify\n",
        "    maf.sparse_bias_uniform_(model, 0.1, 0.1, ltype=torch.nn.Linear)\n",
        "    maf.sparse_bias_uniform_(model, 0, 0.1, ltype=torch.nn.Conv2d)\n",
        "    maf.sparse_weight_normal_(model, 0.1, ltype=torch.nn.Linear)\n",
        "    maf.sparsify_(model, conf.sparse_init, ltype=nn.Linear, conv_group=False)\n",
        "    maf.sparse_weight_normal_(model, 0.1, ltype=torch.nn.Conv2d)\n",
        "    maf.sparsify_(model, 0.4, ltype=nn.Conv2d, conv_group=conf.conv_group)\n",
        "    return model\n",
        "\n",
        "# initialize the model\n",
        "model1=init_weights(model)\n",
        "\n",
        "print('net_sparse', maf.net_sparsity(model1))"
      ]
    },
    {
      "cell_type": "code",
      "execution_count": 195,
      "metadata": {
        "id": "bbpLyaqD0lZd",
        "tags": []
      },
      "outputs": [],
      "source": [
        "def init_opt(conf, model):\n",
        "    # -----------------------------------------------------------------------------------\n",
        "    # Get access to different model parameters\n",
        "    # -----------------------------------------------------------------------------------\n",
        "    weights_conv = maf.get_weights_conv(model)\n",
        "    weights_linear = maf.get_weights_linear(model)\n",
        "    biases = maf.get_bias(model)\n",
        "\n",
        "    # -----------------------------------------------------------------------------------\n",
        "    # Initialize optimizer\n",
        "    # -----------------------------------------------------------------------------------\n",
        "    if conf.conv_group:\n",
        "        reg2 = reg.reg_l1_l1_l2_conv(lamda0=conf.lamda_0, lamda1=conf.lamda_1)\n",
        "    else:\n",
        "        reg2 = reg.reg_l1(lamda=conf.lamda_0)\n",
        "\n",
        "    if conf.optim == \"SGD\":\n",
        "        opt = torch.optim.SGD(model.parameters(), lr=conf.lr, momentum=conf.beta, weight_decay=conf.lamda_1)\n",
        "    elif conf.optim == \"LinBreg\":\n",
        "        opt = op.LinBreg([{'params': weights_conv, 'lr' : conf.lr, 'reg' : reg2, 'momentum':conf.beta,'delta':conf.delta},\n",
        "                          {'params': weights_linear, 'lr' : conf.lr, 'reg' : reg.reg_l1(lamda=conf.lamda_1), 'momentum':conf.beta,'delta':conf.delta},\n",
        "                          {'params': biases, 'lr': conf.lr, 'momentum':conf.beta}])\n",
        "    elif conf.optim == \"L1SGD\":\n",
        "        def weight_reg(model):\n",
        "            reg1 =  reg.reg_l1(lamda=conf.lamda_1)\n",
        "\n",
        "            loss1 = reg1(model.layers2[0].weight) + reg1(model.layers2[2].weight)\n",
        "            loss2 = reg2(model.layers1[0].weight) + reg2(model.layers1[3].weight)\n",
        "            return loss1 + loss2\n",
        "\n",
        "        conf.weight_reg = weight_reg\n",
        "\n",
        "        opt = torch.optim.SGD(model.parameters(), lr=conf.lr, momentum=conf.beta)\n",
        "    else:\n",
        "        raise ValueError(\"Unknown Optimizer specified\")\n",
        "\n",
        "    # learning rate scheduler\n",
        "    scheduler = torch.optim.lr_scheduler.ReduceLROnPlateau(opt, factor=0.7, patience=10,threshold=0.0001)\n",
        "\n",
        "    return opt, scheduler\n"
      ]
    },
    {
      "cell_type": "code",
      "execution_count": 196,
      "metadata": {
        "id": "d6fDIzfZ38lj"
      },
      "outputs": [],
      "source": [
        "# Lists to store results for later saving\n",
        "epoch_list = []\n",
        "val_loss_list = []\n",
        "sparsity_list = []\n",
        "\n",
        "# Formatted directory structure\n",
        "save_path = os.path.join(\n",
        "    'ANN5PROJECTION',\n",
        "    f\"lr_{conf.lr}_l0_{conf.lamda_0}_l1_{conf.lamda_1}_{conf.optim}\"\n",
        ")\n",
        "os.makedirs(save_path, exist_ok=True)\n",
        "\n",
        "# File paths for storing results\n",
        "net_sparsity_path = os.path.join(save_path, \"net_sparsity.csv\")\n",
        "validation_loss_path = os.path.join(save_path, \"validation_loss.csv\")\n",
        "\n",
        "def save_epoch_results(epoch, val_data, train_time):\n",
        "    \"\"\"\n",
        "    Save validation results for each epoch to CSV files.\n",
        "    \"\"\"\n",
        "    def write_csv(file_path, headers, row):\n",
        "        file_exists = os.path.isfile(file_path)\n",
        "        with open(file_path, mode='a', newline='') as file:\n",
        "            writer = csv.writer(file)\n",
        "            if not file_exists:\n",
        "                writer.writerow(headers)\n",
        "            writer.writerow(row)\n",
        "\n",
        "    write_csv(net_sparsity_path, [\"Epoch\", \"Net Sparsity\"], [epoch, val_data['Net Sparsity']])\n",
        "    write_csv(validation_loss_path, [\"Epoch\", \"Validation Loss\"], [epoch, val_data['validation_loss']])"
      ]
    },
    {
      "cell_type": "code",
      "execution_count": 198,
      "metadata": {
        "colab": {
          "base_uri": "https://localhost:8080/",
          "height": 406
        },
        "id": "4wjipZtIqJZu",
        "outputId": "bcae3a01-3b92-4c36-ff76-79fbb9532171"
      },
      "outputs": [
        {
          "output_type": "stream",
          "name": "stdout",
          "text": [
            "Train Epoch: 1 | Average Loss: 0.982649 | Net Sparsity: 0.9985155858592184\n",
            "Validation Epoch: 1 | Learning Rate: 0.010000 | Average Loss: 0.884824\n"
          ]
        },
        {
          "output_type": "error",
          "ename": "FileNotFoundError",
          "evalue": "[Errno 2] No such file or directory: 'ANN5PROJECTION/lr_0.01_l0_0.01_l1_0.0_L1SGD/net_sparsity.csv'",
          "traceback": [
            "\u001b[0;31m---------------------------------------------------------------------------\u001b[0m",
            "\u001b[0;31mFileNotFoundError\u001b[0m                         Traceback (most recent call last)",
            "\u001b[0;32m<ipython-input-198-fc9cc958218b>\u001b[0m in \u001b[0;36m<cell line: 0>\u001b[0;34m()\u001b[0m\n\u001b[1;32m     45\u001b[0m         \u001b[0;34m'validation_loss'\u001b[0m\u001b[0;34m:\u001b[0m \u001b[0mavg_val_loss\u001b[0m\u001b[0;34m\u001b[0m\u001b[0;34m\u001b[0m\u001b[0m\n\u001b[1;32m     46\u001b[0m     }\n\u001b[0;32m---> 47\u001b[0;31m     \u001b[0msave_epoch_results\u001b[0m\u001b[0;34m(\u001b[0m\u001b[0mepoch\u001b[0m\u001b[0;34m,\u001b[0m \u001b[0mval_data\u001b[0m\u001b[0;34m,\u001b[0m \u001b[0mtrain_time\u001b[0m\u001b[0;34m)\u001b[0m\u001b[0;34m\u001b[0m\u001b[0;34m\u001b[0m\u001b[0m\n\u001b[0m\u001b[1;32m     48\u001b[0m \u001b[0;34m\u001b[0m\u001b[0m\n\u001b[1;32m     49\u001b[0m     \u001b[0;32mif\u001b[0m \u001b[0mscheduler\u001b[0m \u001b[0;32mis\u001b[0m \u001b[0;32mnot\u001b[0m \u001b[0;32mNone\u001b[0m\u001b[0;34m:\u001b[0m\u001b[0;34m\u001b[0m\u001b[0;34m\u001b[0m\u001b[0m\n",
            "\u001b[0;32m<ipython-input-196-a1c7e728cfac>\u001b[0m in \u001b[0;36msave_epoch_results\u001b[0;34m(epoch, val_data, train_time)\u001b[0m\n\u001b[1;32m     27\u001b[0m             \u001b[0mwriter\u001b[0m\u001b[0;34m.\u001b[0m\u001b[0mwriterow\u001b[0m\u001b[0;34m(\u001b[0m\u001b[0mrow\u001b[0m\u001b[0;34m)\u001b[0m\u001b[0;34m\u001b[0m\u001b[0;34m\u001b[0m\u001b[0m\n\u001b[1;32m     28\u001b[0m \u001b[0;34m\u001b[0m\u001b[0m\n\u001b[0;32m---> 29\u001b[0;31m     \u001b[0mwrite_csv\u001b[0m\u001b[0;34m(\u001b[0m\u001b[0mnet_sparsity_path\u001b[0m\u001b[0;34m,\u001b[0m \u001b[0;34m[\u001b[0m\u001b[0;34m\"Epoch\"\u001b[0m\u001b[0;34m,\u001b[0m \u001b[0;34m\"Net Sparsity\"\u001b[0m\u001b[0;34m]\u001b[0m\u001b[0;34m,\u001b[0m \u001b[0;34m[\u001b[0m\u001b[0mepoch\u001b[0m\u001b[0;34m,\u001b[0m \u001b[0mval_data\u001b[0m\u001b[0;34m[\u001b[0m\u001b[0;34m'Net Sparsity'\u001b[0m\u001b[0;34m]\u001b[0m\u001b[0;34m]\u001b[0m\u001b[0;34m)\u001b[0m\u001b[0;34m\u001b[0m\u001b[0;34m\u001b[0m\u001b[0m\n\u001b[0m\u001b[1;32m     30\u001b[0m     \u001b[0mwrite_csv\u001b[0m\u001b[0;34m(\u001b[0m\u001b[0mvalidation_loss_path\u001b[0m\u001b[0;34m,\u001b[0m \u001b[0;34m[\u001b[0m\u001b[0;34m\"Epoch\"\u001b[0m\u001b[0;34m,\u001b[0m \u001b[0;34m\"Validation Loss\"\u001b[0m\u001b[0;34m]\u001b[0m\u001b[0;34m,\u001b[0m \u001b[0;34m[\u001b[0m\u001b[0mepoch\u001b[0m\u001b[0;34m,\u001b[0m \u001b[0mval_data\u001b[0m\u001b[0;34m[\u001b[0m\u001b[0;34m'validation_loss'\u001b[0m\u001b[0;34m]\u001b[0m\u001b[0;34m]\u001b[0m\u001b[0;34m)\u001b[0m\u001b[0;34m\u001b[0m\u001b[0;34m\u001b[0m\u001b[0m\n",
            "\u001b[0;32m<ipython-input-196-a1c7e728cfac>\u001b[0m in \u001b[0;36mwrite_csv\u001b[0;34m(file_path, headers, row)\u001b[0m\n\u001b[1;32m     21\u001b[0m     \u001b[0;32mdef\u001b[0m \u001b[0mwrite_csv\u001b[0m\u001b[0;34m(\u001b[0m\u001b[0mfile_path\u001b[0m\u001b[0;34m,\u001b[0m \u001b[0mheaders\u001b[0m\u001b[0;34m,\u001b[0m \u001b[0mrow\u001b[0m\u001b[0;34m)\u001b[0m\u001b[0;34m:\u001b[0m\u001b[0;34m\u001b[0m\u001b[0;34m\u001b[0m\u001b[0m\n\u001b[1;32m     22\u001b[0m         \u001b[0mfile_exists\u001b[0m \u001b[0;34m=\u001b[0m \u001b[0mos\u001b[0m\u001b[0;34m.\u001b[0m\u001b[0mpath\u001b[0m\u001b[0;34m.\u001b[0m\u001b[0misfile\u001b[0m\u001b[0;34m(\u001b[0m\u001b[0mfile_path\u001b[0m\u001b[0;34m)\u001b[0m\u001b[0;34m\u001b[0m\u001b[0;34m\u001b[0m\u001b[0m\n\u001b[0;32m---> 23\u001b[0;31m         \u001b[0;32mwith\u001b[0m \u001b[0mopen\u001b[0m\u001b[0;34m(\u001b[0m\u001b[0mfile_path\u001b[0m\u001b[0;34m,\u001b[0m \u001b[0mmode\u001b[0m\u001b[0;34m=\u001b[0m\u001b[0;34m'a'\u001b[0m\u001b[0;34m,\u001b[0m \u001b[0mnewline\u001b[0m\u001b[0;34m=\u001b[0m\u001b[0;34m''\u001b[0m\u001b[0;34m)\u001b[0m \u001b[0;32mas\u001b[0m \u001b[0mfile\u001b[0m\u001b[0;34m:\u001b[0m\u001b[0;34m\u001b[0m\u001b[0;34m\u001b[0m\u001b[0m\n\u001b[0m\u001b[1;32m     24\u001b[0m             \u001b[0mwriter\u001b[0m \u001b[0;34m=\u001b[0m \u001b[0mcsv\u001b[0m\u001b[0;34m.\u001b[0m\u001b[0mwriter\u001b[0m\u001b[0;34m(\u001b[0m\u001b[0mfile\u001b[0m\u001b[0;34m)\u001b[0m\u001b[0;34m\u001b[0m\u001b[0;34m\u001b[0m\u001b[0m\n\u001b[1;32m     25\u001b[0m             \u001b[0;32mif\u001b[0m \u001b[0;32mnot\u001b[0m \u001b[0mfile_exists\u001b[0m\u001b[0;34m:\u001b[0m\u001b[0;34m\u001b[0m\u001b[0;34m\u001b[0m\u001b[0m\n",
            "\u001b[0;31mFileNotFoundError\u001b[0m: [Errno 2] No such file or directory: 'ANN5PROJECTION/lr_0.01_l0_0.01_l1_0.0_L1SGD/net_sparsity.csv'"
          ]
        }
      ],
      "source": [
        "optimizer, scheduler = init_opt(conf, model1)\n",
        "loss_train= conf.loss_train\n",
        "loss_test= conf.loss_test\n",
        "epochs = conf.epochs\n",
        "def train(epoch):\n",
        "    model1.train()\n",
        "    train_loss = 0\n",
        "    for batch_idx, (images, _) in enumerate(train_loader):\n",
        "        images = Variable(images)\n",
        "        projs = generate_data(images)\n",
        "        optimizer.zero_grad()\n",
        "        output = model1(projs)\n",
        "        loss = loss_train(output, images)\n",
        "        loss.backward()\n",
        "        optimizer.step()\n",
        "        train_loss += loss.item()\n",
        "\n",
        "    end_time = time.time()\n",
        "    avg_train_loss = train_loss / len(train_loader)\n",
        "    print(f'Train Epoch: {epoch} | Average Loss: {avg_train_loss:.6f} | Net Sparsity: {maf.net_sparsity(model1)}')\n",
        "\n",
        "def validate(epoch):\n",
        "    model1.eval()\n",
        "    val_loss = 0\n",
        "    with torch.no_grad():\n",
        "        for val_images, _ in val_loader:\n",
        "            val_images = Variable(val_images)\n",
        "            val_projs = generate_data(val_images)\n",
        "            output = model1(val_projs)\n",
        "            loss = loss_train(output, val_images)\n",
        "            val_loss += loss.item()\n",
        "\n",
        "    avg_val_loss = val_loss / len(val_loader)\n",
        "    current_lr = optimizer.param_groups[0]['lr']\n",
        "    print(f'Validation Epoch: {epoch} | Learning Rate: {current_lr:.6f} | Average Loss: {avg_val_loss:.6f}')\n",
        "    return avg_val_loss\n",
        "\n",
        "# Main training loop\n",
        "for epoch in range(1, epochs + 1):\n",
        "    train_time = train(epoch)\n",
        "    avg_val_loss = validate(epoch)\n",
        "\n",
        "    val_data = {\n",
        "        'Net Sparsity': maf.net_sparsity(model1),\n",
        "        'validation_loss': avg_val_loss\n",
        "    }\n",
        "    save_epoch_results(epoch, val_data, train_time)\n",
        "\n",
        "    if scheduler is not None:\n",
        "        scheduler.step(avg_val_loss)\n"
      ]
    },
    {
      "cell_type": "code",
      "execution_count": 29,
      "metadata": {
        "colab": {
          "base_uri": "https://localhost:8080/",
          "height": 881
        },
        "id": "ew87NHHT4Uj8",
        "outputId": "138dd5ad-9606-4bff-9b5d-94e6694c68a0"
      },
      "outputs": [
        {
          "output_type": "stream",
          "name": "stdout",
          "text": [
            "Plotting metrics for: LR=0.01, L0=0.01, L1=0.0, OPT=L1SGD\n",
            "Plotting metrics for: LR=0.01, L0=0.01, L1=0.0, OPT=L1SGD\n"
          ]
        },
        {
          "output_type": "display_data",
          "data": {
            "text/plain": [
              "<Figure size 1600x1200 with 2 Axes>"
            ],
            "image/png": "[encoded data removed]"
          },
          "metadata": {}
        }
      ],
      "source": [
        "# Function to read CSV file into a dictionary\n",
        "def read_csv_to_dict(file_path):\n",
        "    data = {}\n",
        "    with open(file_path, mode='r') as file:\n",
        "        reader = csv.reader(file)\n",
        "        headers = next(reader)\n",
        "        for row in reader:\n",
        "            epoch = int(row[0])\n",
        "            value = float(row[1])\n",
        "            data[epoch] = value\n",
        "    return data\n",
        "\n",
        "# Function to read node sparsity CSV file into a dictionary\n",
        "def read_node_sparsity_csv(file_path):\n",
        "    data = {}\n",
        "    with open(file_path, mode='r') as file:\n",
        "        reader = csv.reader(file)\n",
        "        headers = next(reader)\n",
        "        node_indices = [header.split('_')[-1] for header in headers[1:]]  # Extract node indices from headers\n",
        "        for row in reader:\n",
        "            epoch = int(row[0])\n",
        "            values = list(map(float, row[1:]))\n",
        "            for idx, node_index in enumerate(node_indices):\n",
        "                if node_index not in data:\n",
        "                    data[node_index] = []\n",
        "                data[node_index].append(values[idx])\n",
        "    return data\n",
        "\n",
        "# Function to plot training loss\n",
        "def plot_training_loss(ax, save_path, formatted_lr, formatted_lamda0, formatted_lamda1, formatted_opt):\n",
        "    loss_path = os.path.join(save_path, \"validation_loss.csv\")\n",
        "    loss_data = read_csv_to_dict(loss_path)\n",
        "\n",
        "    epochs = list(loss_data.keys())\n",
        "    loss_values = list(loss_data.values())\n",
        "\n",
        "    ax.plot(epochs, loss_values, marker='o', linestyle='-', label=f'Validation Loss: lr={formatted_lr}, $\\\\lambda_0$={formatted_lamda0}, $\\\\lambda_1$={formatted_lamda1}, Optimizer={formatted_opt}')\n",
        "    return epochs\n",
        "\n",
        "# Function to plot net sparsity\n",
        "def plot_net_sparsity(ax, save_path, formatted_lr, formatted_lamda0, formatted_lamda1, formatted_opt):\n",
        "    net_path = os.path.join(save_path, \"net_sparsity.csv\")\n",
        "    net_data = read_csv_to_dict(net_path)\n",
        "\n",
        "    epochs = list(net_data.keys())\n",
        "    net_values = list(net_data.values())\n",
        "\n",
        "    ax.plot(epochs, net_values, marker='o', linestyle='-', label=f'Net Sparsity: lr={formatted_lr}, $\\\\lambda_0$={formatted_lamda0}, $\\\\lambda_1$={formatted_lamda1}, Optimizer={formatted_opt}')\n",
        "    return epochs\n",
        "\n",
        "# Function to create and display plots in a 2x2 grid\n",
        "def create_and_display_plots_1x2(base_path):\n",
        "    fig, axs = plt.subplots(1, 2, figsize=(16, 12))\n",
        "    axs = axs.flatten()\n",
        "    plot_functions = [plot_training_loss, plot_net_sparsity]\n",
        "    titles = ['Validation Loss', 'Non-zero entries']\n",
        "    ylabels = ['Loss', 'Non-zero entries']\n",
        "\n",
        "    subdirectories = [name for name in os.listdir(base_path) if os.path.isdir(os.path.join(base_path, name))]\n",
        "\n",
        "    for ax, plot_function, title, ylabel in zip(axs, plot_functions, titles, ylabels):\n",
        "        all_epochs = []\n",
        "        for subdir in subdirectories:\n",
        "            subdir_path = os.path.join(base_path, subdir)\n",
        "\n",
        "            # Parse the directory name to extract parameters\n",
        "            params = subdir.split('_')\n",
        "            formatted_lr = params[1]\n",
        "            formatted_lamda0 = params[3]\n",
        "            formatted_lamda1 = params[5]\n",
        "            formatted_opt = params[6]\n",
        "\n",
        "            print(f\"Plotting metrics for: LR={formatted_lr}, L0={formatted_lamda0}, L1={formatted_lamda1}, OPT={formatted_opt}\")\n",
        "\n",
        "            epochs = plot_function(ax, subdir_path, formatted_lr, formatted_lamda0, formatted_lamda1, formatted_opt)\n",
        "            all_epochs.extend(epochs)\n",
        "\n",
        "        ax.set_title(title)\n",
        "        ax.set_ylabel(ylabel)\n",
        "        ax.set_xlabel('Epoch')\n",
        "        ax.legend()\n",
        "        ax.grid(True)\n",
        "\n",
        "        if all_epochs:\n",
        "            max_epoch = max(all_epochs)\n",
        "            ax.set_xticks(range(0, max_epoch + 1, 10))  # Set x-axis ticks for every 10 epochs\n",
        "            ax.set_xticklabels(range(0, max_epoch + 1, 10))  # Set x-axis tick labels for every 10 epochs\n",
        "\n",
        "    plt.tight_layout()\n",
        "    plt.savefig('/content/ANN5PROJECTION')\n",
        "    plt.show()\n",
        "\n",
        "# Example usage\n",
        "save_path = '/content/ANN5PROJECTION'\n",
        "create_and_display_plots_1x2(save_path)\n"
      ]
    },
    {
      "cell_type": "markdown",
      "metadata": {
        "id": "RFWLuBZJ0lZe"
      },
      "source": [
        "Visualizing a sample from the results in comparison to FBP:"
      ]
    },
    {
      "cell_type": "code",
      "execution_count": 30,
      "metadata": {
        "colab": {
          "base_uri": "https://localhost:8080/",
          "height": 539
        },
        "id": "GIQOarWM0lZf",
        "outputId": "a5bcedff-745c-4f18-90a3-c7a55d6b6158"
      },
      "outputs": [
        {
          "output_type": "display_data",
          "data": {
            "text/plain": [
              "<Figure size 600x600 with 9 Axes>"
            ],
            "image/png": "[encoded data removed]"
          },
          "metadata": {}
        },
        {
          "output_type": "stream",
          "name": "stdout",
          "text": [
            "net_sparse 0.9916729417670683\n"
          ]
        }
      ],
      "source": [
        "test_res_full = model1(test_data)\n",
        "results = [test_images.cpu(), fbp_recos.cpu(), test_res_full.cpu()]\n",
        "titles = ['Truth', 'FBP', 'Full']\n",
        "show_image_matrix(results, titles, indices=slice(20, 23), clim=[0, 1], cmap='bone')\n",
        "print('net_sparse', maf.net_sparsity(model1))\n",
        "output_folder = '/content/ANN5PROJECTION'\n",
        "output_path = os.path.join(output_folder, 'image_matrix.png')\n",
        "plt.tight_layout()\n",
        "plt.savefig(output_path)\n",
        "plt.close()"
      ]
    },
    {
      "cell_type": "code",
      "execution_count": 32,
      "metadata": {
        "colab": {
          "base_uri": "https://localhost:8080/",
          "height": 196
        },
        "id": "eTSWamoeURi-",
        "outputId": "4a84d2e0-fb7e-4fcb-f141-57f982eaecf8"
      },
      "outputs": [
        {
          "output_type": "display_data",
          "data": {
            "text/plain": [
              "<Figure size 600x200 with 3 Axes>"
            ],
            "image/png": "[encoded data removed]"
          },
          "metadata": {}
        }
      ],
      "source": [
        "# Step 1: Load and preprocess the image\n",
        "img_path = 'cameraman.jpg'\n",
        "img = Image.open(img_path).convert('L')  # Convert to grayscale\n",
        "\n",
        "# Resize to 28x28\n",
        "img = img.resize((28, 28))\n",
        "\n",
        "# Normalize and create a tensor\n",
        "img_tensor = torch.tensor(\n",
        "    np.array(img, dtype=np.float32)/255.0  # Normalize to [0, 1]\n",
        ").unsqueeze(0).unsqueeze(0)  # Add batch and channel dimensions (1, 1, 28, 28)\n",
        "\n",
        "img_variable = Variable(img_tensor)\n",
        "\n",
        "# Step 2: Generate projection data\n",
        "projection_data = generate_data(img_variable)  # Shape: (1, 1, 5, 41)\n",
        "\n",
        "# Step 3: Feed the projection data into the model\n",
        "fbp_reconstruction = fbp_op_mod(projection_data)  # FBP reconstruction\n",
        "model1_result = model1(projection_data)  # Model1 reconstruction\n",
        "# Step 4: Visualize the results\n",
        "results = [\n",
        "    img_tensor.squeeze(0).cpu(),  # Original image\n",
        "    fbp_reconstruction.squeeze(0).cpu(),  # FBP result\n",
        "    model1_result.squeeze(0).cpu()  # Model1 result\n",
        "]\n",
        "titles = ['Original Image', 'FBP Reconstruction', 'Model1 Reconstruction']\n",
        "\n",
        "show_image_matrix(results, titles=titles, clim=[0, 1], cmap='bone')\n",
        "output_folder = '/content/ANN5PROJECTION'\n",
        "output_path = os.path.join(output_folder, 'cameraman.png')\n",
        "plt.tight_layout()\n",
        "plt.savefig(output_path)\n",
        "plt.close()\n"
      ]
    },
    {
      "cell_type": "markdown",
      "metadata": {
        "id": "cpvojKEl0lZg"
      },
      "source": [
        "These examples look much better than FBP (unsurprisingly), but there are still some issues with noise, deformations etc.\n",
        "\n",
        "To also make an assessment about the number of trainable parameters and thus the scalability of the approach (the more parameters, the harder to train), the total number of parameters in the model can be checked like this:"
      ]
    },
    {
      "cell_type": "code",
      "execution_count": null,
      "metadata": {
        "colab": {
          "base_uri": "https://localhost:8080/"
        },
        "id": "M42oJTpd0lZi",
        "outputId": "135c3485-996a-4c63-ac86-d1dcdb6f5552"
      },
      "outputs": [
        {
          "name": "stdout",
          "output_type": "stream",
          "text": [
            "Total number of parameters: 2064144\n",
            "Training data size: 470400\n"
          ]
        }
      ],
      "source": [
        "print('Total number of parameters:',\n",
        "      sum(param.numel() for param in model1.parameters()))\n",
        "print('Training data size:', 600 * 28 ** 2)"
      ]
    },
    {
      "cell_type": "markdown",
      "metadata": {
        "id": "wzDOe2cV0lZj"
      },
      "source": [
        "It turns out that for this tiny problem, the number of parameters is over 2 million. This is still a good deal away from the input data size (47 million), but overfitting is likely with this network. Therefore we explore sparser architectures."
      ]
    }
  ],
  "metadata": {
    "accelerator": "GPU",
    "colab": {
      "gpuType": "L4",
      "provenance": []
    },
    "kernelspec": {
      "display_name": "Python 3",
      "name": "python3"
    },
    "language_info": {
      "codemirror_mode": {
        "name": "ipython",
        "version": 3
      },
      "file_extension": ".py",
      "mimetype": "text/x-python",
      "name": "python",
      "nbconvert_exporter": "python",
      "pygments_lexer": "ipython3",
      "version": "3.11.9"
    }
  },
  "nbformat": 4,
  "nbformat_minor": 0
}