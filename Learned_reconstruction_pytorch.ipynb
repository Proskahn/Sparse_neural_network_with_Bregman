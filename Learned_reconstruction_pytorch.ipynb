{
  "cells": [
    {
      "cell_type": "markdown",
      "metadata": {
        "id": "lKIporRm0lZG"
      },
      "source": [
        "# Learned Reconstruction\n",
        "\n",
        "In inverse problems, we want to recover some signal $x$ from noisy measurements $y$ where we know the forward model $\\mathcal{T} : \\mathcal{X} \\to \\mathcal{Y}$\n",
        "$$\n",
        "    y = \\mathcal{T}(x) + e\n",
        "$$\n",
        "In machine learning for inverse problems we aim to find some operator $\\mathcal{T}_\\theta^\\dagger : \\mathcal{Y} \\to \\mathcal{X}$ that inverts this process\n",
        "$$\n",
        "    \\mathcal{T}_\\theta^\\dagger(y) \\approx x\n",
        "$$\n",
        "\n",
        "This notebook demonstrates how to use ODL to perform learned reconstruction of the famous MNIST dataset. We demonstrate three ways of doing this\n",
        "\n",
        "* Fully learned reconstruction\n",
        "* Learned post-processing\n",
        "* Learned iterative reconstruction\n",
        "\n",
        "and we also compare to FBP-based reconstruction.\n",
        "\n",
        "The results should be approximately\n",
        "\n",
        "| Method                 |  Mean Error  |\n",
        "|------------------------|----------|\n",
        "| FBP                    | 0.01694  |\n",
        "| Fully learned          | 0.00226  |\n",
        "| FBP + learned denoiser | 0.00260  |\n",
        "| Learned Iterative      | 0.005150 |\n",
        "\n",
        "Note that the examples in this notebook may take some time to run, approximately 10-15 minutes each can be expected on a reasonable laptop.\n",
        "\n",
        "**Note:** This is a pytorch port of [the notebook using tensorflow](part3_learned_reconstruction.ipynb) with reduced text, see the other notebook for more details."
      ]
    },
    {
      "cell_type": "code",
      "execution_count": 1,
      "metadata": {
        "colab": {
          "base_uri": "https://localhost:8080/"
        },
        "id": "zKcYb7jZebUk",
        "outputId": "01fbfe66-8d57-4612-cd52-d63bf36d1c0d"
      },
      "outputs": [
        {
          "output_type": "stream",
          "name": "stdout",
          "text": [
            "Collecting odl==1.0.0.dev0\n",
            "  Downloading https://www.uni-muenster.de/AMM/num/assets/odl-1.0.0.dev0-py2.py3-none-any.whl (764 kB)\n",
            "\u001b[2K     \u001b[90m━━━━━━━━━━━━━━━━━━━━━━━━━━━━━━━━━━━━━━━━\u001b[0m \u001b[32m764.7/764.7 kB\u001b[0m \u001b[31m867.6 kB/s\u001b[0m eta \u001b[36m0:00:00\u001b[0m\n",
            "\u001b[?25hRequirement already satisfied: setuptools>=65.6 in /usr/local/lib/python3.11/dist-packages (from odl==1.0.0.dev0) (75.1.0)\n",
            "Requirement already satisfied: future>=0.16 in /usr/local/lib/python3.11/dist-packages (from odl==1.0.0.dev0) (1.0.0)\n",
            "Requirement already satisfied: packaging>=17.0 in /usr/local/lib/python3.11/dist-packages (from odl==1.0.0.dev0) (24.2)\n",
            "Requirement already satisfied: numpy<1.27,>=1.19 in /usr/local/lib/python3.11/dist-packages (from odl==1.0.0.dev0) (1.26.4)\n",
            "Requirement already satisfied: scipy>=1.1 in /usr/local/lib/python3.11/dist-packages (from odl==1.0.0.dev0) (1.13.1)\n",
            "Requirement already satisfied: matplotlib>=3.4 in /usr/local/lib/python3.11/dist-packages (from odl==1.0.0.dev0) (3.10.0)\n",
            "Requirement already satisfied: contourpy>=1.0.1 in /usr/local/lib/python3.11/dist-packages (from matplotlib>=3.4->odl==1.0.0.dev0) (1.3.1)\n",
            "Requirement already satisfied: cycler>=0.10 in /usr/local/lib/python3.11/dist-packages (from matplotlib>=3.4->odl==1.0.0.dev0) (0.12.1)\n",
            "Requirement already satisfied: fonttools>=4.22.0 in /usr/local/lib/python3.11/dist-packages (from matplotlib>=3.4->odl==1.0.0.dev0) (4.56.0)\n",
            "Requirement already satisfied: kiwisolver>=1.3.1 in /usr/local/lib/python3.11/dist-packages (from matplotlib>=3.4->odl==1.0.0.dev0) (1.4.8)\n",
            "Requirement already satisfied: pillow>=8 in /usr/local/lib/python3.11/dist-packages (from matplotlib>=3.4->odl==1.0.0.dev0) (11.1.0)\n",
            "Requirement already satisfied: pyparsing>=2.3.1 in /usr/local/lib/python3.11/dist-packages (from matplotlib>=3.4->odl==1.0.0.dev0) (3.2.1)\n",
            "Requirement already satisfied: python-dateutil>=2.7 in /usr/local/lib/python3.11/dist-packages (from matplotlib>=3.4->odl==1.0.0.dev0) (2.8.2)\n",
            "Requirement already satisfied: six>=1.5 in /usr/local/lib/python3.11/dist-packages (from python-dateutil>=2.7->matplotlib>=3.4->odl==1.0.0.dev0) (1.17.0)\n",
            "Installing collected packages: odl\n",
            "Successfully installed odl-1.0.0.dev0\n"
          ]
        }
      ],
      "source": [
        "!pip install https://www.uni-muenster.de/AMM/num/assets/odl-1.0.0.dev0-py2.py3-none-any.whl"
      ]
    },
    {
      "cell_type": "code",
      "execution_count": 2,
      "metadata": {
        "colab": {
          "base_uri": "https://localhost:8080/"
        },
        "id": "S7LcGprpevpx",
        "outputId": "f93fb32e-065b-4808-b518-53fd1c60f6f0"
      },
      "outputs": [
        {
          "output_type": "stream",
          "name": "stdout",
          "text": [
            "Collecting torchmetrics\n",
            "  Downloading torchmetrics-1.6.1-py3-none-any.whl.metadata (21 kB)\n",
            "Requirement already satisfied: numpy>1.20.0 in /usr/local/lib/python3.11/dist-packages (from torchmetrics) (1.26.4)\n",
            "Requirement already satisfied: packaging>17.1 in /usr/local/lib/python3.11/dist-packages (from torchmetrics) (24.2)\n",
            "Requirement already satisfied: torch>=2.0.0 in /usr/local/lib/python3.11/dist-packages (from torchmetrics) (2.5.1+cu124)\n",
            "Collecting lightning-utilities>=0.8.0 (from torchmetrics)\n",
            "  Downloading lightning_utilities-0.12.0-py3-none-any.whl.metadata (5.6 kB)\n",
            "Requirement already satisfied: setuptools in /usr/local/lib/python3.11/dist-packages (from lightning-utilities>=0.8.0->torchmetrics) (75.1.0)\n",
            "Requirement already satisfied: typing_extensions in /usr/local/lib/python3.11/dist-packages (from lightning-utilities>=0.8.0->torchmetrics) (4.12.2)\n",
            "Requirement already satisfied: filelock in /usr/local/lib/python3.11/dist-packages (from torch>=2.0.0->torchmetrics) (3.17.0)\n",
            "Requirement already satisfied: networkx in /usr/local/lib/python3.11/dist-packages (from torch>=2.0.0->torchmetrics) (3.4.2)\n",
            "Requirement already satisfied: jinja2 in /usr/local/lib/python3.11/dist-packages (from torch>=2.0.0->torchmetrics) (3.1.5)\n",
            "Requirement already satisfied: fsspec in /usr/local/lib/python3.11/dist-packages (from torch>=2.0.0->torchmetrics) (2024.10.0)\n",
            "Collecting nvidia-cuda-nvrtc-cu12==12.4.127 (from torch>=2.0.0->torchmetrics)\n",
            "  Downloading nvidia_cuda_nvrtc_cu12-12.4.127-py3-none-manylinux2014_x86_64.whl.metadata (1.5 kB)\n",
            "Collecting nvidia-cuda-runtime-cu12==12.4.127 (from torch>=2.0.0->torchmetrics)\n",
            "  Downloading nvidia_cuda_runtime_cu12-12.4.127-py3-none-manylinux2014_x86_64.whl.metadata (1.5 kB)\n",
            "Collecting nvidia-cuda-cupti-cu12==12.4.127 (from torch>=2.0.0->torchmetrics)\n",
            "  Downloading nvidia_cuda_cupti_cu12-12.4.127-py3-none-manylinux2014_x86_64.whl.metadata (1.6 kB)\n",
            "Collecting nvidia-cudnn-cu12==9.1.0.70 (from torch>=2.0.0->torchmetrics)\n",
            "  Downloading nvidia_cudnn_cu12-9.1.0.70-py3-none-manylinux2014_x86_64.whl.metadata (1.6 kB)\n",
            "Collecting nvidia-cublas-cu12==12.4.5.8 (from torch>=2.0.0->torchmetrics)\n",
            "  Downloading nvidia_cublas_cu12-12.4.5.8-py3-none-manylinux2014_x86_64.whl.metadata (1.5 kB)\n",
            "Collecting nvidia-cufft-cu12==11.2.1.3 (from torch>=2.0.0->torchmetrics)\n",
            "  Downloading nvidia_cufft_cu12-11.2.1.3-py3-none-manylinux2014_x86_64.whl.metadata (1.5 kB)\n",
            "Collecting nvidia-curand-cu12==10.3.5.147 (from torch>=2.0.0->torchmetrics)\n",
            "  Downloading nvidia_curand_cu12-10.3.5.147-py3-none-manylinux2014_x86_64.whl.metadata (1.5 kB)\n",
            "Collecting nvidia-cusolver-cu12==11.6.1.9 (from torch>=2.0.0->torchmetrics)\n",
            "  Downloading nvidia_cusolver_cu12-11.6.1.9-py3-none-manylinux2014_x86_64.whl.metadata (1.6 kB)\n",
            "Collecting nvidia-cusparse-cu12==12.3.1.170 (from torch>=2.0.0->torchmetrics)\n",
            "  Downloading nvidia_cusparse_cu12-12.3.1.170-py3-none-manylinux2014_x86_64.whl.metadata (1.6 kB)\n",
            "Requirement already satisfied: nvidia-nccl-cu12==2.21.5 in /usr/local/lib/python3.11/dist-packages (from torch>=2.0.0->torchmetrics) (2.21.5)\n",
            "Requirement already satisfied: nvidia-nvtx-cu12==12.4.127 in /usr/local/lib/python3.11/dist-packages (from torch>=2.0.0->torchmetrics) (12.4.127)\n",
            "Collecting nvidia-nvjitlink-cu12==12.4.127 (from torch>=2.0.0->torchmetrics)\n",
            "  Downloading nvidia_nvjitlink_cu12-12.4.127-py3-none-manylinux2014_x86_64.whl.metadata (1.5 kB)\n",
            "Requirement already satisfied: triton==3.1.0 in /usr/local/lib/python3.11/dist-packages (from torch>=2.0.0->torchmetrics) (3.1.0)\n",
            "Requirement already satisfied: sympy==1.13.1 in /usr/local/lib/python3.11/dist-packages (from torch>=2.0.0->torchmetrics) (1.13.1)\n",
            "Requirement already satisfied: mpmath<1.4,>=1.1.0 in /usr/local/lib/python3.11/dist-packages (from sympy==1.13.1->torch>=2.0.0->torchmetrics) (1.3.0)\n",
            "Requirement already satisfied: MarkupSafe>=2.0 in /usr/local/lib/python3.11/dist-packages (from jinja2->torch>=2.0.0->torchmetrics) (3.0.2)\n",
            "Downloading torchmetrics-1.6.1-py3-none-any.whl (927 kB)\n",
            "\u001b[2K   \u001b[90m━━━━━━━━━━━━━━━━━━━━━━━━━━━━━━━━━━━━━━━━\u001b[0m \u001b[32m927.3/927.3 kB\u001b[0m \u001b[31m48.0 MB/s\u001b[0m eta \u001b[36m0:00:00\u001b[0m\n",
            "\u001b[?25hDownloading lightning_utilities-0.12.0-py3-none-any.whl (28 kB)\n",
            "Downloading nvidia_cublas_cu12-12.4.5.8-py3-none-manylinux2014_x86_64.whl (363.4 MB)\n",
            "\u001b[2K   \u001b[90m━━━━━━━━━━━━━━━━━━━━━━━━━━━━━━━━━━━━━━━━\u001b[0m \u001b[32m363.4/363.4 MB\u001b[0m \u001b[31m2.7 MB/s\u001b[0m eta \u001b[36m0:00:00\u001b[0m\n",
            "\u001b[?25hDownloading nvidia_cuda_cupti_cu12-12.4.127-py3-none-manylinux2014_x86_64.whl (13.8 MB)\n",
            "\u001b[2K   \u001b[90m━━━━━━━━━━━━━━━━━━━━━━━━━━━━━━━━━━━━━━━━\u001b[0m \u001b[32m13.8/13.8 MB\u001b[0m \u001b[31m115.2 MB/s\u001b[0m eta \u001b[36m0:00:00\u001b[0m\n",
            "\u001b[?25hDownloading nvidia_cuda_nvrtc_cu12-12.4.127-py3-none-manylinux2014_x86_64.whl (24.6 MB)\n",
            "\u001b[2K   \u001b[90m━━━━━━━━━━━━━━━━━━━━━━━━━━━━━━━━━━━━━━━━\u001b[0m \u001b[32m24.6/24.6 MB\u001b[0m \u001b[31m87.4 MB/s\u001b[0m eta \u001b[36m0:00:00\u001b[0m\n",
            "\u001b[?25hDownloading nvidia_cuda_runtime_cu12-12.4.127-py3-none-manylinux2014_x86_64.whl (883 kB)\n",
            "\u001b[2K   \u001b[90m━━━━━━━━━━━━━━━━━━━━━━━━━━━━━━━━━━━━━━━━\u001b[0m \u001b[32m883.7/883.7 kB\u001b[0m \u001b[31m65.9 MB/s\u001b[0m eta \u001b[36m0:00:00\u001b[0m\n",
            "\u001b[?25hDownloading nvidia_cudnn_cu12-9.1.0.70-py3-none-manylinux2014_x86_64.whl (664.8 MB)\n",
            "\u001b[2K   \u001b[90m━━━━━━━━━━━━━━━━━━━━━━━━━━━━━━━━━━━━━━━━\u001b[0m \u001b[32m664.8/664.8 MB\u001b[0m \u001b[31m1.6 MB/s\u001b[0m eta \u001b[36m0:00:00\u001b[0m\n",
            "\u001b[?25hDownloading nvidia_cufft_cu12-11.2.1.3-py3-none-manylinux2014_x86_64.whl (211.5 MB)\n",
            "\u001b[2K   \u001b[90m━━━━━━━━━━━━━━━━━━━━━━━━━━━━━━━━━━━━━━━━\u001b[0m \u001b[32m211.5/211.5 MB\u001b[0m \u001b[31m3.9 MB/s\u001b[0m eta \u001b[36m0:00:00\u001b[0m\n",
            "\u001b[?25hDownloading nvidia_curand_cu12-10.3.5.147-py3-none-manylinux2014_x86_64.whl (56.3 MB)\n",
            "\u001b[2K   \u001b[90m━━━━━━━━━━━━━━━━━━━━━━━━━━━━━━━━━━━━━━━━\u001b[0m \u001b[32m56.3/56.3 MB\u001b[0m \u001b[31m36.8 MB/s\u001b[0m eta \u001b[36m0:00:00\u001b[0m\n",
            "\u001b[?25hDownloading nvidia_cusolver_cu12-11.6.1.9-py3-none-manylinux2014_x86_64.whl (127.9 MB)\n",
            "\u001b[2K   \u001b[90m━━━━━━━━━━━━━━━━━━━━━━━━━━━━━━━━━━━━━━━━\u001b[0m \u001b[32m127.9/127.9 MB\u001b[0m \u001b[31m16.1 MB/s\u001b[0m eta \u001b[36m0:00:00\u001b[0m\n",
            "\u001b[?25hDownloading nvidia_cusparse_cu12-12.3.1.170-py3-none-manylinux2014_x86_64.whl (207.5 MB)\n",
            "\u001b[2K   \u001b[90m━━━━━━━━━━━━━━━━━━━━━━━━━━━━━━━━━━━━━━━━\u001b[0m \u001b[32m207.5/207.5 MB\u001b[0m \u001b[31m5.3 MB/s\u001b[0m eta \u001b[36m0:00:00\u001b[0m\n",
            "\u001b[?25hDownloading nvidia_nvjitlink_cu12-12.4.127-py3-none-manylinux2014_x86_64.whl (21.1 MB)\n",
            "\u001b[2K   \u001b[90m━━━━━━━━━━━━━━━━━━━━━━━━━━━━━━━━━━━━━━━━\u001b[0m \u001b[32m21.1/21.1 MB\u001b[0m \u001b[31m91.9 MB/s\u001b[0m eta \u001b[36m0:00:00\u001b[0m\n",
            "\u001b[?25hInstalling collected packages: nvidia-nvjitlink-cu12, nvidia-curand-cu12, nvidia-cufft-cu12, nvidia-cuda-runtime-cu12, nvidia-cuda-nvrtc-cu12, nvidia-cuda-cupti-cu12, nvidia-cublas-cu12, lightning-utilities, nvidia-cusparse-cu12, nvidia-cudnn-cu12, nvidia-cusolver-cu12, torchmetrics\n",
            "  Attempting uninstall: nvidia-nvjitlink-cu12\n",
            "    Found existing installation: nvidia-nvjitlink-cu12 12.5.82\n",
            "    Uninstalling nvidia-nvjitlink-cu12-12.5.82:\n",
            "      Successfully uninstalled nvidia-nvjitlink-cu12-12.5.82\n",
            "  Attempting uninstall: nvidia-curand-cu12\n",
            "    Found existing installation: nvidia-curand-cu12 10.3.6.82\n",
            "    Uninstalling nvidia-curand-cu12-10.3.6.82:\n",
            "      Successfully uninstalled nvidia-curand-cu12-10.3.6.82\n",
            "  Attempting uninstall: nvidia-cufft-cu12\n",
            "    Found existing installation: nvidia-cufft-cu12 11.2.3.61\n",
            "    Uninstalling nvidia-cufft-cu12-11.2.3.61:\n",
            "      Successfully uninstalled nvidia-cufft-cu12-11.2.3.61\n",
            "  Attempting uninstall: nvidia-cuda-runtime-cu12\n",
            "    Found existing installation: nvidia-cuda-runtime-cu12 12.5.82\n",
            "    Uninstalling nvidia-cuda-runtime-cu12-12.5.82:\n",
            "      Successfully uninstalled nvidia-cuda-runtime-cu12-12.5.82\n",
            "  Attempting uninstall: nvidia-cuda-nvrtc-cu12\n",
            "    Found existing installation: nvidia-cuda-nvrtc-cu12 12.5.82\n",
            "    Uninstalling nvidia-cuda-nvrtc-cu12-12.5.82:\n",
            "      Successfully uninstalled nvidia-cuda-nvrtc-cu12-12.5.82\n",
            "  Attempting uninstall: nvidia-cuda-cupti-cu12\n",
            "    Found existing installation: nvidia-cuda-cupti-cu12 12.5.82\n",
            "    Uninstalling nvidia-cuda-cupti-cu12-12.5.82:\n",
            "      Successfully uninstalled nvidia-cuda-cupti-cu12-12.5.82\n",
            "  Attempting uninstall: nvidia-cublas-cu12\n",
            "    Found existing installation: nvidia-cublas-cu12 12.5.3.2\n",
            "    Uninstalling nvidia-cublas-cu12-12.5.3.2:\n",
            "      Successfully uninstalled nvidia-cublas-cu12-12.5.3.2\n",
            "  Attempting uninstall: nvidia-cusparse-cu12\n",
            "    Found existing installation: nvidia-cusparse-cu12 12.5.1.3\n",
            "    Uninstalling nvidia-cusparse-cu12-12.5.1.3:\n",
            "      Successfully uninstalled nvidia-cusparse-cu12-12.5.1.3\n",
            "  Attempting uninstall: nvidia-cudnn-cu12\n",
            "    Found existing installation: nvidia-cudnn-cu12 9.3.0.75\n",
            "    Uninstalling nvidia-cudnn-cu12-9.3.0.75:\n",
            "      Successfully uninstalled nvidia-cudnn-cu12-9.3.0.75\n",
            "  Attempting uninstall: nvidia-cusolver-cu12\n",
            "    Found existing installation: nvidia-cusolver-cu12 11.6.3.83\n",
            "    Uninstalling nvidia-cusolver-cu12-11.6.3.83:\n",
            "      Successfully uninstalled nvidia-cusolver-cu12-11.6.3.83\n",
            "Successfully installed lightning-utilities-0.12.0 nvidia-cublas-cu12-12.4.5.8 nvidia-cuda-cupti-cu12-12.4.127 nvidia-cuda-nvrtc-cu12-12.4.127 nvidia-cuda-runtime-cu12-12.4.127 nvidia-cudnn-cu12-9.1.0.70 nvidia-cufft-cu12-11.2.1.3 nvidia-curand-cu12-10.3.5.147 nvidia-cusolver-cu12-11.6.1.9 nvidia-cusparse-cu12-12.3.1.170 nvidia-nvjitlink-cu12-12.4.127 torchmetrics-1.6.1\n"
          ]
        }
      ],
      "source": [
        "!pip install torchmetrics"
      ]
    },
    {
      "cell_type": "code",
      "execution_count": 3,
      "metadata": {
        "id": "b7XevCsA0lZK",
        "tags": []
      },
      "outputs": [],
      "source": [
        "%matplotlib inline\n",
        "from IPython.display import display, clear_output\n",
        "import matplotlib.pyplot as plt\n",
        "import odl\n",
        "from odl.contrib.torch import OperatorModule\n",
        "import torch\n",
        "from torch import nn\n",
        "from torch.autograd import Variable\n",
        "from torch.nn import functional as F\n",
        "from torch import optim\n",
        "import torchvision\n",
        "from torchvision import datasets, transforms\n",
        "torch.manual_seed(123);  # reproducibility\n",
        "import torch.nn.functional as F\n",
        "import pandas as pd  # Import pandas for CSV saving\n",
        "import models.aux_funs as maf\n",
        "import optimizers as op\n",
        "import regularizers as reg\n",
        "import utils.configuration as cf\n",
        "import train\n",
        "import math\n",
        "import pandas as pd  # For reading the CSV files\n",
        "import matplotlib.pyplot as plt  # For plotting"
      ]
    },
    {
      "cell_type": "code",
      "execution_count": 4,
      "metadata": {
        "colab": {
          "base_uri": "https://localhost:8080/"
        },
        "id": "Du26hDqte6NL",
        "outputId": "5578701c-e04b-4ed7-ccef-b25493241e91"
      },
      "outputs": [
        {
          "output_type": "stream",
          "name": "stdout",
          "text": [
            "Mounted at /content/drive\n"
          ]
        }
      ],
      "source": [
        "from google.colab import drive\n",
        "drive.mount('/content/drive')"
      ]
    },
    {
      "cell_type": "code",
      "execution_count": 5,
      "metadata": {
        "id": "BcLL_pzQeUH3"
      },
      "outputs": [],
      "source": [
        "import shutil\n",
        "shutil.rmtree('./data/MNIST', ignore_errors=True)\n"
      ]
    },
    {
      "cell_type": "markdown",
      "metadata": {
        "id": "3tx9nNYc0lZN"
      },
      "source": [
        "## Get training and test data\n",
        "\n",
        "We create loaders for the MNIST data:"
      ]
    },
    {
      "cell_type": "code",
      "execution_count": 6,
      "metadata": {
        "colab": {
          "base_uri": "https://localhost:8080/"
        },
        "id": "LRviWYrw0lZO",
        "outputId": "bd6b2249-3c95-4bb8-f013-4cef62fdc589",
        "tags": []
      },
      "outputs": [
        {
          "output_type": "stream",
          "name": "stdout",
          "text": [
            "Downloading http://yann.lecun.com/exdb/mnist/train-images-idx3-ubyte.gz\n",
            "Failed to download (trying next):\n",
            "HTTP Error 404: Not Found\n",
            "\n",
            "Downloading https://ossci-datasets.s3.amazonaws.com/mnist/train-images-idx3-ubyte.gz\n",
            "Downloading https://ossci-datasets.s3.amazonaws.com/mnist/train-images-idx3-ubyte.gz to ./data/MNIST/raw/train-images-idx3-ubyte.gz\n"
          ]
        },
        {
          "output_type": "stream",
          "name": "stderr",
          "text": [
            "100%|██████████| 9.91M/9.91M [00:02<00:00, 4.16MB/s]\n"
          ]
        },
        {
          "output_type": "stream",
          "name": "stdout",
          "text": [
            "Extracting ./data/MNIST/raw/train-images-idx3-ubyte.gz to ./data/MNIST/raw\n",
            "\n",
            "Downloading http://yann.lecun.com/exdb/mnist/train-labels-idx1-ubyte.gz\n",
            "Failed to download (trying next):\n",
            "HTTP Error 404: Not Found\n",
            "\n",
            "Downloading https://ossci-datasets.s3.amazonaws.com/mnist/train-labels-idx1-ubyte.gz\n",
            "Downloading https://ossci-datasets.s3.amazonaws.com/mnist/train-labels-idx1-ubyte.gz to ./data/MNIST/raw/train-labels-idx1-ubyte.gz\n"
          ]
        },
        {
          "output_type": "stream",
          "name": "stderr",
          "text": [
            "100%|██████████| 28.9k/28.9k [00:00<00:00, 58.1kB/s]\n"
          ]
        },
        {
          "output_type": "stream",
          "name": "stdout",
          "text": [
            "Extracting ./data/MNIST/raw/train-labels-idx1-ubyte.gz to ./data/MNIST/raw\n",
            "\n",
            "Downloading http://yann.lecun.com/exdb/mnist/t10k-images-idx3-ubyte.gz\n",
            "Failed to download (trying next):\n",
            "HTTP Error 404: Not Found\n",
            "\n",
            "Downloading https://ossci-datasets.s3.amazonaws.com/mnist/t10k-images-idx3-ubyte.gz\n",
            "Downloading https://ossci-datasets.s3.amazonaws.com/mnist/t10k-images-idx3-ubyte.gz to ./data/MNIST/raw/t10k-images-idx3-ubyte.gz\n"
          ]
        },
        {
          "output_type": "stream",
          "name": "stderr",
          "text": [
            "100%|██████████| 1.65M/1.65M [00:06<00:00, 244kB/s]\n"
          ]
        },
        {
          "output_type": "stream",
          "name": "stdout",
          "text": [
            "Extracting ./data/MNIST/raw/t10k-images-idx3-ubyte.gz to ./data/MNIST/raw\n",
            "\n",
            "Downloading http://yann.lecun.com/exdb/mnist/t10k-labels-idx1-ubyte.gz\n",
            "Failed to download (trying next):\n",
            "HTTP Error 404: Not Found\n",
            "\n",
            "Downloading https://ossci-datasets.s3.amazonaws.com/mnist/t10k-labels-idx1-ubyte.gz\n",
            "Downloading https://ossci-datasets.s3.amazonaws.com/mnist/t10k-labels-idx1-ubyte.gz to ./data/MNIST/raw/t10k-labels-idx1-ubyte.gz\n"
          ]
        },
        {
          "output_type": "stream",
          "name": "stderr",
          "text": [
            "100%|██████████| 4.54k/4.54k [00:00<00:00, 5.99MB/s]"
          ]
        },
        {
          "output_type": "stream",
          "name": "stdout",
          "text": [
            "Extracting ./data/MNIST/raw/t10k-labels-idx1-ubyte.gz to ./data/MNIST/raw\n",
            "\n",
            "Train dataset size: 10000\n",
            "Validation dataset size: 2000\n",
            "Test dataset size: 2000\n"
          ]
        },
        {
          "output_type": "stream",
          "name": "stderr",
          "text": [
            "\n"
          ]
        }
      ],
      "source": [
        "from torch.utils.data import random_split\n",
        "from torchvision import datasets, transforms\n",
        "import torch\n",
        "\n",
        "# Define the desired total subset size (e.g., 600 samples)\n",
        "total_subset_size = 12000  # Total samples for the subset (train + validation)\n",
        "train_val_split = [10000, 2000]  # Split subset into 500 for training, 100 for validation\n",
        "test_subset_size = 2000  # Define a similar subset size for the test set\n",
        "\n",
        "# Define transformations: convert to Tensor and normalize\n",
        "trafo = transforms.Compose([\n",
        "    transforms.ToTensor(),\n",
        "    transforms.Normalize((0.1307,), (0.3081,)),  # Normalization based on MNIST mean and std dev\n",
        "])\n",
        "\n",
        "# Load the MNIST dataset for training and validation\n",
        "dset_train_val = datasets.MNIST('./data', train=True, download=True, transform=trafo)\n",
        "\n",
        "# Step 1: Subset the original dataset to a smaller size (600 samples in total)\n",
        "subset_train_val, _ = random_split(dset_train_val, [total_subset_size, len(dset_train_val) - total_subset_size])\n",
        "\n",
        "# Step 2: Further split the smaller subset into training and validation sets\n",
        "train_dataset, val_dataset = random_split(subset_train_val, train_val_split)\n",
        "\n",
        "# Data loaders for training and validation using the smaller dataset\n",
        "train_loader = torch.utils.data.DataLoader(train_dataset, batch_size=50, shuffle=True)\n",
        "val_loader = torch.utils.data.DataLoader(val_dataset, batch_size=50, shuffle=True)\n",
        "\n",
        "# Load the MNIST dataset for testing\n",
        "dset_test = datasets.MNIST('./data', train=False, transform=trafo)\n",
        "\n",
        "# Step 3: Subset the test set\n",
        "test_subset, _ = random_split(dset_test, [test_subset_size, len(dset_test) - test_subset_size])\n",
        "test_loader = torch.utils.data.DataLoader(test_subset, batch_size=50, shuffle=True)\n",
        "\n",
        "print(f'Train dataset size: {len(train_dataset)}')\n",
        "print(f'Validation dataset size: {len(val_dataset)}')\n",
        "print(f'Test dataset size: {len(test_subset)}')\n"
      ]
    },
    {
      "cell_type": "markdown",
      "metadata": {
        "id": "Mq1zmsDX0lZP"
      },
      "source": [
        "## Create ODL objects\n",
        "\n",
        "We initialize the ray transform on a space suitable for the MNIST images. We also create a filtered backprojection (FBP) operator for comparison, and for the FBP denoising net later on:"
      ]
    },
    {
      "cell_type": "code",
      "execution_count": 7,
      "metadata": {
        "id": "vmgoj1wR0lZQ",
        "tags": []
      },
      "outputs": [],
      "source": [
        "space = odl.uniform_discr([-14, -14], [14, 14], [28, 28], dtype='float32')\n",
        "geometry = odl.tomo.parallel_beam_geometry(space, num_angles=5)\n",
        "fwd_op = odl.tomo.RayTransform(space, geometry)\n",
        "fbp_op = odl.tomo.fbp_op(fwd_op)"
      ]
    },
    {
      "cell_type": "markdown",
      "metadata": {
        "id": "xkyufCVl0lZR"
      },
      "source": [
        "## Make pytorch `Module`s from ODL operators\n",
        "\n",
        "For use in our neural networks, we create pytorch modules from the above operators. For this we use the `OperatorAsModule` class from `odl.contrib.torch`. It implements automatic differentiation as required for backpropagation in pytorch, and it supports extra batch and channel axes."
      ]
    },
    {
      "cell_type": "code",
      "execution_count": 8,
      "metadata": {
        "id": "zARjRjv_0lZS",
        "tags": []
      },
      "outputs": [],
      "source": [
        "fwd_op_mod = OperatorModule(fwd_op)\n",
        "fwd_op_adj_mod = OperatorModule(fwd_op.adjoint)\n",
        "fbp_op_mod = OperatorModule(fbp_op)"
      ]
    },
    {
      "cell_type": "markdown",
      "metadata": {
        "id": "7vBoX-nF0lZT"
      },
      "source": [
        "## Some helper functions\n",
        "\n",
        "For the generation of noisy projection data and for visualization of the results we use the following helpers:"
      ]
    },
    {
      "cell_type": "code",
      "execution_count": 9,
      "metadata": {
        "id": "Sf-K92Sn0lZU",
        "tags": []
      },
      "outputs": [],
      "source": [
        "def generate_data(images):\n",
        "    \"\"\"Create noisy projection data from images.\n",
        "\n",
        "    The data is generated according to ::\n",
        "\n",
        "        data = fwd_op(images) + noise\n",
        "\n",
        "    where ``noise`` is standard white noise.\n",
        "\n",
        "    Parameters\n",
        "    ----------\n",
        "    images : `Variable`, shape ``(B, C, 28, 28)``\n",
        "        Input images for the data generation.\n",
        "\n",
        "    Returns\n",
        "    -------\n",
        "    data : `Variable`, shape ``(B, C, 5, 41)``\n",
        "        Projection data stack.\n",
        "    \"\"\"\n",
        "    torch.manual_seed(123)\n",
        "    data = fwd_op_mod(images)\n",
        "    data += Variable(torch.randn(data.shape)).type_as(data)\n",
        "    return data\n",
        "\n",
        "\n",
        "def show_image_matrix(image_batches, titles=None, indices=None, **kwargs):\n",
        "    \"\"\"Visualize a 2D set of images arranged in a grid.\n",
        "\n",
        "    This function shows a 2D grid of images, where the i-th column\n",
        "    shows images from the i-th batch. The typical use case is to compare\n",
        "    results of different approaches with the same data, or to compare\n",
        "    against a ground truth.\n",
        "\n",
        "    Parameters\n",
        "    ----------\n",
        "    image_batches : sequence of `Tensor` or `Variable`\n",
        "        List containing batches of images that should be displayed.\n",
        "        Each tensor should have the same shape after squeezing, except\n",
        "        for the batch axis.\n",
        "    titles : sequence of str, optional\n",
        "        Titles for the colums in the plot. By default, titles are empty.\n",
        "    indices : sequence of int, optional\n",
        "        Object to select the subset of the images that should be shown.\n",
        "        The subsets are determined by slicing along the batch axis, i.e.,\n",
        "        as ``displayed = image_batch[indices]``. The default is to show\n",
        "        everything.\n",
        "    kwargs :\n",
        "        Further keyword arguments that are passed on to the Matplotlib\n",
        "        ``imshow`` function.\n",
        "    \"\"\"\n",
        "    import matplotlib.pyplot as plt\n",
        "\n",
        "    if indices is None:\n",
        "        displayed_batches = image_batches\n",
        "    else:\n",
        "        displayed_batches = [batch[indices] for batch in image_batches]\n",
        "\n",
        "    displayed_batches = [batch.data if isinstance(batch, Variable) else batch\n",
        "                         for batch in displayed_batches]\n",
        "\n",
        "    nrows = len(displayed_batches[0])\n",
        "    ncols = len(displayed_batches)\n",
        "\n",
        "    if titles is None:\n",
        "        titles = [''] * ncols\n",
        "\n",
        "    figsize = 2\n",
        "    fig, rows = plt.subplots(\n",
        "        nrows, ncols, sharex=True, sharey=True,\n",
        "        figsize=(ncols * figsize, figsize * nrows))\n",
        "\n",
        "    if nrows == 1:\n",
        "        rows = [rows]\n",
        "\n",
        "    for i, row in enumerate(rows):\n",
        "        if ncols == 1:\n",
        "            row = [row]\n",
        "        for name, batch, ax in zip(titles, displayed_batches, row):\n",
        "            if i == 0:\n",
        "                ax.set_title(name)\n",
        "            ax.imshow(batch[i].squeeze(), **kwargs)\n",
        "            ax.set_axis_off()\n",
        "    plt.show()"
      ]
    },
    {
      "cell_type": "markdown",
      "metadata": {
        "id": "KYjONp2_0lZV"
      },
      "source": [
        "## Generate test data\n",
        "\n",
        "We take one batch from the test dataset and generate the corresponding test projection data for validation:"
      ]
    },
    {
      "cell_type": "code",
      "execution_count": 10,
      "metadata": {
        "colab": {
          "base_uri": "https://localhost:8080/"
        },
        "id": "-87Ja9BE0lZX",
        "outputId": "ce3cbb78-5332-4aa3-d045-aeed394b29aa",
        "tags": []
      },
      "outputs": [
        {
          "output_type": "stream",
          "name": "stderr",
          "text": [
            "/usr/local/lib/python3.11/dist-packages/odl/discr/discr_utils.py:628: UserWarning: Unable to infer accurate dtype for interpolation coefficients, defaulting to `float`.\n",
            "  warn(\"Unable to infer accurate dtype for\"\n"
          ]
        }
      ],
      "source": [
        "# Get a batch of test images and generate test projection data\n",
        "for i, (images, _) in enumerate(test_loader):\n",
        "    if i == 1:\n",
        "        break\n",
        "\n",
        "test_images = Variable(images)\n",
        "test_data = generate_data(test_images)"
      ]
    },
    {
      "cell_type": "markdown",
      "metadata": {
        "id": "U0w98PpQ0lZY"
      },
      "source": [
        "## FBP reconstruction\n",
        "\n",
        "First we make a simple FBP reconstruction and compare it to the ground truth."
      ]
    },
    {
      "cell_type": "code",
      "execution_count": 11,
      "metadata": {
        "colab": {
          "base_uri": "https://localhost:8080/",
          "height": 1000
        },
        "id": "DFqetiHk0lZZ",
        "outputId": "223902ad-c34e-456e-adf9-10b5a0261e0a",
        "tags": []
      },
      "outputs": [
        {
          "output_type": "stream",
          "name": "stdout",
          "text": [
            "Average error: tensor(0.0113)\n"
          ]
        },
        {
          "output_type": "display_data",
          "data": {
            "text/plain": [
              "<Figure size 400x2000 with 20 Axes>"
            ],
            "image/png": "[encoded data removed]"
          },
          "metadata": {}
        }
      ],
      "source": [
        "fbp_recos = fbp_op_mod(test_data)\n",
        "print('Average error:', F.mse_loss(fbp_recos, test_images).data / len(test_images))\n",
        "\n",
        "# Display examples\n",
        "results = [test_images, fbp_recos]\n",
        "titles = ['Truth', 'FBP']\n",
        "show_image_matrix(results, titles, indices=slice(10, 20), clim=[0, 1], cmap='bone')"
      ]
    },
    {
      "cell_type": "markdown",
      "metadata": {
        "id": "9t9Eq7D50lZa"
      },
      "source": [
        "## Fully learned reconstruction\n",
        "\n",
        "Now for the first neural network that learns how to reconstruct. We use a rather simple approach of fully connected layers at each level, gradually proceeding from size `5 * 41` to size `28 * 28`:"
      ]
    },
    {
      "cell_type": "code",
      "execution_count": null,
      "metadata": {
        "id": "gJcGDpTR0lZb",
        "tags": []
      },
      "outputs": [],
      "source": [
        "class FullRecoNet(nn.Module):\n",
        "    def __init__(self):\n",
        "        super(FullRecoNet, self).__init__()\n",
        "        self.lin1 = nn.Linear(5 * 41, 256)\n",
        "        self.lin2 = nn.Linear(256, 256)\n",
        "        self.lin3 = nn.Linear(256, 28 ** 2)\n",
        "\n",
        "    def forward(self, x):\n",
        "        x = F.relu(self.lin1(x.view(-1, 5 * 41)))\n",
        "        x = F.relu(self.lin2(x))\n",
        "        x = self.lin3(x)\n",
        "        return x.view(-1, 1, 28, 28)"
      ]
    },
    {
      "cell_type": "code",
      "execution_count": null,
      "metadata": {
        "id": "zqlarsuT20Je"
      },
      "outputs": [],
      "source": [
        "import torch\n",
        "import torch.nn as nn\n",
        "import torch.nn.functional as F\n",
        "\n",
        "class FilteringLayer(nn.Module):\n",
        "    \"\"\" Learnable filtering layer to simulate the FBP filtering process \"\"\"\n",
        "    def __init__(self, input_size, hidden_size=256):\n",
        "        super(FilteringLayer, self).__init__()\n",
        "        self.fc = nn.Linear(input_size, hidden_size, bias=False)  # Fixed dimensions\n",
        "\n",
        "    def forward(self, x):\n",
        "        return self.fc(x)\n",
        "\n",
        "class SinusoidalBackProjectionLayer(nn.Module):\n",
        "    \"\"\" Learnable sinusoidal back-projection layer \"\"\"\n",
        "    def __init__(self, input_size, output_size):\n",
        "        super(SinusoidalBackProjectionLayer, self).__init__()\n",
        "        self.fc = nn.Linear(input_size, output_size, bias=False)  # Ensure matching dims\n",
        "\n",
        "    def forward(self, x):\n",
        "        return self.fc(x)\n",
        "\n",
        "class ResidualBlock(nn.Module):\n",
        "    \"\"\" ResNet-based residual block \"\"\"\n",
        "    def __init__(self, channels):\n",
        "        super(ResidualBlock, self).__init__()\n",
        "        self.conv1 = nn.Conv2d(channels, channels, kernel_size=3, padding=1)\n",
        "        self.conv2 = nn.Conv2d(channels, channels, kernel_size=3, padding=1)\n",
        "\n",
        "    def forward(self, x):\n",
        "        residual = x\n",
        "        out = F.relu(self.conv1(x))\n",
        "        out = self.conv2(out)\n",
        "        return F.relu(out + residual)\n",
        "\n",
        "class ResNetCNN(nn.Module):\n",
        "    \"\"\" ResNet structure for CT image optimization \"\"\"\n",
        "    def __init__(self, in_channels, num_blocks=5):\n",
        "        super(ResNetCNN, self).__init__()\n",
        "        self.conv1 = nn.Conv2d(in_channels, 64, kernel_size=3, padding=1)\n",
        "        self.res_blocks = nn.Sequential(*[ResidualBlock(64) for _ in range(num_blocks)])\n",
        "        self.conv2 = nn.Conv2d(64, 1, kernel_size=3, padding=1)\n",
        "\n",
        "    def forward(self, x):\n",
        "        out = F.relu(self.conv1(x))\n",
        "        out = self.res_blocks(out)\n",
        "        out = self.conv2(out)\n",
        "        return out\n",
        "\n",
        "class iRadonMap(nn.Module):\n",
        "    def __init__(self, input_size, output_size, num_blocks=5, hidden_size=256):\n",
        "        super(iRadonMap, self).__init__()\n",
        "        self.filtering = FilteringLayer(input_size, hidden_size)\n",
        "        self.back_projection = SinusoidalBackProjectionLayer(hidden_size, output_size)\n",
        "        self.cnn = ResNetCNN(1, num_blocks=num_blocks)\n",
        "\n",
        "    def forward(self, x):\n",
        "        x = x.squeeze(1)  # Remove the extra dimension -> [batch_size, 5, 41]\n",
        "        x = x.view(x.shape[0], -1)  # Flatten to [batch_size, 205]\n",
        "        x = self.filtering(x)  # Filtering step\n",
        "        x = self.back_projection(x)  # Back-projection step\n",
        "        x = x.view(x.shape[0], 1, 28, 28)  # Reshape to image format (batch_size, 1, 28, 28)\n",
        "        x = self.cnn(x)  # CNN enhancement\n",
        "        return x\n",
        "\n",
        "\n",
        "\n"
      ]
    },
    {
      "cell_type": "code",
      "source": [
        "import torch\n",
        "import torch.nn as nn\n",
        "import torch.nn.functional as F\n",
        "\n",
        "class AutoMap(nn.Module):\n",
        "    def __init__(self):\n",
        "        super(AutoMap, self).__init__()\n",
        "        # Fully connected reconstruction:\n",
        "        # Input: 5x41 = 205 features, mapped to a 28x28 (784-dimensional) representation.\n",
        "        self.fc1 = nn.Linear(5 * 41, 256)\n",
        "        self.fc2 = nn.Linear(256, 256)\n",
        "        self.fc3 = nn.Linear(256, 28 * 28)\n",
        "\n",
        "        # Convolutional refinement:\n",
        "        # After the FC part, we reshape the 784 vector to (batch, 1, 28, 28)\n",
        "        # and apply convolutions to refine the reconstruction.\n",
        "        self.conv1 = nn.Conv2d(1, 64, kernel_size=5, stride=1, padding=2)   # preserves 28x28\n",
        "        self.conv2 = nn.Conv2d(64, 64, kernel_size=5, stride=1, padding=2)\n",
        "        self.deconv = nn.ConvTranspose2d(64, 1, kernel_size=7, stride=1, padding=3)  # preserves 28x28\n",
        "\n",
        "    def forward(self, x):\n",
        "        # x is expected to be of shape (batch, 5, 41)\n",
        "        x = x.view(-1, 5 * 41)            # Flatten to (batch, 205)\n",
        "        x = F.relu(self.fc1(x))\n",
        "        x = F.relu(self.fc2(x))\n",
        "        x = self.fc3(x)                   # Now shape: (batch, 784)\n",
        "        x = x.view(-1, 1, 28, 28)          # Reshape to (batch, 1, 28, 28)\n",
        "\n",
        "        # Convolutional refinement:\n",
        "        x = F.relu(self.conv1(x))\n",
        "        x = F.relu(self.conv2(x))\n",
        "        x = self.deconv(x)                # Final output: (batch, 1, 28, 28)\n",
        "        return x\n",
        "\n"
      ],
      "metadata": {
        "id": "gP8KYg_S9o0k"
      },
      "execution_count": 12,
      "outputs": []
    },
    {
      "cell_type": "code",
      "execution_count": 27,
      "metadata": {
        "id": "LUvSJKqJeUH5"
      },
      "outputs": [],
      "source": [
        "conf_args = {\n",
        "    # optimizer\n",
        "    'delta':1.0, 'lr':0.01, 'lamda_0':0.01, 'lamda_1':0.1, 'optim':\"LinBreg\", 'conv_group':True,\n",
        "    'beta':0.0,\n",
        "    # initialization\n",
        "    'sparse_init':0.4, 'r':[5.,5., 5.],\n",
        "}\n",
        "\n",
        "conf = cf.Conf(**conf_args)"
      ]
    },
    {
      "cell_type": "code",
      "execution_count": 28,
      "metadata": {
        "colab": {
          "base_uri": "https://localhost:8080/"
        },
        "id": "-50K3AB6tB-i",
        "outputId": "2a12b7bb-b494-4fb2-d33c-bf73208b11d0"
      },
      "outputs": [
        {
          "output_type": "stream",
          "name": "stdout",
          "text": [
            "net_sparse 0.382870457986374\n"
          ]
        }
      ],
      "source": [
        "def init_weights(model):\n",
        "    # sparsify\n",
        "    maf.sparse_bias_uniform_(model, 0.1, 0.1, ltype=torch.nn.Linear)\n",
        "    maf.sparse_weight_normal_(model, 0.1, ltype=torch.nn.Linear)\n",
        "    maf.sparsify_(model, 0.4, ltype=nn.Linear, conv_group=False)\n",
        "    maf.sparse_bias_uniform_(model, 0, 0.1, ltype=torch.nn.Conv2d)\n",
        "    maf.sparse_weight_normal_(model, 0.1, ltype=torch.nn.Conv2d)\n",
        "    maf.sparsify_(model, 0.4, ltype=nn.Conv2d, conv_group=conf.conv_group)\n",
        "    return model\n",
        "\n",
        "\n",
        "# Initialize the weights\n",
        "# model1 = init_weights(FullRecoNet())\n",
        "model1=init_weights(AutoMap())\n",
        "\n",
        "print('net_sparse', maf.net_sparsity(model1))"
      ]
    },
    {
      "cell_type": "code",
      "execution_count": 29,
      "metadata": {
        "id": "bbpLyaqD0lZd",
        "tags": []
      },
      "outputs": [],
      "source": [
        "def init_opt(conf, model):\n",
        "    # -----------------------------------------------------------------------------------\n",
        "    # Get access to different model parameters\n",
        "    # -----------------------------------------------------------------------------------\n",
        "    weights_conv = maf.get_weights_conv(model)\n",
        "    weights_linear = maf.get_weights_linear(model)\n",
        "    biases = maf.get_bias(model)\n",
        "\n",
        "    # -----------------------------------------------------------------------------------\n",
        "    # Initialize optimizer\n",
        "    # -----------------------------------------------------------------------------------\n",
        "    if conf.conv_group:\n",
        "        reg2 = reg.reg_l1_l1_l2_conv(lamda0=conf.lamda_0, lamda1=conf.lamda_1)\n",
        "    else:\n",
        "        reg2 = reg.reg_l1(lamda=conf.lamda_0)\n",
        "\n",
        "    if conf.optim == \"SGD\":\n",
        "        opt = torch.optim.SGD(model.parameters(), lr=conf.lr, momentum=conf.beta, weight_decay=conf.lamda_1)\n",
        "    elif conf.optim == \"LinBreg\":\n",
        "        opt = op.LinBreg([{'params': weights_conv, 'lr' : conf.lr, 'reg' : reg2, 'momentum':conf.beta,'delta':conf.delta},\n",
        "                          {'params': weights_linear, 'lr' : conf.lr, 'reg' : reg.reg_l1(lamda=conf.lamda_1), 'momentum':conf.beta,'delta':conf.delta},\n",
        "                          {'params': biases, 'lr': conf.lr, 'momentum':conf.beta}])\n",
        "    elif conf.optim == \"L1SGD\":\n",
        "        def weight_reg(model):\n",
        "            reg1 =  reg.reg_l1(lamda=conf.lamda_1)\n",
        "\n",
        "            loss1 = reg1(model.layers2[0].weight) + reg1(model.layers2[2].weight)\n",
        "            loss2 = reg2(model.layers1[0].weight) + reg2(model.layers1[3].weight)\n",
        "            return loss1 + loss2\n",
        "\n",
        "        conf.weight_reg = weight_reg\n",
        "\n",
        "        opt = torch.optim.SGD(model.parameters(), lr=conf.lr, momentum=conf.beta)\n",
        "    else:\n",
        "        raise ValueError(\"Unknown Optimizer specified\")\n",
        "\n",
        "    # learning rate scheduler\n",
        "    scheduler = torch.optim.lr_scheduler.ReduceLROnPlateau(opt, factor=0.7, patience=10,threshold=0.0001)\n",
        "\n",
        "    return opt, scheduler\n"
      ]
    },
    {
      "cell_type": "code",
      "execution_count": 30,
      "metadata": {
        "colab": {
          "base_uri": "https://localhost:8080/"
        },
        "id": "4wjipZtIqJZu",
        "outputId": "9e463170-8b21-447b-a19d-4a445b315e5b"
      },
      "outputs": [
        {
          "output_type": "stream",
          "name": "stdout",
          "text": [
            "Train Epoch: 1 | Average Loss: 0.967542 | Training Time: 43.42 sec | Net Sparsity: 0.38227668433005296\n",
            "Validation Epoch: 1 | Learning Rate: 0.010000 | Average Loss: 0.967225\n",
            "Train Epoch: 2 | Average Loss: 0.932425 | Training Time: 43.62 sec | Net Sparsity: 0.38053794473883423\n",
            "Validation Epoch: 2 | Learning Rate: 0.010000 | Average Loss: 0.925303\n",
            "Train Epoch: 3 | Average Loss: 0.888943 | Training Time: 43.74 sec | Net Sparsity: 0.3783331756245269\n",
            "Validation Epoch: 3 | Learning Rate: 0.010000 | Average Loss: 0.882692\n",
            "Train Epoch: 4 | Average Loss: 0.854389 | Training Time: 44.02 sec | Net Sparsity: 0.37656368281604846\n",
            "Validation Epoch: 4 | Learning Rate: 0.010000 | Average Loss: 0.855770\n",
            "Train Epoch: 5 | Average Loss: 0.836001 | Training Time: 43.87 sec | Net Sparsity: 0.37535011355034065\n",
            "Validation Epoch: 5 | Learning Rate: 0.010000 | Average Loss: 0.843591\n",
            "Train Epoch: 6 | Average Loss: 0.827681 | Training Time: 43.79 sec | Net Sparsity: 0.37447956093868284\n",
            "Validation Epoch: 6 | Learning Rate: 0.010000 | Average Loss: 0.837852\n",
            "Train Epoch: 7 | Average Loss: 0.823332 | Training Time: 43.56 sec | Net Sparsity: 0.373928368660106\n",
            "Validation Epoch: 7 | Learning Rate: 0.010000 | Average Loss: 0.834666\n",
            "Train Epoch: 8 | Average Loss: 0.820747 | Training Time: 43.59 sec | Net Sparsity: 0.37350965177895534\n",
            "Validation Epoch: 8 | Learning Rate: 0.010000 | Average Loss: 0.832713\n",
            "Train Epoch: 9 | Average Loss: 0.819076 | Training Time: 43.77 sec | Net Sparsity: 0.37316426949280845\n",
            "Validation Epoch: 9 | Learning Rate: 0.010000 | Average Loss: 0.831280\n",
            "Train Epoch: 10 | Average Loss: 0.817840 | Training Time: 44.20 sec | Net Sparsity: 0.3728354466313399\n",
            "Validation Epoch: 10 | Learning Rate: 0.010000 | Average Loss: 0.830655\n",
            "Train Epoch: 11 | Average Loss: 0.816864 | Training Time: 43.76 sec | Net Sparsity: 0.3725563020439061\n",
            "Validation Epoch: 11 | Learning Rate: 0.010000 | Average Loss: 0.829740\n",
            "Train Epoch: 12 | Average Loss: 0.816064 | Training Time: 43.71 sec | Net Sparsity: 0.3722582323996972\n",
            "Validation Epoch: 12 | Learning Rate: 0.010000 | Average Loss: 0.829235\n",
            "Train Epoch: 13 | Average Loss: 0.815313 | Training Time: 43.89 sec | Net Sparsity: 0.37202166919000756\n",
            "Validation Epoch: 13 | Learning Rate: 0.010000 | Average Loss: 0.829034\n",
            "Train Epoch: 14 | Average Loss: 0.814561 | Training Time: 43.71 sec | Net Sparsity: 0.37170940575321726\n",
            "Validation Epoch: 14 | Learning Rate: 0.010000 | Average Loss: 0.828240\n",
            "Train Epoch: 15 | Average Loss: 0.813669 | Training Time: 43.60 sec | Net Sparsity: 0.371373485995458\n",
            "Validation Epoch: 15 | Learning Rate: 0.010000 | Average Loss: 0.827546\n",
            "Train Epoch: 16 | Average Loss: 0.812410 | Training Time: 43.28 sec | Net Sparsity: 0.37086724072672217\n",
            "Validation Epoch: 16 | Learning Rate: 0.010000 | Average Loss: 0.827029\n",
            "Train Epoch: 17 | Average Loss: 0.810399 | Training Time: 43.79 sec | Net Sparsity: 0.37003926949280846\n",
            "Validation Epoch: 17 | Learning Rate: 0.010000 | Average Loss: 0.824640\n",
            "Train Epoch: 18 | Average Loss: 0.806170 | Training Time: 44.17 sec | Net Sparsity: 0.36878548448145343\n",
            "Validation Epoch: 18 | Learning Rate: 0.010000 | Average Loss: 0.818420\n",
            "Train Epoch: 19 | Average Loss: 0.793235 | Training Time: 44.00 sec | Net Sparsity: 0.36629683951551856\n",
            "Validation Epoch: 19 | Learning Rate: 0.010000 | Average Loss: 0.793902\n",
            "Train Epoch: 20 | Average Loss: 0.744194 | Training Time: 43.77 sec | Net Sparsity: 0.3624101059803179\n",
            "Validation Epoch: 20 | Learning Rate: 0.010000 | Average Loss: 0.732402\n",
            "Train Epoch: 21 | Average Loss: 0.709196 | Training Time: 43.84 sec | Net Sparsity: 0.36143783118849354\n",
            "Validation Epoch: 21 | Learning Rate: 0.010000 | Average Loss: 0.712212\n",
            "Train Epoch: 22 | Average Loss: 0.692843 | Training Time: 43.71 sec | Net Sparsity: 0.3600775927327782\n",
            "Validation Epoch: 22 | Learning Rate: 0.010000 | Average Loss: 0.694073\n",
            "Train Epoch: 23 | Average Loss: 0.676417 | Training Time: 43.73 sec | Net Sparsity: 0.35849498485995457\n",
            "Validation Epoch: 23 | Learning Rate: 0.010000 | Average Loss: 0.674600\n",
            "Train Epoch: 24 | Average Loss: 0.653193 | Training Time: 43.99 sec | Net Sparsity: 0.35654570401211205\n",
            "Validation Epoch: 24 | Learning Rate: 0.010000 | Average Loss: 0.647764\n",
            "Train Epoch: 25 | Average Loss: 0.627198 | Training Time: 43.80 sec | Net Sparsity: 0.3548519114307343\n",
            "Validation Epoch: 25 | Learning Rate: 0.010000 | Average Loss: 0.626430\n",
            "Train Epoch: 26 | Average Loss: 0.607692 | Training Time: 43.83 sec | Net Sparsity: 0.3534348978046934\n",
            "Validation Epoch: 26 | Learning Rate: 0.010000 | Average Loss: 0.608382\n",
            "Train Epoch: 27 | Average Loss: 0.588149 | Training Time: 43.81 sec | Net Sparsity: 0.3517907834973505\n",
            "Validation Epoch: 27 | Learning Rate: 0.010000 | Average Loss: 0.587912\n",
            "Train Epoch: 28 | Average Loss: 0.567951 | Training Time: 43.57 sec | Net Sparsity: 0.35022000378501134\n",
            "Validation Epoch: 28 | Learning Rate: 0.010000 | Average Loss: 0.568333\n",
            "Train Epoch: 29 | Average Loss: 0.547385 | Training Time: 43.53 sec | Net Sparsity: 0.3485711582134746\n",
            "Validation Epoch: 29 | Learning Rate: 0.010000 | Average Loss: 0.545282\n",
            "Train Epoch: 30 | Average Loss: 0.520965 | Training Time: 43.52 sec | Net Sparsity: 0.3467235995457986\n",
            "Validation Epoch: 30 | Learning Rate: 0.010000 | Average Loss: 0.515343\n"
          ]
        }
      ],
      "source": [
        "import os\n",
        "import csv\n",
        "import time\n",
        "import torch\n",
        "import torch.nn as nn\n",
        "from torch.autograd import Variable\n",
        "import matplotlib.pyplot as plt\n",
        "\n",
        "# Configuration for training\n",
        "epochs = 30\n",
        "loss_train = nn.MSELoss()\n",
        "loss_test = nn.MSELoss()\n",
        "optimizer, scheduler = init_opt(conf, model1)\n",
        "\n",
        "# Lists to store results for later saving\n",
        "epoch_list = []\n",
        "val_loss_list = []\n",
        "sparsity_list = []\n",
        "\n",
        "# Formatted directory structure\n",
        "save_path = os.path.join(\n",
        "    'CTresult3',\n",
        "    f\"lr_{conf.lr}_l0_{conf.lamda_0}_l1_{conf.lamda_1}_{conf.optim}\"\n",
        ")\n",
        "os.makedirs(save_path, exist_ok=True)\n",
        "\n",
        "# File paths for storing results\n",
        "net_sparsity_path = os.path.join(save_path, \"net_sparsity.csv\")\n",
        "validation_loss_path = os.path.join(save_path, \"validation_loss.csv\")\n",
        "node_sparsity_path = os.path.join(save_path, \"node_sparsity.csv\")\n",
        "training_time_path = os.path.join(save_path, \"training_time.csv\")\n",
        "\n",
        "def save_epoch_results(epoch, val_data, train_time):\n",
        "    \"\"\"\n",
        "    Save validation results and training time for each epoch to CSV files.\n",
        "    \"\"\"\n",
        "    def write_csv(file_path, headers, row):\n",
        "        file_exists = os.path.isfile(file_path)\n",
        "        with open(file_path, mode='a', newline='') as file:\n",
        "            writer = csv.writer(file)\n",
        "            if not file_exists:\n",
        "                writer.writerow(headers)\n",
        "            writer.writerow(row)\n",
        "\n",
        "    write_csv(net_sparsity_path, [\"Epoch\", \"Net Sparsity\"], [epoch, val_data['Net Sparsity']])\n",
        "    write_csv(validation_loss_path, [\"Epoch\", \"Validation Loss\"], [epoch, val_data['validation_loss']])\n",
        "    write_csv(training_time_path, [\"Epoch\", \"Training Time (s)\"], [epoch, train_time])\n",
        "\n",
        "def train(epoch):\n",
        "    model1.train()\n",
        "    train_loss = 0\n",
        "    start_time = time.time()\n",
        "\n",
        "    for batch_idx, (images, _) in enumerate(train_loader):\n",
        "        images = Variable(images)\n",
        "        projs = generate_data(images)\n",
        "        optimizer.zero_grad()\n",
        "        output = model1(projs)\n",
        "        loss = loss_train(output, images)\n",
        "        loss.backward()\n",
        "        optimizer.step()\n",
        "        train_loss += loss.item()\n",
        "\n",
        "    end_time = time.time()\n",
        "    train_time = end_time - start_time\n",
        "    avg_train_loss = train_loss / len(train_loader)\n",
        "    print(f'Train Epoch: {epoch} | Average Loss: {avg_train_loss:.6f} | Training Time: {train_time:.2f} sec | Net Sparsity: {maf.net_sparsity(model1)}')\n",
        "    return train_time\n",
        "\n",
        "def validate(epoch):\n",
        "    model1.eval()\n",
        "    val_loss = 0\n",
        "    with torch.no_grad():\n",
        "        for val_images, _ in val_loader:\n",
        "            val_images = Variable(val_images)\n",
        "            val_projs = generate_data(val_images)\n",
        "            output = model1(val_projs)\n",
        "            loss = loss_train(output, val_images)\n",
        "            val_loss += loss.item()\n",
        "\n",
        "    avg_val_loss = val_loss / len(val_loader)\n",
        "    current_lr = optimizer.param_groups[0]['lr']\n",
        "    print(f'Validation Epoch: {epoch} | Learning Rate: {current_lr:.6f} | Average Loss: {avg_val_loss:.6f}')\n",
        "    return avg_val_loss\n",
        "\n",
        "# Main training loop\n",
        "for epoch in range(1, epochs + 1):\n",
        "    train_time = train(epoch)\n",
        "    avg_val_loss = validate(epoch)\n",
        "\n",
        "    val_data = {\n",
        "        'Net Sparsity': maf.net_sparsity(model1),\n",
        "        'validation_loss': avg_val_loss\n",
        "    }\n",
        "    save_epoch_results(epoch, val_data, train_time)\n",
        "\n",
        "    if scheduler is not None:\n",
        "        scheduler.step(avg_val_loss)\n",
        "\n",
        "\n"
      ]
    },
    {
      "cell_type": "code",
      "execution_count": 64,
      "metadata": {
        "colab": {
          "base_uri": "https://localhost:8080/",
          "height": 1000
        },
        "id": "ew87NHHT4Uj8",
        "outputId": "039ddc37-1c4f-44d9-9f8e-a6f1cf0d60a7"
      },
      "outputs": [
        {
          "output_type": "error",
          "ename": "FileNotFoundError",
          "evalue": "[Errno 2] No such file or directory: 'AutoMap'",
          "traceback": [
            "\u001b[0;31m---------------------------------------------------------------------------\u001b[0m",
            "\u001b[0;31mFileNotFoundError\u001b[0m                         Traceback (most recent call last)",
            "\u001b[0;32m<ipython-input-64-50f5fffc2415>\u001b[0m in \u001b[0;36m<cell line: 0>\u001b[0;34m()\u001b[0m\n\u001b[1;32m     97\u001b[0m \u001b[0;31m# Example usage\u001b[0m\u001b[0;34m\u001b[0m\u001b[0;34m\u001b[0m\u001b[0m\n\u001b[1;32m     98\u001b[0m \u001b[0msave_path\u001b[0m \u001b[0;34m=\u001b[0m \u001b[0;34m'AutoMap'\u001b[0m\u001b[0;34m\u001b[0m\u001b[0;34m\u001b[0m\u001b[0m\n\u001b[0;32m---> 99\u001b[0;31m \u001b[0mcreate_and_display_plots_1x2\u001b[0m\u001b[0;34m(\u001b[0m\u001b[0msave_path\u001b[0m\u001b[0;34m)\u001b[0m\u001b[0;34m\u001b[0m\u001b[0;34m\u001b[0m\u001b[0m\n\u001b[0m",
            "\u001b[0;32m<ipython-input-64-50f5fffc2415>\u001b[0m in \u001b[0;36mcreate_and_display_plots_1x2\u001b[0;34m(base_path)\u001b[0m\n\u001b[1;32m     61\u001b[0m     \u001b[0mylabels\u001b[0m \u001b[0;34m=\u001b[0m \u001b[0;34m[\u001b[0m\u001b[0;34m'Loss'\u001b[0m\u001b[0;34m,\u001b[0m \u001b[0;34m'Non-zero entries'\u001b[0m\u001b[0;34m]\u001b[0m\u001b[0;34m\u001b[0m\u001b[0;34m\u001b[0m\u001b[0m\n\u001b[1;32m     62\u001b[0m \u001b[0;34m\u001b[0m\u001b[0m\n\u001b[0;32m---> 63\u001b[0;31m     \u001b[0msubdirectories\u001b[0m \u001b[0;34m=\u001b[0m \u001b[0;34m[\u001b[0m\u001b[0mname\u001b[0m \u001b[0;32mfor\u001b[0m \u001b[0mname\u001b[0m \u001b[0;32min\u001b[0m \u001b[0mos\u001b[0m\u001b[0;34m.\u001b[0m\u001b[0mlistdir\u001b[0m\u001b[0;34m(\u001b[0m\u001b[0mbase_path\u001b[0m\u001b[0;34m)\u001b[0m \u001b[0;32mif\u001b[0m \u001b[0mos\u001b[0m\u001b[0;34m.\u001b[0m\u001b[0mpath\u001b[0m\u001b[0;34m.\u001b[0m\u001b[0misdir\u001b[0m\u001b[0;34m(\u001b[0m\u001b[0mos\u001b[0m\u001b[0;34m.\u001b[0m\u001b[0mpath\u001b[0m\u001b[0;34m.\u001b[0m\u001b[0mjoin\u001b[0m\u001b[0;34m(\u001b[0m\u001b[0mbase_path\u001b[0m\u001b[0;34m,\u001b[0m \u001b[0mname\u001b[0m\u001b[0;34m)\u001b[0m\u001b[0;34m)\u001b[0m\u001b[0;34m]\u001b[0m\u001b[0;34m\u001b[0m\u001b[0;34m\u001b[0m\u001b[0m\n\u001b[0m\u001b[1;32m     64\u001b[0m \u001b[0;34m\u001b[0m\u001b[0m\n\u001b[1;32m     65\u001b[0m     \u001b[0;32mfor\u001b[0m \u001b[0max\u001b[0m\u001b[0;34m,\u001b[0m \u001b[0mplot_function\u001b[0m\u001b[0;34m,\u001b[0m \u001b[0mtitle\u001b[0m\u001b[0;34m,\u001b[0m \u001b[0mylabel\u001b[0m \u001b[0;32min\u001b[0m \u001b[0mzip\u001b[0m\u001b[0;34m(\u001b[0m\u001b[0maxs\u001b[0m\u001b[0;34m,\u001b[0m \u001b[0mplot_functions\u001b[0m\u001b[0;34m,\u001b[0m \u001b[0mtitles\u001b[0m\u001b[0;34m,\u001b[0m \u001b[0mylabels\u001b[0m\u001b[0;34m)\u001b[0m\u001b[0;34m:\u001b[0m\u001b[0;34m\u001b[0m\u001b[0;34m\u001b[0m\u001b[0m\n",
            "\u001b[0;31mFileNotFoundError\u001b[0m: [Errno 2] No such file or directory: 'AutoMap'"
          ]
        },
        {
          "output_type": "display_data",
          "data": {
            "text/plain": [
              "<Figure size 1600x1200 with 2 Axes>"
            ],
            "image/png": "[encoded data removed]"
          },
          "metadata": {}
        }
      ],
      "source": [
        "import os\n",
        "import csv\n",
        "import matplotlib.pyplot as plt\n",
        "\n",
        "# Function to read CSV file into a dictionary\n",
        "def read_csv_to_dict(file_path):\n",
        "    data = {}\n",
        "    with open(file_path, mode='r') as file:\n",
        "        reader = csv.reader(file)\n",
        "        headers = next(reader)\n",
        "        for row in reader:\n",
        "            epoch = int(row[0])\n",
        "            value = float(row[1])\n",
        "            data[epoch] = value\n",
        "    return data\n",
        "\n",
        "# Function to read node sparsity CSV file into a dictionary\n",
        "def read_node_sparsity_csv(file_path):\n",
        "    data = {}\n",
        "    with open(file_path, mode='r') as file:\n",
        "        reader = csv.reader(file)\n",
        "        headers = next(reader)\n",
        "        node_indices = [header.split('_')[-1] for header in headers[1:]]  # Extract node indices from headers\n",
        "        for row in reader:\n",
        "            epoch = int(row[0])\n",
        "            values = list(map(float, row[1:]))\n",
        "            for idx, node_index in enumerate(node_indices):\n",
        "                if node_index not in data:\n",
        "                    data[node_index] = []\n",
        "                data[node_index].append(values[idx])\n",
        "    return data\n",
        "\n",
        "# Function to plot training loss\n",
        "def plot_training_loss(ax, save_path, formatted_lr, formatted_lamda0, formatted_lamda1, formatted_opt):\n",
        "    loss_path = os.path.join(save_path, \"validation_loss.csv\")\n",
        "    loss_data = read_csv_to_dict(loss_path)\n",
        "\n",
        "    epochs = list(loss_data.keys())\n",
        "    loss_values = list(loss_data.values())\n",
        "\n",
        "    ax.plot(epochs, loss_values, marker='o', linestyle='-', label=f'Validation Loss: lr={formatted_lr}, $\\\\lambda_0$={formatted_lamda0}, $\\\\lambda_1$={formatted_lamda1}, Optimizer={formatted_opt}')\n",
        "    return epochs\n",
        "\n",
        "# Function to plot net sparsity\n",
        "def plot_net_sparsity(ax, save_path, formatted_lr, formatted_lamda0, formatted_lamda1, formatted_opt):\n",
        "    net_path = os.path.join(save_path, \"net_sparsity.csv\")\n",
        "    net_data = read_csv_to_dict(net_path)\n",
        "\n",
        "    epochs = list(net_data.keys())\n",
        "    net_values = list(net_data.values())\n",
        "\n",
        "    ax.plot(epochs, net_values, marker='o', linestyle='-', label=f'Net Sparsity: lr={formatted_lr}, $\\\\lambda_0$={formatted_lamda0}, $\\\\lambda_1$={formatted_lamda1}, Optimizer={formatted_opt}')\n",
        "    return epochs\n",
        "\n",
        "# Function to create and display plots in a 2x2 grid\n",
        "def create_and_display_plots_1x2(base_path):\n",
        "    fig, axs = plt.subplots(1, 2, figsize=(16, 12))\n",
        "    axs = axs.flatten()\n",
        "    plot_functions = [plot_training_loss, plot_net_sparsity]\n",
        "    titles = ['Validation Loss', 'Non-zero entries']\n",
        "    ylabels = ['Loss', 'Non-zero entries']\n",
        "\n",
        "    subdirectories = [name for name in os.listdir(base_path) if os.path.isdir(os.path.join(base_path, name))]\n",
        "\n",
        "    for ax, plot_function, title, ylabel in zip(axs, plot_functions, titles, ylabels):\n",
        "        all_epochs = []\n",
        "        for subdir in subdirectories:\n",
        "            subdir_path = os.path.join(base_path, subdir)\n",
        "\n",
        "            # Parse the directory name to extract parameters\n",
        "            params = subdir.split('_')\n",
        "            formatted_lr = params[1]\n",
        "            formatted_lamda0 = params[3]\n",
        "            formatted_lamda1 = params[5]\n",
        "            formatted_opt = params[6]\n",
        "\n",
        "            print(f\"Plotting metrics for: LR={formatted_lr}, L0={formatted_lamda0}, L1={formatted_lamda1}, OPT={formatted_opt}\")\n",
        "\n",
        "            epochs = plot_function(ax, subdir_path, formatted_lr, formatted_lamda0, formatted_lamda1, formatted_opt)\n",
        "            all_epochs.extend(epochs)\n",
        "\n",
        "        ax.set_title(title)\n",
        "        ax.set_ylabel(ylabel)\n",
        "        ax.set_xlabel('Epoch')\n",
        "        ax.legend()\n",
        "        ax.grid(True)\n",
        "\n",
        "        if all_epochs:\n",
        "            max_epoch = max(all_epochs)\n",
        "            ax.set_xticks(range(0, max_epoch + 1, 10))  # Set x-axis ticks for every 10 epochs\n",
        "            ax.set_xticklabels(range(0, max_epoch + 1, 10))  # Set x-axis tick labels for every 10 epochs\n",
        "\n",
        "    plt.tight_layout()\n",
        "    plt.savefig('AutoMap')\n",
        "    plt.show()\n",
        "\n",
        "# Example usage\n",
        "save_path = 'AutoMap'\n",
        "create_and_display_plots_1x2(save_path)\n"
      ]
    },
    {
      "cell_type": "code",
      "execution_count": 65,
      "metadata": {
        "id": "tpcKA9Lw16CX",
        "outputId": "a0d50fc5-7989-44b7-df61-9da2f79fb081",
        "colab": {
          "base_uri": "https://localhost:8080/",
          "height": 820
        }
      },
      "outputs": [
        {
          "output_type": "error",
          "ename": "FileNotFoundError",
          "evalue": "[Errno 2] No such file or directory: 'iRandon'",
          "traceback": [
            "\u001b[0;31m---------------------------------------------------------------------------\u001b[0m",
            "\u001b[0;31mFileNotFoundError\u001b[0m                         Traceback (most recent call last)",
            "\u001b[0;32m<ipython-input-65-9778d0fc56ee>\u001b[0m in \u001b[0;36m<cell line: 0>\u001b[0;34m()\u001b[0m\n\u001b[1;32m     53\u001b[0m \u001b[0;31m# Example usage\u001b[0m\u001b[0;34m\u001b[0m\u001b[0;34m\u001b[0m\u001b[0m\n\u001b[1;32m     54\u001b[0m \u001b[0msave_path\u001b[0m \u001b[0;34m=\u001b[0m \u001b[0;34m'iRandon'\u001b[0m\u001b[0;34m\u001b[0m\u001b[0;34m\u001b[0m\u001b[0m\n\u001b[0;32m---> 55\u001b[0;31m \u001b[0mplot_training_time\u001b[0m\u001b[0;34m(\u001b[0m\u001b[0msave_path\u001b[0m\u001b[0;34m)\u001b[0m\u001b[0;34m\u001b[0m\u001b[0;34m\u001b[0m\u001b[0m\n\u001b[0m",
            "\u001b[0;32m<ipython-input-65-9778d0fc56ee>\u001b[0m in \u001b[0;36mplot_training_time\u001b[0;34m(base_path)\u001b[0m\n\u001b[1;32m     18\u001b[0m \u001b[0;32mdef\u001b[0m \u001b[0mplot_training_time\u001b[0m\u001b[0;34m(\u001b[0m\u001b[0mbase_path\u001b[0m\u001b[0;34m)\u001b[0m\u001b[0;34m:\u001b[0m\u001b[0;34m\u001b[0m\u001b[0;34m\u001b[0m\u001b[0m\n\u001b[1;32m     19\u001b[0m     \u001b[0mfig\u001b[0m\u001b[0;34m,\u001b[0m \u001b[0max\u001b[0m \u001b[0;34m=\u001b[0m \u001b[0mplt\u001b[0m\u001b[0;34m.\u001b[0m\u001b[0msubplots\u001b[0m\u001b[0;34m(\u001b[0m\u001b[0mfigsize\u001b[0m\u001b[0;34m=\u001b[0m\u001b[0;34m(\u001b[0m\u001b[0;36m10\u001b[0m\u001b[0;34m,\u001b[0m \u001b[0;36m6\u001b[0m\u001b[0;34m)\u001b[0m\u001b[0;34m)\u001b[0m\u001b[0;34m\u001b[0m\u001b[0;34m\u001b[0m\u001b[0m\n\u001b[0;32m---> 20\u001b[0;31m     \u001b[0msubdirectories\u001b[0m \u001b[0;34m=\u001b[0m \u001b[0;34m[\u001b[0m\u001b[0mname\u001b[0m \u001b[0;32mfor\u001b[0m \u001b[0mname\u001b[0m \u001b[0;32min\u001b[0m \u001b[0mos\u001b[0m\u001b[0;34m.\u001b[0m\u001b[0mlistdir\u001b[0m\u001b[0;34m(\u001b[0m\u001b[0mbase_path\u001b[0m\u001b[0;34m)\u001b[0m \u001b[0;32mif\u001b[0m \u001b[0mos\u001b[0m\u001b[0;34m.\u001b[0m\u001b[0mpath\u001b[0m\u001b[0;34m.\u001b[0m\u001b[0misdir\u001b[0m\u001b[0;34m(\u001b[0m\u001b[0mos\u001b[0m\u001b[0;34m.\u001b[0m\u001b[0mpath\u001b[0m\u001b[0;34m.\u001b[0m\u001b[0mjoin\u001b[0m\u001b[0;34m(\u001b[0m\u001b[0mbase_path\u001b[0m\u001b[0;34m,\u001b[0m \u001b[0mname\u001b[0m\u001b[0;34m)\u001b[0m\u001b[0;34m)\u001b[0m\u001b[0;34m]\u001b[0m\u001b[0;34m\u001b[0m\u001b[0;34m\u001b[0m\u001b[0m\n\u001b[0m\u001b[1;32m     21\u001b[0m \u001b[0;34m\u001b[0m\u001b[0m\n\u001b[1;32m     22\u001b[0m     \u001b[0;32mfor\u001b[0m \u001b[0msubdir\u001b[0m \u001b[0;32min\u001b[0m \u001b[0msubdirectories\u001b[0m\u001b[0;34m:\u001b[0m\u001b[0;34m\u001b[0m\u001b[0;34m\u001b[0m\u001b[0m\n",
            "\u001b[0;31mFileNotFoundError\u001b[0m: [Errno 2] No such file or directory: 'iRandon'"
          ]
        },
        {
          "output_type": "display_data",
          "data": {
            "text/plain": [
              "<Figure size 1000x600 with 1 Axes>"
            ],
            "image/png": "[encoded data removed]"
          },
          "metadata": {}
        }
      ],
      "source": [
        "import os\n",
        "import csv\n",
        "import matplotlib.pyplot as plt\n",
        "\n",
        "# Function to read training time CSV file into a dictionary\n",
        "def read_training_time_csv(file_path):\n",
        "    data = {}\n",
        "    with open(file_path, mode='r') as file:\n",
        "        reader = csv.reader(file)\n",
        "        headers = next(reader)\n",
        "        for row in reader:\n",
        "            epoch = int(row[0])\n",
        "            time = float(row[1])\n",
        "            data[epoch] = time\n",
        "    return data\n",
        "\n",
        "# Function to plot training time\n",
        "def plot_training_time(base_path):\n",
        "    fig, ax = plt.subplots(figsize=(10, 6))\n",
        "    subdirectories = [name for name in os.listdir(base_path) if os.path.isdir(os.path.join(base_path, name))]\n",
        "\n",
        "    for subdir in subdirectories:\n",
        "        subdir_path = os.path.join(base_path, subdir)\n",
        "        time_path = os.path.join(subdir_path, \"training_time.csv\")\n",
        "\n",
        "        if not os.path.exists(time_path):\n",
        "            print(f\"Skipping {subdir}, training_time.csv not found.\")\n",
        "            continue\n",
        "\n",
        "        # Parse the directory name to extract parameters\n",
        "        params = subdir.split('_')\n",
        "        formatted_lr = params[1]\n",
        "        formatted_lamda0 = params[3]\n",
        "        formatted_lamda1 = params[5]\n",
        "        formatted_opt = params[6]\n",
        "\n",
        "        print(f\"Plotting training time for: LR={formatted_lr}, L0={formatted_lamda0}, L1={formatted_lamda1}, OPT={formatted_opt}\")\n",
        "\n",
        "        time_data = read_training_time_csv(time_path)\n",
        "        epochs = list(time_data.keys())\n",
        "        time_values = list(time_data.values())\n",
        "\n",
        "        ax.plot(epochs, time_values, marker='o', linestyle='-', label=f'Training Time: lr={formatted_lr}, $\\\\lambda_0$={formatted_lamda0}, $\\\\lambda_1$={formatted_lamda1}, Optimizer={formatted_opt}')\n",
        "\n",
        "    ax.set_title(\"Training Time per Epoch\")\n",
        "    ax.set_xlabel(\"Epoch\")\n",
        "    ax.set_ylabel(\"Time (seconds)\")\n",
        "    ax.legend()\n",
        "    ax.grid(True)\n",
        "    plt.savefig('iRandon/training_time.png')\n",
        "    plt.show()\n",
        "\n",
        "# Example usage\n",
        "save_path = 'iRandon'\n",
        "plot_training_time(save_path)\n"
      ]
    },
    {
      "cell_type": "markdown",
      "metadata": {
        "id": "RFWLuBZJ0lZe"
      },
      "source": [
        "Visualizing a sample from the results in comparison to FBP:"
      ]
    },
    {
      "cell_type": "code",
      "execution_count": 86,
      "metadata": {
        "colab": {
          "base_uri": "https://localhost:8080/",
          "height": 539
        },
        "id": "GIQOarWM0lZf",
        "outputId": "496994c9-9476-4658-a66c-9b0a11922a0c"
      },
      "outputs": [
        {
          "output_type": "display_data",
          "data": {
            "text/plain": [
              "<Figure size 600x600 with 9 Axes>"
            ],
            "image/png": "[encoded data removed]"
          },
          "metadata": {}
        },
        {
          "output_type": "stream",
          "name": "stdout",
          "text": [
            "net_sparse 0.997582323996972\n"
          ]
        }
      ],
      "source": [
        "test_res_full = model1(test_data)\n",
        "results = [test_images.cpu(), fbp_recos.cpu(), test_res_full.cpu()]\n",
        "titles = ['Truth', 'FBP', 'Full']\n",
        "show_image_matrix(results, titles, indices=slice(10, 13), clim=[0, 1], cmap='bone')\n",
        "print('net_sparse', maf.net_sparsity(model1))\n",
        "output_folder = '/content/CTresult3'\n",
        "output_path = os.path.join(output_folder, 'image_matrix.png')\n",
        "plt.tight_layout()\n",
        "plt.savefig(output_path)\n",
        "plt.close()"
      ]
    },
    {
      "cell_type": "code",
      "execution_count": null,
      "metadata": {
        "colab": {
          "base_uri": "https://localhost:8080/",
          "height": 196
        },
        "id": "eTSWamoeURi-",
        "outputId": "77aa1189-40c7-4bbc-fd1d-f552ef13491d"
      },
      "outputs": [
        {
          "data": {
            "image/png": "[encoded data removed]",
            "text/plain": [
              "<Figure size 600x200 with 3 Axes>"
            ]
          },
          "metadata": {},
          "output_type": "display_data"
        }
      ],
      "source": [
        "from PIL import Image\n",
        "import torch\n",
        "from torch.autograd import Variable\n",
        "import numpy as np\n",
        "import matplotlib.pyplot as plt\n",
        "\n",
        "# Step 1: Load and preprocess the image\n",
        "img_path = 'cameraman.jpg'\n",
        "img = Image.open(img_path).convert('L')  # Convert to grayscale\n",
        "\n",
        "# Resize to 28x28\n",
        "img = img.resize((28, 28))\n",
        "\n",
        "# Normalize and create a tensor\n",
        "img_tensor = torch.tensor(\n",
        "    np.array(img, dtype=np.float32)/255.0  # Normalize to [0, 1]\n",
        ").unsqueeze(0).unsqueeze(0)  # Add batch and channel dimensions (1, 1, 28, 28)\n",
        "\n",
        "img_variable = Variable(img_tensor)\n",
        "\n",
        "# Step 2: Generate projection data\n",
        "projection_data = generate_data(img_variable)  # Shape: (1, 1, 5, 41)\n",
        "\n",
        "# Step 3: Feed the projection data into the model\n",
        "fbp_reconstruction = fbp_op_mod(projection_data)  # FBP reconstruction\n",
        "model1_result = model1(projection_data)  # Model1 reconstruction\n",
        "# Step 4: Visualize the results\n",
        "results = [\n",
        "    img_tensor.squeeze(0).cpu(),  # Original image\n",
        "    fbp_reconstruction.squeeze(0).cpu(),  # FBP result\n",
        "    model1_result.squeeze(0).cpu()  # Model1 result\n",
        "]\n",
        "titles = ['Original Image', 'FBP Reconstruction', 'Model1 Reconstruction']\n",
        "\n",
        "show_image_matrix(results, titles=titles, clim=[0, 1], cmap='bone')\n",
        "output_folder = '/content/CTresult3'\n",
        "output_path = os.path.join(output_folder, 'cameraman.png')\n",
        "plt.tight_layout()\n",
        "plt.savefig(output_path)\n",
        "plt.close()\n"
      ]
    },
    {
      "cell_type": "markdown",
      "metadata": {
        "id": "cpvojKEl0lZg"
      },
      "source": [
        "These examples look much better than FBP (unsurprisingly), but there are still some issues with noise, deformations etc.\n",
        "\n",
        "To also make an assessment about the number of trainable parameters and thus the scalability of the approach (the more parameters, the harder to train), the total number of parameters in the model can be checked like this:"
      ]
    },
    {
      "cell_type": "code",
      "execution_count": null,
      "metadata": {
        "colab": {
          "base_uri": "https://localhost:8080/"
        },
        "id": "M42oJTpd0lZi",
        "outputId": "135c3485-996a-4c63-ac86-d1dcdb6f5552"
      },
      "outputs": [
        {
          "name": "stdout",
          "output_type": "stream",
          "text": [
            "Total number of parameters: 2064144\n",
            "Training data size: 470400\n"
          ]
        }
      ],
      "source": [
        "print('Total number of parameters:',\n",
        "      sum(param.numel() for param in model1.parameters()))\n",
        "print('Training data size:', 600 * 28 ** 2)"
      ]
    },
    {
      "cell_type": "markdown",
      "metadata": {
        "id": "wzDOe2cV0lZj"
      },
      "source": [
        "It turns out that for this tiny problem, the number of parameters is over 2 million. This is still a good deal away from the input data size (47 million), but overfitting is likely with this network. Therefore we explore sparser architectures."
      ]
    },
    {
      "cell_type": "markdown",
      "metadata": {
        "id": "oI9y2E-mpBR5"
      },
      "source": [
        "## FBP denoising net\n",
        "\n",
        "This network operates entirely on the 28 x 28 sized image domain by taking an FBP reconstruction as input and then trying to learn how to remove the noise and the streak artefacts. It uses convolutions that have far fewer parameters."
      ]
    },
    {
      "cell_type": "code",
      "execution_count": null,
      "metadata": {
        "id": "ZtiYPIblpE3G"
      },
      "outputs": [],
      "source": [
        "class DenoisingNet(nn.Module):\n",
        "    def __init__(self):\n",
        "        super(DenoisingNet, self).__init__()\n",
        "        self.conv1 = nn.Conv2d(1, 32, 3, padding=1)\n",
        "        self.conv2 = nn.Conv2d(32, 32, 3, padding=1)\n",
        "        self.conv3 = nn.Conv2d(32, 1, 3, padding=1)\n",
        "\n",
        "    def forward(self, x):\n",
        "        x = F.relu(self.conv1(x))\n",
        "        x = F.relu(self.conv2(x))\n",
        "        x = self.conv3(x)\n",
        "        return x"
      ]
    },
    {
      "cell_type": "code",
      "execution_count": null,
      "metadata": {
        "id": "fnxMy0wEeUH6"
      },
      "outputs": [],
      "source": [
        "conf_args = {\n",
        "    # optimizer\n",
        "    'delta':1.0, 'lr':0.01, 'lamda_0':0.01, 'lamda_1':0.001, 'optim':\"L1SGD\", 'conv_group':True,\n",
        "    'beta':0.0,\n",
        "    # initialization\n",
        "    'sparse_init':0.1, 'r':[5.,5., 5.],\n",
        "}\n",
        "\n",
        "conf = cf.Conf(**conf_args)"
      ]
    },
    {
      "cell_type": "code",
      "execution_count": null,
      "metadata": {
        "colab": {
          "base_uri": "https://localhost:8080/"
        },
        "id": "z0zr64cErvq6",
        "outputId": "e45dc859-a0ea-425b-9716-672184293af9"
      },
      "outputs": [
        {
          "name": "stdout",
          "output_type": "stream",
          "text": [
            "net_sparse 0.4014501633986928\n"
          ]
        }
      ],
      "source": [
        "def init_weights(model):\n",
        "    # sparsify\n",
        "    maf.sparse_bias_uniform_(model, 0.1, 0.1, ltype=torch.nn.Conv2d)\n",
        "    maf.sparse_weight_normal_(model, 0.1, ltype=torch.nn.Conv2d)\n",
        "    maf.sparsify_(model, 0.4, ltype=nn.Conv2d, conv_group=False)\n",
        "    return model\n",
        "\n",
        "\n",
        "# Initialize the weights\n",
        "model2 = init_weights(DenoisingNet())\n",
        "\n",
        "print('net_sparse', maf.net_sparsity(model2))"
      ]
    },
    {
      "cell_type": "code",
      "execution_count": null,
      "metadata": {
        "id": "Lr1aDljleUH6"
      },
      "outputs": [],
      "source": [
        "def init_opt(conf, model):\n",
        "    # -----------------------------------------------------------------------------------\n",
        "    # Get access to different model parameters\n",
        "    # -----------------------------------------------------------------------------------\n",
        "    weights_conv = maf.get_weights_conv(model)\n",
        "    weights_linear = maf.get_weights_linear(model)\n",
        "    biases = maf.get_bias(model)\n",
        "\n",
        "    # -----------------------------------------------------------------------------------\n",
        "    # Initialize optimizer\n",
        "    # -----------------------------------------------------------------------------------\n",
        "    if conf.conv_group:\n",
        "        reg2 = reg.reg_l1_l1_l2_conv(lamda0=conf.lamda_0, lamda1=conf.lamda_1)\n",
        "    else:\n",
        "        reg2 = reg.reg_l1(lamda=conf.lamda_0)\n",
        "\n",
        "    if conf.optim == \"SGD\":\n",
        "        opt = torch.optim.SGD(model.parameters(), lr=conf.lr, momentum=conf.beta, weight_decay=conf.lamda_1)\n",
        "    elif conf.optim == \"LinBreg\":\n",
        "        opt = op.LinBreg([{'params': weights_conv, 'lr' : conf.lr, 'reg' : reg2, 'momentum':conf.beta,'delta':conf.delta},\n",
        "                          {'params': weights_linear, 'lr' : conf.lr, 'reg' : reg.reg_l1(lamda=conf.lamda_1), 'momentum':conf.beta,'delta':conf.delta},\n",
        "                          {'params': biases, 'lr': conf.lr, 'momentum':conf.beta}])\n",
        "    elif conf.optim == \"L1SGD\":\n",
        "        def weight_reg(model):\n",
        "            reg1 =  reg.reg_l1(lamda=conf.lamda_1)\n",
        "\n",
        "            loss1 = reg1(model.layers2[0].weight) + reg1(model.layers2[2].weight)\n",
        "            loss2 = reg2(model.layers1[0].weight) + reg2(model.layers1[3].weight)\n",
        "            return loss1 + loss2\n",
        "\n",
        "        conf.weight_reg = weight_reg\n",
        "\n",
        "        opt = torch.optim.SGD(model.parameters(), lr=conf.lr, momentum=conf.beta)\n",
        "    else:\n",
        "        raise ValueError(\"Unknown Optimizer specified\")\n",
        "\n",
        "    # learning rate scheduler\n",
        "    scheduler = torch.optim.lr_scheduler.ReduceLROnPlateau(opt, factor=0.7, patience=10,threshold=0.0001)\n",
        "\n",
        "    return opt, scheduler"
      ]
    },
    {
      "cell_type": "code",
      "execution_count": null,
      "metadata": {
        "colab": {
          "base_uri": "https://localhost:8080/"
        },
        "id": "RotJBWuUtGei",
        "outputId": "19431db2-9e5c-4ee7-8e87-8376a35f6ada"
      },
      "outputs": [
        {
          "name": "stdout",
          "output_type": "stream",
          "text": [
            "\n",
            "Train Epoch: 1 Average Loss: 0.339273 Training Time: 425.32 seconds Net Sparsity: 1.0\n",
            "\n",
            "Validation Epoch: 1 Learning Rate: 0.010000 Average Loss: 0.240150\n",
            "\n",
            "Train Epoch: 2 Average Loss: 0.235487 Training Time: 420.73 seconds Net Sparsity: 1.0\n",
            "\n",
            "Validation Epoch: 2 Learning Rate: 0.010000 Average Loss: 0.229261\n",
            "\n",
            "Train Epoch: 3 Average Loss: 0.225650 Training Time: 415.62 seconds Net Sparsity: 1.0\n",
            "\n",
            "Validation Epoch: 3 Learning Rate: 0.010000 Average Loss: 0.219069\n",
            "\n",
            "Train Epoch: 4 Average Loss: 0.214879 Training Time: 428.84 seconds Net Sparsity: 1.0\n",
            "\n",
            "Validation Epoch: 4 Learning Rate: 0.010000 Average Loss: 0.207884\n",
            "\n",
            "Train Epoch: 5 Average Loss: 0.204132 Training Time: 423.58 seconds Net Sparsity: 1.0\n",
            "\n",
            "Validation Epoch: 5 Learning Rate: 0.010000 Average Loss: 0.198270\n",
            "\n",
            "Train Epoch: 6 Average Loss: 0.196274 Training Time: 414.99 seconds Net Sparsity: 1.0\n",
            "\n",
            "Validation Epoch: 6 Learning Rate: 0.010000 Average Loss: 0.191904\n",
            "\n",
            "Train Epoch: 7 Average Loss: 0.190732 Training Time: 417.19 seconds Net Sparsity: 1.0\n",
            "\n",
            "Validation Epoch: 7 Learning Rate: 0.010000 Average Loss: 0.186775\n",
            "\n",
            "Train Epoch: 8 Average Loss: 0.185590 Training Time: 418.37 seconds Net Sparsity: 1.0\n",
            "\n",
            "Validation Epoch: 8 Learning Rate: 0.010000 Average Loss: 0.181514\n",
            "\n",
            "Train Epoch: 9 Average Loss: 0.180834 Training Time: 420.34 seconds Net Sparsity: 1.0\n",
            "\n",
            "Validation Epoch: 9 Learning Rate: 0.010000 Average Loss: 0.176848\n",
            "\n",
            "Train Epoch: 10 Average Loss: 0.177094 Training Time: 403.41 seconds Net Sparsity: 1.0\n",
            "\n",
            "Validation Epoch: 10 Learning Rate: 0.010000 Average Loss: 0.172674\n",
            "\n",
            "Train Epoch: 11 Average Loss: 0.173201 Training Time: 400.80 seconds Net Sparsity: 1.0\n",
            "\n",
            "Validation Epoch: 11 Learning Rate: 0.010000 Average Loss: 0.169319\n",
            "\n",
            "Train Epoch: 12 Average Loss: 0.170355 Training Time: 401.75 seconds Net Sparsity: 1.0\n",
            "\n",
            "Validation Epoch: 12 Learning Rate: 0.010000 Average Loss: 0.166951\n",
            "\n",
            "Train Epoch: 13 Average Loss: 0.168141 Training Time: 402.60 seconds Net Sparsity: 1.0\n",
            "\n",
            "Validation Epoch: 13 Learning Rate: 0.010000 Average Loss: 0.165174\n",
            "\n",
            "Train Epoch: 14 Average Loss: 0.166418 Training Time: 401.57 seconds Net Sparsity: 1.0\n",
            "\n",
            "Validation Epoch: 14 Learning Rate: 0.010000 Average Loss: 0.163769\n",
            "\n",
            "Train Epoch: 15 Average Loss: 0.165026 Training Time: 397.76 seconds Net Sparsity: 1.0\n",
            "\n",
            "Validation Epoch: 15 Learning Rate: 0.010000 Average Loss: 0.162606\n",
            "\n",
            "Train Epoch: 16 Average Loss: 0.163859 Training Time: 394.89 seconds Net Sparsity: 1.0\n",
            "\n",
            "Validation Epoch: 16 Learning Rate: 0.010000 Average Loss: 0.161607\n",
            "\n",
            "Train Epoch: 17 Average Loss: 0.162858 Training Time: 397.36 seconds Net Sparsity: 1.0\n",
            "\n",
            "Validation Epoch: 17 Learning Rate: 0.010000 Average Loss: 0.160715\n",
            "\n",
            "Train Epoch: 18 Average Loss: 0.161938 Training Time: 398.54 seconds Net Sparsity: 1.0\n",
            "\n",
            "Validation Epoch: 18 Learning Rate: 0.010000 Average Loss: 0.159889\n",
            "\n",
            "Train Epoch: 19 Average Loss: 0.161117 Training Time: 393.24 seconds Net Sparsity: 1.0\n",
            "\n",
            "Validation Epoch: 19 Learning Rate: 0.010000 Average Loss: 0.159130\n",
            "\n",
            "Train Epoch: 20 Average Loss: 0.160324 Training Time: 391.36 seconds Net Sparsity: 1.0\n",
            "\n",
            "Validation Epoch: 20 Learning Rate: 0.010000 Average Loss: 0.158411\n",
            "\n",
            "Train Epoch: 21 Average Loss: 0.159577 Training Time: 393.08 seconds Net Sparsity: 1.0\n",
            "\n",
            "Validation Epoch: 21 Learning Rate: 0.010000 Average Loss: 0.157742\n",
            "\n",
            "Train Epoch: 22 Average Loss: 0.158878 Training Time: 390.18 seconds Net Sparsity: 1.0\n",
            "\n",
            "Validation Epoch: 22 Learning Rate: 0.010000 Average Loss: 0.157118\n",
            "\n",
            "Train Epoch: 23 Average Loss: 0.158244 Training Time: 392.20 seconds Net Sparsity: 1.0\n",
            "\n",
            "Validation Epoch: 23 Learning Rate: 0.010000 Average Loss: 0.156539\n",
            "\n",
            "Train Epoch: 24 Average Loss: 0.157660 Training Time: 396.54 seconds Net Sparsity: 1.0\n",
            "\n",
            "Validation Epoch: 24 Learning Rate: 0.010000 Average Loss: 0.156002\n",
            "\n",
            "Train Epoch: 25 Average Loss: 0.157123 Training Time: 394.17 seconds Net Sparsity: 1.0\n",
            "\n",
            "Validation Epoch: 25 Learning Rate: 0.010000 Average Loss: 0.155497\n",
            "\n",
            "Train Epoch: 26 Average Loss: 0.156615 Training Time: 394.00 seconds Net Sparsity: 1.0\n",
            "\n",
            "Validation Epoch: 26 Learning Rate: 0.010000 Average Loss: 0.155021\n",
            "\n",
            "Train Epoch: 27 Average Loss: 0.156135 Training Time: 391.05 seconds Net Sparsity: 1.0\n",
            "\n",
            "Validation Epoch: 27 Learning Rate: 0.010000 Average Loss: 0.154560\n",
            "\n",
            "Train Epoch: 28 Average Loss: 0.155674 Training Time: 394.16 seconds Net Sparsity: 1.0\n",
            "\n",
            "Validation Epoch: 28 Learning Rate: 0.010000 Average Loss: 0.154114\n",
            "\n",
            "Train Epoch: 29 Average Loss: 0.155227 Training Time: 405.16 seconds Net Sparsity: 1.0\n",
            "\n",
            "Validation Epoch: 29 Learning Rate: 0.010000 Average Loss: 0.153682\n",
            "\n",
            "Train Epoch: 30 Average Loss: 0.154796 Training Time: 403.26 seconds Net Sparsity: 1.0\n",
            "\n",
            "Validation Epoch: 30 Learning Rate: 0.010000 Average Loss: 0.153260\n"
          ]
        }
      ],
      "source": [
        "import os\n",
        "import csv\n",
        "import pandas as pd\n",
        "import time\n",
        "import torch\n",
        "import matplotlib.pyplot as plt\n",
        "\n",
        "# Configuration for training\n",
        "epochs = 30\n",
        "loss_train = nn.MSELoss()\n",
        "optimizer, scheduler = init_opt(conf, model2)\n",
        "\n",
        "# Lists to store results for later saving\n",
        "epoch_list = []\n",
        "val_loss_list = []\n",
        "sparsity_list = []\n",
        "time_list = []  # To store training time\n",
        "\n",
        "# Formatted directory structure\n",
        "save_path = os.path.join(\n",
        "    'Denoisingresult',\n",
        "    f\"lr_{conf.lr}_l0_{conf.lamda_0}_l1_{conf.lamda_1}_{conf.optim}\"\n",
        ")\n",
        "os.makedirs(save_path, exist_ok=True)\n",
        "\n",
        "# File paths for storing results\n",
        "net_sparsity_path = os.path.join(save_path, \"net_sparsity.csv\")\n",
        "validation_loss_path = os.path.join(save_path, \"validation_loss.csv\")\n",
        "node_sparsity_path = os.path.join(save_path, \"node_sparsity.csv\")\n",
        "training_time_path = os.path.join(save_path, \"training_time.csv\")\n",
        "\n",
        "def save_epoch_results(epoch, val_data, train_time):\n",
        "    \"\"\"\n",
        "    Save validation results and training time for each epoch to CSV files.\n",
        "    \"\"\"\n",
        "    def write_csv(file_path, headers, row):\n",
        "        file_exists = os.path.isfile(file_path)\n",
        "        with open(file_path, mode='a', newline='') as file:\n",
        "            writer = csv.writer(file)\n",
        "            if not file_exists:\n",
        "                writer.writerow(headers)\n",
        "            writer.writerow(row)\n",
        "\n",
        "    write_csv(net_sparsity_path, [\"Epoch\", \"Net Sparsity\"], [epoch, val_data['Net Sparsity']])\n",
        "    write_csv(validation_loss_path, [\"Epoch\", \"Validation Loss\"], [epoch, val_data['validation_loss']])\n",
        "\n",
        "    # Save training time\n",
        "    write_csv(training_time_path, [\"Epoch\", \"Training Time (s)\"], [epoch, train_time])\n",
        "\n",
        "def train(epoch):\n",
        "    model2.train()\n",
        "    train_loss = 0\n",
        "    total_mse = 0\n",
        "    num_batches = len(train_loader)\n",
        "\n",
        "    start_time = time.time()  # Start timing the epoch\n",
        "    for batch_idx, (images, _) in enumerate(train_loader):\n",
        "        images = Variable(images)\n",
        "\n",
        "        projs = generate_data(images)\n",
        "        fbp_recos = fbp_op_mod(projs)\n",
        "\n",
        "        optimizer.zero_grad()\n",
        "\n",
        "        output = model2(fbp_recos)\n",
        "        loss = loss_train(output, images)\n",
        "        train_loss += loss.item()\n",
        "\n",
        "        loss.backward()\n",
        "        optimizer.step()\n",
        "    end_time = time.time()  # End timing the epoch\n",
        "\n",
        "    train_time = end_time - start_time  # Calculate time taken for the epoch\n",
        "    avg_train_loss = train_loss / num_batches\n",
        "    avg_train_mse = total_mse / num_batches\n",
        "\n",
        "    print(f'\\nTrain Epoch: {epoch} Average Loss: {avg_train_loss:.6f}',\n",
        "          'Training Time:', f'{train_time:.2f} seconds',\n",
        "          'Net Sparsity:', maf.net_sparsity(model2))\n",
        "\n",
        "    return train_time\n",
        "\n",
        "def validate(epoch):\n",
        "    model2.eval()\n",
        "    val_loss = 0\n",
        "    total_mse = 0\n",
        "    num_batches = len(val_loader)\n",
        "\n",
        "    with torch.no_grad():\n",
        "        for val_images, _ in val_loader:\n",
        "            val_images = Variable(val_images)\n",
        "\n",
        "            val_projs = generate_data(val_images)\n",
        "            val_fbp_recos = fbp_op_mod(val_projs)\n",
        "            output = model2(val_fbp_recos)\n",
        "\n",
        "            loss = loss_train(output, val_images)\n",
        "            val_loss += loss.item()\n",
        "\n",
        "    avg_val_loss = val_loss / num_batches\n",
        "    avg_val_mse = total_mse / num_batches\n",
        "    current_lr = optimizer.param_groups[0]['lr']\n",
        "    print(f'\\nValidation Epoch: {epoch} Learning Rate: {current_lr:.6f} Average Loss: {avg_val_loss:.6f}')\n",
        "\n",
        "    return avg_val_loss\n",
        "\n",
        "# Training loop\n",
        "for epoch in range(1, epochs + 1):\n",
        "    train_time = train(epoch)  # Train the model and track time\n",
        "    avg_val_loss = validate(epoch)  # Validate the model and get avg validation loss\n",
        "\n",
        "    epoch_list.append(epoch)\n",
        "    val_loss_list.append(avg_val_loss)\n",
        "    sparsity_list.append(maf.net_sparsity(model2))\n",
        "    time_list.append(train_time)\n",
        "\n",
        "    # Save epoch-specific results\n",
        "    val_data = {\n",
        "        'Net Sparsity': maf.net_sparsity(model2),\n",
        "        'validation_loss': avg_val_loss,\n",
        "    }\n",
        "    save_epoch_results(epoch, val_data, train_time)\n",
        "\n",
        "    if scheduler is not None:\n",
        "        scheduler.step(avg_val_loss)\n"
      ]
    },
    {
      "cell_type": "code",
      "execution_count": null,
      "metadata": {
        "colab": {
          "base_uri": "https://localhost:8080/"
        },
        "id": "52N2DJ1eYoD_",
        "outputId": "9eadbdd2-1d81-47dd-fdbe-ae8bd5adba61"
      },
      "outputs": [
        {
          "ename": "NameError",
          "evalue": "name 'training_log_text' is not defined",
          "output_type": "error",
          "traceback": [
            "\u001b[1;31m---------------------------------------------------------------------------\u001b[0m",
            "\u001b[1;31mNameError\u001b[0m                                 Traceback (most recent call last)",
            "Cell \u001b[1;32mIn[1], line 58\u001b[0m\n\u001b[0;32m     53\u001b[0m     \u001b[38;5;28mprint\u001b[39m(\u001b[38;5;124mf\u001b[39m\u001b[38;5;124m\"\u001b[39m\u001b[38;5;124mData has been successfully saved in \u001b[39m\u001b[38;5;132;01m{\u001b[39;00msave_path\u001b[38;5;132;01m}\u001b[39;00m\u001b[38;5;124m\"\u001b[39m)\n\u001b[0;32m     57\u001b[0m \u001b[38;5;66;03m# Extract and save the data\u001b[39;00m\n\u001b[1;32m---> 58\u001b[0m extract_and_save_training_data(\u001b[43mtraining_log_text\u001b[49m)\n",
            "\u001b[1;31mNameError\u001b[0m: name 'training_log_text' is not defined"
          ]
        }
      ],
      "source": [
        "import re\n",
        "import csv\n",
        "import os\n",
        "\n",
        "# Define file paths\n",
        "save_path = \"iRandon\"\n",
        "os.makedirs(save_path, exist_ok=True)\n",
        "\n",
        "net_sparsity_path = os.path.join(save_path, \"net_sparsity.csv\")\n",
        "validation_loss_path = os.path.join(save_path, \"validation_loss.csv\")\n",
        "training_time_path = os.path.join(save_path, \"training_time.csv\")\n",
        "\n",
        "# Function to parse the text and save data\n",
        "def extract_and_save_training_data(text):\n",
        "    \"\"\"\n",
        "    Extract training data from text and save it into CSV files.\n",
        "    \"\"\"\n",
        "    # Define regex patterns\n",
        "    epoch_pattern = r\"Train Epoch: (\\d+)\"\n",
        "    avg_loss_pattern = r\"Average Loss: ([0-9.]+)\"\n",
        "    train_time_pattern = r\"Training Time: ([0-9.]+) seconds\"\n",
        "    net_sparsity_pattern = r\"Net Sparsity: ([0-9.]+)\"\n",
        "    val_loss_pattern = r\"Validation Epoch: \\d+.*?Average Loss: ([0-9.]+)\"\n",
        "\n",
        "    # Find all matches\n",
        "    epochs = re.findall(epoch_pattern, text)\n",
        "    avg_losses = re.findall(avg_loss_pattern, text)\n",
        "    train_times = re.findall(train_time_pattern, text)\n",
        "    net_sparsities = re.findall(net_sparsity_pattern, text)\n",
        "    val_losses = re.findall(val_loss_pattern, text)\n",
        "\n",
        "    # Ensure all lists are aligned\n",
        "    assert len(epochs) == len(train_times) == len(net_sparsities) == len(val_losses), \"Mismatch in extracted data lengths.\"\n",
        "\n",
        "    # Save data to CSV files\n",
        "    def write_csv(file_path, headers, rows):\n",
        "        file_exists = os.path.isfile(file_path)\n",
        "        with open(file_path, mode='w', newline='') as file:\n",
        "            writer = csv.writer(file)\n",
        "            if not file_exists:\n",
        "                writer.writerow(headers)\n",
        "            writer.writerows(rows)\n",
        "\n",
        "    # Prepare data rows\n",
        "    net_sparsity_data = [[int(epoch), float(net_sparsity)] for epoch, net_sparsity in zip(epochs, net_sparsities)]\n",
        "    val_loss_data = [[int(epoch), float(val_loss)] for epoch, val_loss in zip(epochs, val_losses)]\n",
        "    train_time_data = [[int(epoch), float(train_time)] for epoch, train_time in zip(epochs, train_times)]\n",
        "\n",
        "    # Write to files\n",
        "    write_csv(net_sparsity_path, [\"Epoch\", \"Net Sparsity\"], net_sparsity_data)\n",
        "    write_csv(validation_loss_path, [\"Epoch\", \"Validation Loss\"], val_loss_data)\n",
        "    write_csv(training_time_path, [\"Epoch\", \"Training Time (s)\"], train_time_data)\n",
        "    print(f\"Data has been successfully saved in {save_path}\")\n",
        "\n",
        "\n",
        "\n",
        "# Extract and save the data\n",
        "extract_and_save_training_data(training_log_text)\n"
      ]
    },
    {
      "cell_type": "code",
      "execution_count": null,
      "metadata": {
        "id": "fSfghyzieUH6",
        "outputId": "81ac97e7-31a4-4385-e91b-f832ac953f06"
      },
      "outputs": [
        {
          "name": "stdout",
          "output_type": "stream",
          "text": [
            "Plotting metrics for: LR=0.01, L0=0.01, L1=0.001, OPT=LinBreg\n",
            "Plotting metrics for: LR=0.01, L0=0.01, L1=0.001, OPT=SGD\n",
            "Plotting metrics for: LR=0.01, L0=0.01, L1=0.01, OPT=L1SGD\n",
            "Plotting metrics for: LR=0.01, L0=0.01, L1=0.0, OPT=L1SGD\n",
            "Plotting metrics for: LR=0.01, L0=0.01, L1=0.001, OPT=LinBreg\n",
            "Plotting metrics for: LR=0.01, L0=0.01, L1=0.001, OPT=SGD\n",
            "Plotting metrics for: LR=0.01, L0=0.01, L1=0.01, OPT=L1SGD\n",
            "Plotting metrics for: LR=0.01, L0=0.01, L1=0.0, OPT=L1SGD\n"
          ]
        },
        {
          "data": {
            "image/png": "[encoded data removed]",
            "text/plain": [
              "<Figure size 1600x1200 with 2 Axes>"
            ]
          },
          "metadata": {},
          "output_type": "display_data"
        }
      ],
      "source": [
        "import os\n",
        "import csv\n",
        "import matplotlib.pyplot as plt\n",
        "\n",
        "# Function to read CSV file into a dictionary\n",
        "def read_csv_to_dict(file_path):\n",
        "    data = {}\n",
        "    with open(file_path, mode='r') as file:\n",
        "        reader = csv.reader(file)\n",
        "        headers = next(reader)\n",
        "        for row in reader:\n",
        "            epoch = int(row[0])\n",
        "            value = float(row[1])\n",
        "            data[epoch] = value\n",
        "    return data\n",
        "\n",
        "# Function to read node sparsity CSV file into a dictionary\n",
        "def read_node_sparsity_csv(file_path):\n",
        "    data = {}\n",
        "    with open(file_path, mode='r') as file:\n",
        "        reader = csv.reader(file)\n",
        "        headers = next(reader)\n",
        "        node_indices = [header.split('_')[-1] for header in headers[1:]]  # Extract node indices from headers\n",
        "        for row in reader:\n",
        "            epoch = int(row[0])\n",
        "            values = list(map(float, row[1:]))\n",
        "            for idx, node_index in enumerate(node_indices):\n",
        "                if node_index not in data:\n",
        "                    data[node_index] = []\n",
        "                data[node_index].append(values[idx])\n",
        "    return data\n",
        "\n",
        "# Function to plot training loss\n",
        "def plot_training_loss(ax, save_path, formatted_lr, formatted_lamda0, formatted_lamda1, formatted_opt):\n",
        "    loss_path = os.path.join(save_path, \"validation_loss.csv\")\n",
        "    loss_data = read_csv_to_dict(loss_path)\n",
        "\n",
        "    epochs = list(loss_data.keys())\n",
        "    loss_values = list(loss_data.values())\n",
        "\n",
        "    ax.plot(epochs, loss_values, marker='o', linestyle='-', label=f'Validation Loss: lr={formatted_lr}, $\\\\lambda_0$={formatted_lamda0}, $\\\\lambda_1$={formatted_lamda1}, Optimizer={formatted_opt}')\n",
        "    return epochs\n",
        "\n",
        "# Function to plot net sparsity\n",
        "def plot_net_sparsity(ax, save_path, formatted_lr, formatted_lamda0, formatted_lamda1, formatted_opt):\n",
        "    net_path = os.path.join(save_path, \"net_sparsity.csv\")\n",
        "    net_data = read_csv_to_dict(net_path)\n",
        "\n",
        "    epochs = list(net_data.keys())\n",
        "    net_values = list(net_data.values())\n",
        "\n",
        "    ax.plot(epochs, net_values, marker='o', linestyle='-', label=f'Net Sparsity: lr={formatted_lr}, $\\\\lambda_0$={formatted_lamda0}, $\\\\lambda_1$={formatted_lamda1}, Optimizer={formatted_opt}')\n",
        "    return epochs\n",
        "\n",
        "# Function to create and display plots in a 2x2 grid\n",
        "def create_and_display_plots_1x2(base_path):\n",
        "    fig, axs = plt.subplots(1, 2, figsize=(16, 12))\n",
        "    axs = axs.flatten()\n",
        "    plot_functions = [plot_training_loss, plot_net_sparsity]\n",
        "    titles = ['Validation Loss', 'Non-zero entries']\n",
        "    ylabels = ['Loss', 'Non-zero entries']\n",
        "\n",
        "    subdirectories = [name for name in os.listdir(base_path) if os.path.isdir(os.path.join(base_path, name))]\n",
        "\n",
        "    for ax, plot_function, title, ylabel in zip(axs, plot_functions, titles, ylabels):\n",
        "        all_epochs = []\n",
        "        for subdir in subdirectories:\n",
        "            subdir_path = os.path.join(base_path, subdir)\n",
        "\n",
        "            # Parse the directory name to extract parameters\n",
        "            params = subdir.split('_')\n",
        "            formatted_lr = params[1]\n",
        "            formatted_lamda0 = params[3]\n",
        "            formatted_lamda1 = params[5]\n",
        "            formatted_opt = params[6]\n",
        "\n",
        "            print(f\"Plotting metrics for: LR={formatted_lr}, L0={formatted_lamda0}, L1={formatted_lamda1}, OPT={formatted_opt}\")\n",
        "\n",
        "            epochs = plot_function(ax, subdir_path, formatted_lr, formatted_lamda0, formatted_lamda1, formatted_opt)\n",
        "            all_epochs.extend(epochs)\n",
        "\n",
        "        ax.set_title(title)\n",
        "        ax.set_ylabel(ylabel)\n",
        "        ax.set_xlabel('Epoch')\n",
        "        ax.legend()\n",
        "        ax.grid(True)\n",
        "\n",
        "        if all_epochs:\n",
        "            max_epoch = max(all_epochs)\n",
        "            ax.set_xticks(range(0, max_epoch + 1, 10))  # Set x-axis ticks for every 10 epochs\n",
        "            ax.set_xticklabels(range(0, max_epoch + 1, 10))  # Set x-axis tick labels for every 10 epochs\n",
        "\n",
        "    plt.tight_layout()\n",
        "    plt.show()\n",
        "\n",
        "# Example usage\n",
        "save_path = 'Denoisingresult'\n",
        "create_and_display_plots_1x2(save_path)\n"
      ]
    }
  ],
  "metadata": {
    "accelerator": "GPU",
    "colab": {
      "gpuType": "L4",
      "provenance": []
    },
    "kernelspec": {
      "display_name": "Python 3",
      "name": "python3"
    },
    "language_info": {
      "codemirror_mode": {
        "name": "ipython",
        "version": 3
      },
      "file_extension": ".py",
      "mimetype": "text/x-python",
      "name": "python",
      "nbconvert_exporter": "python",
      "pygments_lexer": "ipython3",
      "version": "3.11.9"
    }
  },
  "nbformat": 4,
  "nbformat_minor": 0
}